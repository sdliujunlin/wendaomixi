{
  "cells": [
    {
      "cell_type": "markdown",
      "source": [
        "WenDao_Liu"
      ],
      "metadata": {
        "id": "xGOwYDhgn0ND"
      }
    },
    {
      "cell_type": "code",
      "source": [
        "@misc{chen2023semantic,\n",
        "    title = {Semantic Segment Anything},\n",
        "    author = {Chen, Jiaqi and Yang, Zeyu and Zhang, Li},\n",
        "    howpublished = {\\url{https://github.com/fudan-zvg/Semantic-Segment-Anything}},\n",
        "    year = {2023}\n",
        "}"
      ],
      "metadata": {
        "id": "T4VyFuvMoRNM"
      },
      "execution_count": null,
      "outputs": []
    },
    {
      "cell_type": "code",
      "execution_count": 1,
      "metadata": {
        "colab": {
          "base_uri": "https://localhost:8080/"
        },
        "id": "E78GVt-uLCsL",
        "outputId": "05efdf70-43ea-4a14-8e88-1eadaa4ae59d"
      },
      "outputs": [
        {
          "output_type": "stream",
          "name": "stdout",
          "text": [
            "Mounted at /content/drive\n"
          ]
        }
      ],
      "source": [
        "#连接谷歌drive\n",
        "from google.colab import drive\n",
        "drive.mount('/content/drive')\n"
      ]
    },
    {
      "cell_type": "code",
      "source": [
        "#RAM\n",
        "from psutil import virtual_memory\n",
        "ram_gb = virtual_memory().total / 1e9\n",
        "print('Your runtime has {:.1f} gigabytes of available RAM\\n'.format(ram_gb))"
      ],
      "metadata": {
        "colab": {
          "base_uri": "https://localhost:8080/"
        },
        "id": "bz-f1mQ953u5",
        "outputId": "8e95c065-cac9-4abc-fedb-f2c44d5e2c62"
      },
      "execution_count": 2,
      "outputs": [
        {
          "output_type": "stream",
          "name": "stdout",
          "text": [
            "Your runtime has 27.3 gigabytes of available RAM\n",
            "\n"
          ]
        }
      ]
    },
    {
      "cell_type": "code",
      "source": [
        "#显卡信息\n",
        "!nvidia-smi"
      ],
      "metadata": {
        "colab": {
          "base_uri": "https://localhost:8080/"
        },
        "id": "Mgq01vcZ578K",
        "outputId": "d6da8b9d-2f79-4d91-cb54-c635a2a73a3b"
      },
      "execution_count": 3,
      "outputs": [
        {
          "output_type": "stream",
          "name": "stdout",
          "text": [
            "Fri Jun 16 11:48:44 2023       \n",
            "+-----------------------------------------------------------------------------+\n",
            "| NVIDIA-SMI 525.85.12    Driver Version: 525.85.12    CUDA Version: 12.0     |\n",
            "|-------------------------------+----------------------+----------------------+\n",
            "| GPU  Name        Persistence-M| Bus-Id        Disp.A | Volatile Uncorr. ECC |\n",
            "| Fan  Temp  Perf  Pwr:Usage/Cap|         Memory-Usage | GPU-Util  Compute M. |\n",
            "|                               |                      |               MIG M. |\n",
            "|===============================+======================+======================|\n",
            "|   0  Tesla V100-SXM2...  Off  | 00000000:00:04.0 Off |                    0 |\n",
            "| N/A   35C    P0    23W / 300W |      0MiB / 16384MiB |      0%      Default |\n",
            "|                               |                      |                  N/A |\n",
            "+-------------------------------+----------------------+----------------------+\n",
            "                                                                               \n",
            "+-----------------------------------------------------------------------------+\n",
            "| Processes:                                                                  |\n",
            "|  GPU   GI   CI        PID   Type   Process name                  GPU Memory |\n",
            "|        ID   ID                                                   Usage      |\n",
            "|=============================================================================|\n",
            "|  No running processes found                                                 |\n",
            "+-----------------------------------------------------------------------------+\n"
          ]
        }
      ]
    },
    {
      "cell_type": "code",
      "execution_count": 4,
      "metadata": {
        "colab": {
          "base_uri": "https://localhost:8080/"
        },
        "id": "6uB6IfSzapCe",
        "outputId": "78aea75e-246a-4bb8-9ace-58ff0955adab"
      },
      "outputs": [
        {
          "output_type": "stream",
          "name": "stdout",
          "text": [
            "Cloning into 'Semantic-Segment-Anything'...\n",
            "remote: Enumerating objects: 281, done.\u001b[K\n",
            "remote: Counting objects: 100% (48/48), done.\u001b[K\n",
            "remote: Compressing objects: 100% (28/28), done.\u001b[K\n",
            "remote: Total 281 (delta 31), reused 32 (delta 20), pack-reused 233\u001b[K\n",
            "Receiving objects: 100% (281/281), 95.44 MiB | 25.08 MiB/s, done.\n",
            "Resolving deltas: 100% (133/133), done.\n"
          ]
        }
      ],
      "source": [
        "#下载Semantic-Segment-Anything到虚拟机\n",
        "!git clone https://github.com/fudan-zvg/Semantic-Segment-Anything.git"
      ]
    },
    {
      "cell_type": "code",
      "source": [
        "#切换python版本！要手动输入2选择3.8！\n",
        "!sudo update-alternatives --install /usr/bin/python3 python3 /usr/bin/python3.8\n",
        "!sudo update-alternatives --config python3"
      ],
      "metadata": {
        "colab": {
          "base_uri": "https://localhost:8080/"
        },
        "id": "KaCsvl1P8hPw",
        "outputId": "d5715f50-7c68-4603-85fa-1aa80d9e8af0"
      },
      "execution_count": 5,
      "outputs": [
        {
          "output_type": "stream",
          "name": "stdout",
          "text": [
            "update-alternatives: --install needs <link> <name> <path> <priority>\n",
            "\n",
            "Use 'update-alternatives --help' for program usage information.\n",
            "There are 2 choices for the alternative python3 (providing /usr/bin/python3).\n",
            "\n",
            "  Selection    Path                 Priority   Status\n",
            "------------------------------------------------------------\n",
            "* 0            /usr/bin/python3.10   2         auto mode\n",
            "  1            /usr/bin/python3.10   2         manual mode\n",
            "  2            /usr/bin/python3.8    1         manual mode\n",
            "\n",
            "Press <enter> to keep the current choice[*], or type selection number: 2\n",
            "update-alternatives: using /usr/bin/python3.8 to provide /usr/bin/python3 (python3) in manual mode\n"
          ]
        }
      ]
    },
    {
      "cell_type": "code",
      "source": [
        "#python版本查询\n",
        "!python --version"
      ],
      "metadata": {
        "colab": {
          "base_uri": "https://localhost:8080/"
        },
        "id": "2KXn-wDN2kQo",
        "outputId": "c8885bf5-38ec-4b4b-8eb8-1978880d7dc7"
      },
      "execution_count": 6,
      "outputs": [
        {
          "output_type": "stream",
          "name": "stdout",
          "text": [
            "Python 3.8.10\n"
          ]
        }
      ]
    },
    {
      "cell_type": "code",
      "source": [
        "#下载Miniconda3（版本python38）\n",
        "!wget -c https://repo.anaconda.com/miniconda/Miniconda3-py38_23.3.1-0-Linux-x86_64.sh\n",
        "!ls\n",
        "!chmod +x Miniconda3-py38_23.3.1-0-Linux-x86_64.sh"
      ],
      "metadata": {
        "colab": {
          "base_uri": "https://localhost:8080/"
        },
        "id": "ZfcZxmPX1O_7",
        "outputId": "35ec2c9c-59b9-4927-dfff-9606e941fa20"
      },
      "execution_count": 7,
      "outputs": [
        {
          "output_type": "stream",
          "name": "stdout",
          "text": [
            "--2023-06-16 11:51:00--  https://repo.anaconda.com/miniconda/Miniconda3-py38_23.3.1-0-Linux-x86_64.sh\n",
            "Resolving repo.anaconda.com (repo.anaconda.com)... 104.16.130.3, 104.16.131.3, 2606:4700::6810:8303, ...\n",
            "Connecting to repo.anaconda.com (repo.anaconda.com)|104.16.130.3|:443... connected.\n",
            "HTTP request sent, awaiting response... 200 OK\n",
            "Length: 69017894 (66M) [application/x-sh]\n",
            "Saving to: ‘Miniconda3-py38_23.3.1-0-Linux-x86_64.sh’\n",
            "\n",
            "Miniconda3-py38_23. 100%[===================>]  65.82M   200MB/s    in 0.3s    \n",
            "\n",
            "2023-06-16 11:51:01 (200 MB/s) - ‘Miniconda3-py38_23.3.1-0-Linux-x86_64.sh’ saved [69017894/69017894]\n",
            "\n",
            "drive\t\t\t\t\t  sample_data\n",
            "Miniconda3-py38_23.3.1-0-Linux-x86_64.sh  Semantic-Segment-Anything\n"
          ]
        }
      ]
    },
    {
      "cell_type": "code",
      "source": [
        "#说明：安装文件名称：Miniconda3-py37_4.10.3-Linux-x86_64.sh。安装路径：/usr/local\n",
        "%env PYTHONPATH=\n",
        "!./Miniconda3-py38_23.3.1-0-Linux-x86_64.sh -b -f -p /usr/local"
      ],
      "metadata": {
        "colab": {
          "base_uri": "https://localhost:8080/"
        },
        "id": "5TmOKYdgGPjK",
        "outputId": "d602a741-e98b-4893-b7ad-31762f6ad1e4"
      },
      "execution_count": 8,
      "outputs": [
        {
          "output_type": "stream",
          "name": "stdout",
          "text": [
            "env: PYTHONPATH=\n",
            "PREFIX=/usr/local\n",
            "Unpacking payload ...\n",
            "                                                                              \n",
            "Installing base environment...\n",
            "\n",
            "\n",
            "Downloading and Extracting Packages\n",
            "\n",
            "\n",
            "Downloading and Extracting Packages\n",
            "\n",
            "Preparing transaction: - \b\b\\ \b\b| \b\b/ \b\bdone\n",
            "Executing transaction: \\ \b\b| \b\b/ \b\b- \b\b\\ \b\b| \b\b/ \b\b- \b\b\\ \b\b| \b\b/ \b\b- \b\b\\ \b\b| \b\b/ \b\b- \b\b\\ \b\b| \b\b/ \b\b- \b\bdone\n",
            "installation finished.\n"
          ]
        }
      ]
    },
    {
      "cell_type": "code",
      "source": [
        "#conda python信息检查\n",
        "!which conda\n",
        "!conda --version\n",
        "!which python\n",
        "!python -V"
      ],
      "metadata": {
        "colab": {
          "base_uri": "https://localhost:8080/"
        },
        "id": "Zk3ugvuA61vl",
        "outputId": "b7849b89-ef2e-4911-828a-a89ac9763acd"
      },
      "execution_count": 9,
      "outputs": [
        {
          "output_type": "stream",
          "name": "stdout",
          "text": [
            "/usr/local/bin/conda\n",
            "conda 23.3.1\n",
            "/usr/local/bin/python\n",
            "Python 3.8.16\n"
          ]
        }
      ]
    },
    {
      "cell_type": "code",
      "source": [
        "#添加环境变量\n",
        "import sys\n",
        "_ = (sys.path.append(\"/usr/local/lib/python3.8/site-packages\"))"
      ],
      "metadata": {
        "id": "geClgH5V7QvC"
      },
      "execution_count": 10,
      "outputs": []
    },
    {
      "cell_type": "code",
      "source": [
        "import sys\n",
        "sys.path"
      ],
      "metadata": {
        "colab": {
          "base_uri": "https://localhost:8080/"
        },
        "id": "3OUlpYmT7gI1",
        "outputId": "8c4cdd66-f1ae-4c08-e8bf-90106b239351"
      },
      "execution_count": 11,
      "outputs": [
        {
          "output_type": "execute_result",
          "data": {
            "text/plain": [
              "['/content',\n",
              " '/env/python',\n",
              " '/usr/lib/python310.zip',\n",
              " '/usr/lib/python3.10',\n",
              " '/usr/lib/python3.10/lib-dynload',\n",
              " '',\n",
              " '/usr/local/lib/python3.10/dist-packages',\n",
              " '/usr/lib/python3/dist-packages',\n",
              " '/usr/local/lib/python3.10/dist-packages/IPython/extensions',\n",
              " '/root/.ipython',\n",
              " '/usr/local/lib/python3.8/site-packages']"
            ]
          },
          "metadata": {},
          "execution_count": 11
        }
      ]
    },
    {
      "cell_type": "code",
      "source": [
        "#查看Python的所有环境变量\n",
        "!ls /usr/local/lib/python3.8/dist-packages"
      ],
      "metadata": {
        "id": "J4WcoqRs7vK0"
      },
      "execution_count": 14,
      "outputs": []
    },
    {
      "cell_type": "code",
      "source": [
        "#查看conda环境\n",
        "!python -V\n",
        "!conda env list"
      ],
      "metadata": {
        "colab": {
          "base_uri": "https://localhost:8080/"
        },
        "id": "kcS7-p5V74yB",
        "outputId": "caf70954-c03e-4e6e-9f56-e67b143e7e28"
      },
      "execution_count": 15,
      "outputs": [
        {
          "output_type": "stream",
          "name": "stdout",
          "text": [
            "Python 3.8.16\n",
            "# conda environments:\n",
            "#\n",
            "base                     /usr/local\n",
            "\n"
          ]
        }
      ]
    },
    {
      "cell_type": "code",
      "source": [
        "#将所有Conda的依赖项更新为它们的最新版本\n",
        "!conda update --channel defaults --all --yes"
      ],
      "metadata": {
        "colab": {
          "base_uri": "https://localhost:8080/"
        },
        "id": "qln4VX8z8MlJ",
        "outputId": "3209205e-6bc1-47ba-eca3-11fbc9669ed9"
      },
      "execution_count": 16,
      "outputs": [
        {
          "output_type": "stream",
          "name": "stdout",
          "text": [
            "Collecting package metadata (current_repodata.json): - \b\b\\ \b\b| \b\b/ \b\b- \b\b\\ \b\b| \b\b/ \b\b- \b\b\\ \b\b| \b\b/ \b\b- \b\b\\ \b\b| \b\b/ \b\b- \b\b\\ \b\b| \b\b/ \b\b- \b\b\\ \b\b| \b\b/ \b\b- \b\b\\ \b\b| \b\b/ \b\b- \b\bdone\n",
            "Solving environment: | \b\b/ \b\b- \b\b\\ \b\b| \b\b/ \b\b- \b\b\\ \b\bdone\n",
            "\n",
            "## Package Plan ##\n",
            "\n",
            "  environment location: /usr/local\n",
            "\n",
            "\n",
            "The following packages will be downloaded:\n",
            "\n",
            "    package                    |            build\n",
            "    ---------------------------|-----------------\n",
            "    ca-certificates-2023.05.30 |       h06a4308_0         120 KB\n",
            "    certifi-2023.5.7           |   py38h06a4308_0         152 KB\n",
            "    conda-23.5.0               |   py38h06a4308_0         1.0 MB\n",
            "    conda-package-handling-2.1.0|   py38h06a4308_0         268 KB\n",
            "    conda-package-streaming-0.8.0|   py38h06a4308_0          27 KB\n",
            "    cryptography-39.0.1        |   py38h9ce1e76_2         1.4 MB\n",
            "    libffi-3.4.4               |       h6a678d5_0         142 KB\n",
            "    openssl-3.0.8              |       h7f8727e_0         5.2 MB\n",
            "    pip-23.1.2                 |   py38h06a4308_0         2.6 MB\n",
            "    python-3.8.16              |       h955ad1f_4        23.9 MB\n",
            "    requests-2.29.0            |   py38h06a4308_0          96 KB\n",
            "    setuptools-67.8.0          |   py38h06a4308_0         1.0 MB\n",
            "    sqlite-3.41.2              |       h5eee18b_0         1.2 MB\n",
            "    urllib3-1.26.16            |   py38h06a4308_0         200 KB\n",
            "    xz-5.4.2                   |       h5eee18b_0         642 KB\n",
            "    ------------------------------------------------------------\n",
            "                                           Total:        37.9 MB\n",
            "\n",
            "The following packages will be UPDATED:\n",
            "\n",
            "  ca-certificates                     2023.01.10-h06a4308_0 --> 2023.05.30-h06a4308_0 \n",
            "  certifi                          2022.12.7-py38h06a4308_0 --> 2023.5.7-py38h06a4308_0 \n",
            "  conda                               23.3.1-py38h06a4308_0 --> 23.5.0-py38h06a4308_0 \n",
            "  conda-package-han~                   2.0.2-py38h06a4308_0 --> 2.1.0-py38h06a4308_0 \n",
            "  conda-package-str~                   0.7.0-py38h06a4308_0 --> 0.8.0-py38h06a4308_0 \n",
            "  cryptography                        39.0.1-py38h9ce1e76_0 --> 39.0.1-py38h9ce1e76_2 \n",
            "  libffi                                   3.4.2-h6a678d5_6 --> 3.4.4-h6a678d5_0 \n",
            "  openssl                                 1.1.1t-h7f8727e_0 --> 3.0.8-h7f8727e_0 \n",
            "  pip                                 23.0.1-py38h06a4308_0 --> 23.1.2-py38h06a4308_0 \n",
            "  python                                  3.8.16-h7a1cb2a_3 --> 3.8.16-h955ad1f_4 \n",
            "  requests                            2.28.1-py38h06a4308_1 --> 2.29.0-py38h06a4308_0 \n",
            "  setuptools                          65.6.3-py38h06a4308_0 --> 67.8.0-py38h06a4308_0 \n",
            "  sqlite                                  3.41.1-h5eee18b_0 --> 3.41.2-h5eee18b_0 \n",
            "  urllib3                            1.26.15-py38h06a4308_0 --> 1.26.16-py38h06a4308_0 \n",
            "  xz                                      5.2.10-h5eee18b_1 --> 5.4.2-h5eee18b_0 \n",
            "\n",
            "\n",
            "\n",
            "Downloading and Extracting Packages\n",
            "xz-5.4.2             | 642 KB    | :   0% 0/1 [00:00<?, ?it/s]\n",
            "urllib3-1.26.16      | 200 KB    | :   0% 0/1 [00:00<?, ?it/s]\u001b[A\n",
            "\n",
            "certifi-2023.5.7     | 152 KB    | :   0% 0/1 [00:00<?, ?it/s]\u001b[A\u001b[A\n",
            "\n",
            "\n",
            "python-3.8.16        | 23.9 MB   | :   0% 0/1 [00:00<?, ?it/s]\u001b[A\u001b[A\u001b[A\n",
            "\n",
            "\n",
            "\n",
            "requests-2.29.0      | 96 KB     | :   0% 0/1 [00:00<?, ?it/s]\u001b[A\u001b[A\u001b[A\u001b[A\n",
            "\n",
            "\n",
            "\n",
            "\n",
            "libffi-3.4.4         | 142 KB    | :   0% 0/1 [00:00<?, ?it/s]\u001b[A\u001b[A\u001b[A\u001b[A\u001b[A\n",
            "\n",
            "\n",
            "\n",
            "\n",
            "\n",
            "conda-package-stream | 27 KB     | :   0% 0/1 [00:00<?, ?it/s]\u001b[A\u001b[A\u001b[A\u001b[A\u001b[A\u001b[A\n",
            "\n",
            "\n",
            "\n",
            "\n",
            "\n",
            "\n",
            "conda-23.5.0         | 1.0 MB    | :   0% 0/1 [00:00<?, ?it/s]\u001b[A\u001b[A\u001b[A\u001b[A\u001b[A\u001b[A\u001b[A\n",
            "\n",
            "\n",
            "\n",
            "\n",
            "\n",
            "\n",
            "\n",
            "pip-23.1.2           | 2.6 MB    | :   0% 0/1 [00:00<?, ?it/s]\u001b[A\u001b[A\u001b[A\u001b[A\u001b[A\u001b[A\u001b[A\u001b[A\n",
            "\n",
            "\n",
            "\n",
            "\n",
            "\n",
            "\n",
            "\n",
            "\n",
            "openssl-3.0.8        | 5.2 MB    | :   0% 0/1 [00:00<?, ?it/s]\u001b[A\u001b[A\u001b[A\u001b[A\u001b[A\u001b[A\u001b[A\u001b[A\u001b[A\n",
            "\n",
            "\n",
            "\n",
            "\n",
            "\n",
            "\n",
            "\n",
            "\n",
            "\n",
            "sqlite-3.41.2        | 1.2 MB    | :   0% 0/1 [00:00<?, ?it/s]\u001b[A\u001b[A\u001b[A\u001b[A\u001b[A\u001b[A\u001b[A\u001b[A\u001b[A\u001b[A\n",
            "\n",
            "\n",
            "\n",
            "\n",
            "\n",
            "\n",
            "\n",
            "\n",
            "\n",
            "\n",
            "cryptography-39.0.1  | 1.4 MB    | :   0% 0/1 [00:00<?, ?it/s]\u001b[A\u001b[A\u001b[A\u001b[A\u001b[A\u001b[A\u001b[A\u001b[A\u001b[A\u001b[A\u001b[A\n",
            "\n",
            "\n",
            "\n",
            "\n",
            "\n",
            "\n",
            "\n",
            "\n",
            "\n",
            "\n",
            "\n",
            "ca-certificates-2023 | 120 KB    | :   0% 0/1 [00:00<?, ?it/s]\u001b[A\u001b[A\u001b[A\u001b[A\u001b[A\u001b[A\u001b[A\u001b[A\u001b[A\u001b[A\u001b[A\u001b[A\n",
            "\n",
            "\n",
            "\n",
            "\n",
            "\n",
            "\n",
            "\n",
            "\n",
            "\n",
            "\n",
            "\n",
            "\n",
            "conda-package-handli | 268 KB    | :   0% 0/1 [00:00<?, ?it/s]\u001b[A\u001b[A\u001b[A\u001b[A\u001b[A\u001b[A\u001b[A\u001b[A\u001b[A\u001b[A\u001b[A\u001b[A\u001b[A\n",
            "\n",
            "\n",
            "\n",
            "\n",
            "\n",
            "\n",
            "\n",
            "\n",
            "\n",
            "\n",
            "\n",
            "\n",
            "\n",
            "xz-5.4.2             | 642 KB    | :  90% 0.8975771880407043/1 [00:00<00:00,  8.85it/s]\n",
            "\n",
            "\n",
            "python-3.8.16        | 23.9 MB   | :   2% 0.020895293134832404/1 [00:00<00:04,  4.81s/it]\u001b[A\u001b[A\u001b[A\n",
            "\n",
            "\n",
            "\n",
            "\n",
            "\n",
            "\n",
            "conda-23.5.0         | 1.0 MB    | :  47% 0.4684805929207504/1 [00:00<00:00,  4.63it/s]\u001b[A\u001b[A\u001b[A\u001b[A\u001b[A\u001b[A\u001b[A\n",
            "\n",
            "\n",
            "\n",
            "\n",
            "\n",
            "\n",
            "\n",
            "pip-23.1.2           | 2.6 MB    | :   7% 0.07345910295363821/1 [00:00<00:01,  1.38s/it]\u001b[A\u001b[A\u001b[A\u001b[A\u001b[A\u001b[A\u001b[A\u001b[A\n",
            "\n",
            "\n",
            "\n",
            "\n",
            "\n",
            "\n",
            "\n",
            "\n",
            "openssl-3.0.8        | 5.2 MB    | :   4% 0.0390329578820398/1 [00:00<00:02,  2.58s/it]\u001b[A\u001b[A\u001b[A\u001b[A\u001b[A\u001b[A\u001b[A\u001b[A\u001b[A\n",
            "\n",
            "\n",
            "\n",
            "\n",
            "\n",
            "\n",
            "\n",
            "\n",
            "\n",
            "sqlite-3.41.2        | 1.2 MB    | :   1% 0.013323043970761513/1 [00:00<00:08,  9.00s/it]\u001b[A\u001b[A\u001b[A\u001b[A\u001b[A\u001b[A\u001b[A\u001b[A\u001b[A\u001b[A\n",
            "\n",
            "\n",
            "\n",
            "\n",
            "\n",
            "\n",
            "\n",
            "\n",
            "\n",
            "\n",
            "cryptography-39.0.1  | 1.4 MB    | :   1% 0.011047644991911834/1 [00:00<00:13, 13.88s/it]\u001b[A\u001b[A\u001b[A\u001b[A\u001b[A\u001b[A\u001b[A\u001b[A\u001b[A\u001b[A\u001b[A\n",
            "\n",
            "certifi-2023.5.7     | 152 KB    | : 100% 1.0/1 [00:00<00:00,  5.08it/s]\u001b[A\u001b[A\n",
            "\n",
            "certifi-2023.5.7     | 152 KB    | : 100% 1.0/1 [00:00<00:00,  5.08it/s]\u001b[A\u001b[A\n",
            "\n",
            "\n",
            "python-3.8.16        | 23.9 MB   | :   9% 0.08684606209164719/1 [00:00<00:01,  2.13s/it] \u001b[A\u001b[A\u001b[A\n",
            "\n",
            "\n",
            "\n",
            "\n",
            "\n",
            "\n",
            "\n",
            "\n",
            "openssl-3.0.8        | 5.2 MB    | :  35% 0.34829408571666287/1 [00:00<00:00,  1.97it/s]\u001b[A\u001b[A\u001b[A\u001b[A\u001b[A\u001b[A\u001b[A\u001b[A\u001b[A\n",
            "\n",
            "\n",
            "\n",
            "\n",
            "\n",
            "\n",
            "\n",
            "pip-23.1.2           | 2.6 MB    | :  68% 0.6794967023211534/1 [00:00<00:00,  3.83it/s] \u001b[A\u001b[A\u001b[A\u001b[A\u001b[A\u001b[A\u001b[A\u001b[A\n",
            "\n",
            "\n",
            "\n",
            "\n",
            "\n",
            "\n",
            "\n",
            "\n",
            "\n",
            "\n",
            "\n",
            "ca-certificates-2023 | 120 KB    | :  13% 0.1336454773111026/1 [00:00<00:01,  1.60s/it]\u001b[A\u001b[A\u001b[A\u001b[A\u001b[A\u001b[A\u001b[A\u001b[A\u001b[A\u001b[A\u001b[A\u001b[A\n",
            "\n",
            "\n",
            "\n",
            "\n",
            "\n",
            "\n",
            "\n",
            "\n",
            "\n",
            "\n",
            "\n",
            "\n",
            "conda-package-handli | 268 KB    | :   6% 0.05961611934867643/1 [00:00<00:03,  4.06s/it]\u001b[A\u001b[A\u001b[A\u001b[A\u001b[A\u001b[A\u001b[A\u001b[A\u001b[A\u001b[A\u001b[A\u001b[A\u001b[A\n",
            "\n",
            "\n",
            "\n",
            "requests-2.29.0      | 96 KB     | : 100% 1.0/1 [00:00<00:00,  3.67it/s]\u001b[A\u001b[A\u001b[A\u001b[A\n",
            "\n",
            "\n",
            "\n",
            "requests-2.29.0      | 96 KB     | : 100% 1.0/1 [00:00<00:00,  3.67it/s]\u001b[A\u001b[A\u001b[A\u001b[A\n",
            "\n",
            "\n",
            "\n",
            "\n",
            "\n",
            "\n",
            "\n",
            "\n",
            "\n",
            "\n",
            "\n",
            "\n",
            "\n",
            "setuptools-67.8.0    | 1.0 MB    | :   2% 0.01517427634150272/1 [00:00<00:17, 17.67s/it]\u001b[A\u001b[A\u001b[A\u001b[A\u001b[A\u001b[A\u001b[A\u001b[A\u001b[A\u001b[A\u001b[A\u001b[A\u001b[A\u001b[A\n",
            "\n",
            "\n",
            "python-3.8.16        | 23.9 MB   | :  15% 0.1534498089589255/1 [00:00<00:01,  1.79s/it] \u001b[A\u001b[A\u001b[A\n",
            "\n",
            "\n",
            "\n",
            "\n",
            "\n",
            "\n",
            "\n",
            "\n",
            "openssl-3.0.8        | 5.2 MB    | :  68% 0.6785729601031535/1 [00:00<00:00,  2.58it/s] \u001b[A\u001b[A\u001b[A\u001b[A\u001b[A\u001b[A\u001b[A\u001b[A\u001b[A\n",
            "\n",
            "\n",
            "\n",
            "\n",
            "\n",
            "conda-package-stream | 27 KB     | : 100% 1.0/1 [00:00<00:00,  3.12it/s]\u001b[A\u001b[A\u001b[A\u001b[A\u001b[A\u001b[A\n",
            "\n",
            "\n",
            "\n",
            "\n",
            "\n",
            "conda-package-stream | 27 KB     | : 100% 1.0/1 [00:00<00:00,  3.12it/s]\u001b[A\u001b[A\u001b[A\u001b[A\u001b[A\u001b[A\n",
            "urllib3-1.26.16      | 200 KB    | : 100% 1.0/1 [00:00<00:00,  2.47it/s]\u001b[A\n",
            "urllib3-1.26.16      | 200 KB    | : 100% 1.0/1 [00:00<00:00,  2.47it/s]\u001b[A\n",
            "\n",
            "\n",
            "python-3.8.16        | 23.9 MB   | :  25% 0.2468256501552078/1 [00:00<00:01,  1.42s/it]\u001b[A\u001b[A\u001b[A\n",
            "\n",
            "\n",
            "python-3.8.16        | 23.9 MB   | :  35% 0.34934318209797927/1 [00:00<00:00,  1.22s/it]\u001b[A\u001b[A\u001b[A\n",
            "\n",
            "\n",
            "python-3.8.16        | 23.9 MB   | :  45% 0.45251369195121427/1 [00:00<00:00,  1.13s/it]\u001b[A\u001b[A\u001b[A\n",
            "\n",
            "\n",
            "python-3.8.16        | 23.9 MB   | :  55% 0.5491544226998142/1 [00:00<00:00,  1.10s/it] \u001b[A\u001b[A\u001b[A\n",
            "\n",
            "\n",
            "\n",
            "\n",
            "libffi-3.4.4         | 142 KB    | : 100% 1.0/1 [00:00<00:00,  1.35it/s]\u001b[A\u001b[A\u001b[A\u001b[A\u001b[A\n",
            "\n",
            "\n",
            "\n",
            "\n",
            "libffi-3.4.4         | 142 KB    | : 100% 1.0/1 [00:00<00:00,  1.35it/s]\u001b[A\u001b[A\u001b[A\u001b[A\u001b[A\n",
            "\n",
            "\n",
            "xz-5.4.2             | 642 KB    | : 100% 1.0/1 [00:00<00:00,  8.85it/s]               \n",
            "\n",
            "\n",
            "\n",
            "\n",
            "\n",
            "\n",
            "\n",
            "\n",
            "\n",
            "sqlite-3.41.2        | 1.2 MB    | : 100% 1.0/1 [00:00<00:00,  1.23it/s]                 \u001b[A\u001b[A\u001b[A\u001b[A\u001b[A\u001b[A\u001b[A\u001b[A\u001b[A\u001b[A\n",
            "\n",
            "\n",
            "\n",
            "\n",
            "\n",
            "\n",
            "\n",
            "\n",
            "\n",
            "sqlite-3.41.2        | 1.2 MB    | : 100% 1.0/1 [00:00<00:00,  1.23it/s]\u001b[A\u001b[A\u001b[A\u001b[A\u001b[A\u001b[A\u001b[A\u001b[A\u001b[A\u001b[A\n",
            "\n",
            "\n",
            "\n",
            "\n",
            "\n",
            "\n",
            "\n",
            "\n",
            "\n",
            "\n",
            "\n",
            "ca-certificates-2023 | 120 KB    | : 100% 1.0/1 [00:00<00:00,  1.20it/s]               \u001b[A\u001b[A\u001b[A\u001b[A\u001b[A\u001b[A\u001b[A\u001b[A\u001b[A\u001b[A\u001b[A\u001b[A\n",
            "\n",
            "\n",
            "\n",
            "\n",
            "\n",
            "\n",
            "\n",
            "\n",
            "\n",
            "\n",
            "\n",
            "ca-certificates-2023 | 120 KB    | : 100% 1.0/1 [00:00<00:00,  1.20it/s]\u001b[A\u001b[A\u001b[A\u001b[A\u001b[A\u001b[A\u001b[A\u001b[A\u001b[A\u001b[A\u001b[A\u001b[A\n",
            "\n",
            "\n",
            "python-3.8.16        | 23.9 MB   | :  77% 0.7685550006155545/1 [00:00<00:00,  1.01it/s]\u001b[A\u001b[A\u001b[A\n",
            "\n",
            "\n",
            "python-3.8.16        | 23.9 MB   | :  88% 0.8782552895734246/1 [00:01<00:00,  1.04it/s]\u001b[A\u001b[A\u001b[A\n",
            "\n",
            "\n",
            "python-3.8.16        | 23.9 MB   | : 100% 0.9957913134568569/1 [00:01<00:00,  1.08it/s]\u001b[A\u001b[A\u001b[A\n",
            "\n",
            "\n",
            "\n",
            "\n",
            "\n",
            "\n",
            "conda-23.5.0         | 1.0 MB    | : 100% 1.0/1 [00:01<00:00,  1.49s/it]               \u001b[A\u001b[A\u001b[A\u001b[A\u001b[A\u001b[A\u001b[A\n",
            "\n",
            "\n",
            "\n",
            "\n",
            "\n",
            "\n",
            "conda-23.5.0         | 1.0 MB    | : 100% 1.0/1 [00:01<00:00,  1.49s/it]\u001b[A\u001b[A\u001b[A\u001b[A\u001b[A\u001b[A\u001b[A\n",
            "\n",
            "\n",
            "\n",
            "\n",
            "\n",
            "\n",
            "\n",
            "\n",
            "\n",
            "\n",
            "cryptography-39.0.1  | 1.4 MB    | : 100% 1.0/1 [00:01<00:00,  1.31s/it]                 \u001b[A\u001b[A\u001b[A\u001b[A\u001b[A\u001b[A\u001b[A\u001b[A\u001b[A\u001b[A\u001b[A\n",
            "\n",
            "\n",
            "\n",
            "\n",
            "\n",
            "\n",
            "\n",
            "\n",
            "\n",
            "\n",
            "cryptography-39.0.1  | 1.4 MB    | : 100% 1.0/1 [00:01<00:00,  1.31s/it]\u001b[A\u001b[A\u001b[A\u001b[A\u001b[A\u001b[A\u001b[A\u001b[A\u001b[A\u001b[A\u001b[A\n",
            "\n",
            "\n",
            "\n",
            "\n",
            "\n",
            "\n",
            "\n",
            "\n",
            "\n",
            "\n",
            "\n",
            "\n",
            "conda-package-handli | 268 KB    | : 100% 1.0/1 [00:01<00:00,  1.32s/it]                \u001b[A\u001b[A\u001b[A\u001b[A\u001b[A\u001b[A\u001b[A\u001b[A\u001b[A\u001b[A\u001b[A\u001b[A\u001b[A\n",
            "\n",
            "\n",
            "\n",
            "\n",
            "\n",
            "\n",
            "\n",
            "\n",
            "\n",
            "\n",
            "\n",
            "\n",
            "conda-package-handli | 268 KB    | : 100% 1.0/1 [00:01<00:00,  1.32s/it]\u001b[A\u001b[A\u001b[A\u001b[A\u001b[A\u001b[A\u001b[A\u001b[A\u001b[A\u001b[A\u001b[A\u001b[A\u001b[A\n",
            "\n",
            "\n",
            "\n",
            "\n",
            "\n",
            "\n",
            "\n",
            "\n",
            "openssl-3.0.8        | 5.2 MB    | : 100% 1.0/1 [00:01<00:00,  2.17s/it]               \u001b[A\u001b[A\u001b[A\u001b[A\u001b[A\u001b[A\u001b[A\u001b[A\u001b[A\n",
            "\n",
            "\n",
            "\n",
            "\n",
            "\n",
            "\n",
            "\n",
            "\n",
            "openssl-3.0.8        | 5.2 MB    | : 100% 1.0/1 [00:01<00:00,  2.17s/it]\u001b[A\u001b[A\u001b[A\u001b[A\u001b[A\u001b[A\u001b[A\u001b[A\u001b[A\n",
            "\n",
            "\n",
            "\n",
            "\n",
            "\n",
            "\n",
            "\n",
            "\n",
            "\n",
            "\n",
            "\n",
            "\n",
            "\n",
            "setuptools-67.8.0    | 1.0 MB    | : 100% 1.0/1 [00:02<00:00,  1.96s/it]                \u001b[A\u001b[A\u001b[A\u001b[A\u001b[A\u001b[A\u001b[A\u001b[A\u001b[A\u001b[A\u001b[A\u001b[A\u001b[A\u001b[A\n",
            "\n",
            "\n",
            "\n",
            "\n",
            "\n",
            "\n",
            "\n",
            "\n",
            "\n",
            "\n",
            "\n",
            "\n",
            "\n",
            "setuptools-67.8.0    | 1.0 MB    | : 100% 1.0/1 [00:02<00:00,  1.96s/it]\u001b[A\u001b[A\u001b[A\u001b[A\u001b[A\u001b[A\u001b[A\u001b[A\u001b[A\u001b[A\u001b[A\u001b[A\u001b[A\u001b[A\n",
            "\n",
            "\n",
            "\n",
            "\n",
            "\n",
            "\n",
            "\n",
            "pip-23.1.2           | 2.6 MB    | : 100% 1.0/1 [00:02<00:00,  3.83it/s]               \u001b[A\u001b[A\u001b[A\u001b[A\u001b[A\u001b[A\u001b[A\u001b[A\n",
            "\n",
            "\n",
            "                                                                        \n",
            "                                                                        \u001b[A\n",
            "\n",
            "                                                                        \u001b[A\u001b[A\n",
            "\n",
            "\n",
            "                                                                        \u001b[A\u001b[A\u001b[A\n",
            "\n",
            "\n",
            "\n",
            "                                                                        \u001b[A\u001b[A\u001b[A\u001b[A\n",
            "\n",
            "\n",
            "\n",
            "\n",
            "                                                                        \u001b[A\u001b[A\u001b[A\u001b[A\u001b[A\n",
            "\n",
            "\n",
            "\n",
            "\n",
            "\n",
            "                                                                        \u001b[A\u001b[A\u001b[A\u001b[A\u001b[A\u001b[A\n",
            "\n",
            "\n",
            "\n",
            "\n",
            "\n",
            "\n",
            "                                                                        \u001b[A\u001b[A\u001b[A\u001b[A\u001b[A\u001b[A\u001b[A\n",
            "\n",
            "\n",
            "\n",
            "\n",
            "\n",
            "\n",
            "\n",
            "                                                                        \u001b[A\u001b[A\u001b[A\u001b[A\u001b[A\u001b[A\u001b[A\u001b[A\n",
            "\n",
            "\n",
            "\n",
            "\n",
            "\n",
            "\n",
            "\n",
            "\n",
            "                                                                        \u001b[A\u001b[A\u001b[A\u001b[A\u001b[A\u001b[A\u001b[A\u001b[A\u001b[A\n",
            "\n",
            "\n",
            "\n",
            "\n",
            "\n",
            "\n",
            "\n",
            "\n",
            "\n",
            "                                                                        \u001b[A\u001b[A\u001b[A\u001b[A\u001b[A\u001b[A\u001b[A\u001b[A\u001b[A\u001b[A\n",
            "\n",
            "\n",
            "\n",
            "\n",
            "\n",
            "\n",
            "\n",
            "\n",
            "\n",
            "\n",
            "                                                                        \u001b[A\u001b[A\u001b[A\u001b[A\u001b[A\u001b[A\u001b[A\u001b[A\u001b[A\u001b[A\u001b[A\n",
            "\n",
            "\n",
            "\n",
            "\n",
            "\n",
            "\n",
            "\n",
            "\n",
            "\n",
            "\n",
            "\n",
            "                                                                        \u001b[A\u001b[A\u001b[A\u001b[A\u001b[A\u001b[A\u001b[A\u001b[A\u001b[A\u001b[A\u001b[A\u001b[A\n",
            "\n",
            "\n",
            "\n",
            "\n",
            "\n",
            "\n",
            "\n",
            "\n",
            "\n",
            "\n",
            "\n",
            "\n",
            "                                                                        \u001b[A\u001b[A\u001b[A\u001b[A\u001b[A\u001b[A\u001b[A\u001b[A\u001b[A\u001b[A\u001b[A\u001b[A\u001b[A\n",
            "\n",
            "\n",
            "\n",
            "\n",
            "\n",
            "\n",
            "\n",
            "\n",
            "\n",
            "\n",
            "\n",
            "\n",
            "\n",
            "                                                                        \u001b[A\u001b[A\u001b[A\u001b[A\u001b[A\u001b[A\u001b[A\u001b[A\u001b[A\u001b[A\u001b[A\u001b[A\u001b[A\u001b[A\n",
            "Preparing transaction: / \b\b- \b\bdone\n",
            "Verifying transaction: | \b\b/ \b\b- \b\b\\ \b\b| \b\b/ \b\b- \b\b\\ \b\b| \b\bdone\n",
            "Executing transaction: - \b\b\\ \b\b| \b\b/ \b\b- \b\b\\ \b\b| \b\bdone\n"
          ]
        }
      ]
    },
    {
      "cell_type": "code",
      "execution_count": 17,
      "metadata": {
        "colab": {
          "base_uri": "https://localhost:8080/"
        },
        "id": "5zKm6dVLQykk",
        "outputId": "4c635dbc-e8bf-4ecb-9304-92474ad1a8bb"
      },
      "outputs": [
        {
          "output_type": "stream",
          "name": "stdout",
          "text": [
            "Collecting package metadata (repodata.json): - \b\b\\ \b\b| \b\b/ \b\b- \b\b\\ \b\b| \b\b/ \b\b- \b\b\\ \b\b| \b\b/ \b\b- \b\b\\ \b\b| \b\b/ \b\b- \b\b\\ \b\b| \b\b/ \b\b- \b\b\\ \b\b| \b\b/ \b\b- \b\b\\ \b\b| \b\b/ \b\b- \b\b\\ \b\b| \b\b/ \b\b- \b\b\\ \b\b| \b\b/ \b\b- \b\b\\ \b\b| \b\b/ \b\b- \b\b\\ \b\b| \b\b/ \b\b- \b\b\\ \b\b| \b\b/ \b\b- \b\b\\ \b\b| \b\b/ \b\b- \b\b\\ \b\b| \b\b/ \b\b- \b\b\\ \b\b| \b\b/ \b\b- \b\b\\ \b\b| \b\bdone\n",
            "Solving environment: - \b\bdone\n",
            "\n",
            "Downloading and Extracting Packages\n",
            "\n",
            "Preparing transaction: | \b\b/ \b\b- \b\bdone\n",
            "Verifying transaction: | \b\b/ \b\b- \b\b\\ \b\b| \b\b/ \b\b- \b\b\\ \b\b| \b\b/ \b\b- \b\b\\ \b\bdone\n",
            "Executing transaction: / \b\b- \b\b\\ \b\b| \b\b/ \b\b- \b\b\\ \b\bdone\n",
            "Installing pip dependencies: / \b\b- \b\b\\ \b\b| \b\b/ \b\b- \b\b\\ \b\b| \b\b/ \b\b- \b\b\\ \b\b| \b\b/ \b\b- \b\b\\ \b\b| \b\b/ \b\b- \b\b\\ \b\b| \b\b/ \b\b- \b\b\\ \b\b| \b\b/ \b\b- \b\b\\ \b\b| \b\b/ \b\b- \b\b\\ \b\b| \b\b/ \b\b- \b\b\\ \b\b| \b\b/ \b\b- \b\b\\ \b\b| \b\b/ \b\b- \b\b\\ \b\b| \b\b/ \b\b- \b\b\\ \b\b| \b\b/ \b\b- \b\b\\ \b\b| \b\b/ \b\b- \b\b\\ \b\b| \b\b/ \b\b- \b\b\\ \b\b| \b\b/ \b\b- \b\b\\ \b\b| \b\b/ \b\b- \b\b\\ \b\b| \b\b/ \b\b- \b\b\\ \b\b| \b\b/ \b\b- \b\b\\ \b\b| \b\b/ \b\b- \b\b\\ \b\b| \b\b/ \b\b- \b\b\\ \b\b| \b\b/ \b\b- \b\b\\ \b\b| \b\b/ \b\b- \b\b\\ \b\b| \b\b/ \b\b- \b\b\\ \b\b| \b\b/ \b\b- \b\b\\ \b\b| \b\b/ \b\b- \b\b\\ \b\b| \b\b/ \b\b- \b\b\\ \b\b| \b\b/ \b\b- \b\b\\ \b\b| \b\b/ \b\b- \b\b\\ \b\b| \b\b/ \b\b- \b\b\\ \b\b| \b\b/ \b\b- \b\b\\ \b\b| \b\b/ \b\b- \b\b\\ \b\b| \b\b/ \b\b- \b\b\\ \b\b| \b\b/ \b\b- \b\b\\ \b\b| \b\b/ \b\b- \b\b\\ \b\b| \b\b/ \b\b- \b\b\\ \b\b| \b\b/ \b\b- \b\b\\ \b\b| \b\b/ \b\b- \b\b\\ \b\b| \b\b/ \b\b- \b\b\\ \b\b| \b\b/ \b\b- \b\b\\ \b\b| \b\b/ \b\b- \b\b\\ \b\b| \b\b/ \b\b- \b\b\\ \b\b| \b\b/ \b\b- \b\b\\ \b\b| \b\b/ \b\b- \b\b\\ \b\b| \b\b/ \b\b- \b\b\\ \b\b| \b\b/ \b\b- \b\b\\ \b\b| \b\b/ \b\b- \b\b\\ \b\b| \b\b/ \b\b- \b\b\\ \b\b| \b\b/ \b\b- \b\b\\ \b\b| \b\b/ \b\b- \b\b\\ \b\b| \b\b/ \b\b- \b\b\\ \b\b| \b\b/ \b\b- \b\b\\ \b\b| \b\b/ \b\b- \b\b\\ \b\b| \b\b/ \b\b- \b\b\\ \b\b| \b\b/ \b\b- \b\b\\ \b\b| \b\b/ \b\b- \b\b\\ \b\b| \b\b/ \b\b- \b\b\\ \b\b| \b\b/ \b\b- \b\b\\ \b\b| \b\b/ \b\b- \b\b\\ \b\b| \b\b/ \b\b- \b\b\\ \b\b| \b\b/ \b\b- \b\b\\ \b\b| \b\b/ \b\b- \b\b\\ \b\b| \b\b/ \b\b- \b\b\\ \b\b| \b\b/ \b\b- \b\b\\ \b\b| \b\b/ \b\b- \b\b\\ \b\b| \b\b/ \b\b- \b\b\\ \b\b| \b\b/ \b\b- \b\b\\ \b\b| \b\b/ \b\b- \b\b\\ \b\b| \b\b/ \b\b- \b\b\\ \b\b| \b\b/ \b\b- \b\b\\ \b\b| \b\b/ \b\b- \b\b\\ \b\b| \b\b/ \b\b- \b\b\\ \b\b| \b\b/ \b\b- \b\b\\ \b\b| \b\b/ \b\b- \b\b\\ \b\b| \b\b/ \b\b- \b\b\\ \b\b| \b\b/ \b\b- \b\b\\ \b\b| \b\b/ \b\b- \b\b\\ \b\b| \b\b/ \b\b- \b\b\\ \b\b| \b\b/ \b\b- \b\b\\ \b\b| \b\b/ \b\b- \b\b\\ \b\b| \b\b/ \b\b- \b\b\\ \b\b| \b\b/ \b\b- \b\b\\ \b\b| \b\b/ \b\b- \b\b\\ \b\b| \b\b/ \b\b- \b\b\\ \b\b| \b\b/ \b\b- \b\b\\ \b\b| \b\b/ \b\b- \b\b\\ \b\b| \b\b/ \b\b- \b\b\\ \b\b| \b\b/ \b\b- \b\b\\ \b\b| \b\b/ \b\b- \b\b\\ \b\b| \b\b/ \b\b- \b\b\\ \b\b| \b\b/ \b\b- \b\b\\ \b\b| \b\b/ \b\b- \b\b\\ \b\b| \b\b/ \b\b- \b\b\\ \b\b| \b\b/ \b\b- \b\b\\ \b\b| \b\b/ \b\b- \b\b\\ \b\b| \b\b/ \b\b- \b\b\\ \b\b| \b\b/ \b\b- \b\b\\ \b\b| \b\b/ \b\b- \b\b\\ \b\b| \b\b/ \b\b- \b\b\\ \b\b| \b\b/ \b\b- \b\b\\ \b\b| \b\b/ \b\b- \b\b\\ \b\b| \b\b/ \b\b- \b\b\\ \b\b| \b\b/ \b\b- \b\b\\ \b\b| \b\b/ \b\b- \b\b\\ \b\b| \b\b/ \b\b- \b\b\\ \b\b| \b\b/ \b\b- \b\b\\ \b\b| \b\b/ \b\b- \b\b\\ \b\b| \b\b/ \b\b- \b\b\\ \b\b| \b\b/ \b\b- \b\b\\ \b\b| \b\b/ \b\b- \b\b\\ \b\b| \b\b/ \b\b- \b\b\\ \b\b| \b\b/ \b\b- \b\b\\ \b\b| \b\b/ \b\b- \b\b\\ \b\b| \b\b/ \b\b- \b\b\\ \b\b| \b\b/ \b\b- \b\b\\ \b\b| \b\b/ \b\b- \b\b\\ \b\b| \b\b/ \b\b- \b\b\\ \b\b| \b\b/ \b\b- \b\b\\ \b\b| \b\b/ \b\b- \b\b\\ \b\b| \b\b/ \b\b- \b\b\\ \b\b| \b\b/ \b\b- \b\b\\ \b\b| \b\b/ \b\b- \b\b\\ \b\b| \b\b/ \b\b- \b\b\\ \b\b| \b\b/ \b\b- \b\b\\ \b\b| \b\b/ \b\b- \b\b\\ \b\b| \b\b/ \b\b- \b\b\\ \b\b| \b\b/ \b\b- \b\b\\ \b\b| \b\b/ \b\b- \b\b\\ \b\b| \b\b/ \b\b- \b\b\\ \b\b| \b\b/ \b\b- \b\b\\ \b\b| \b\b/ \b\b- \b\b\\ \b\b| \b\b/ \b\b- \b\b\\ \b\b| \b\b/ \b\b- \b\b\\ \b\b| \b\b/ \b\b- \b\b\\ \b\b| \b\b/ \b\b- \b\b\\ \b\b| \b\b/ \b\b- \b\b\\ \b\b| \b\b/ \b\b- \b\b\\ \b\b| \b\b/ \b\b- \b\b\\ \b\b| \b\b/ \b\b- \b\b\\ \b\b| \b\b/ \b\b- \b\b\\ \b\b| \b\b/ \b\b- \b\b\\ \b\b| \b\b/ \b\b- \b\b\\ \b\b| \b\b/ \b\b- \b\b\\ \b\b| \b\b/ \b\b- \b\b\\ \b\b| \b\b/ \b\b- \b\b\\ \b\b| \b\b/ \b\b- \b\b\\ \b\b| \b\b/ \b\b- \b\b\\ \b\b| \b\b/ \b\b- \b\b\\ \b\b| \b\b/ \b\b- \b\b\\ \b\b| \b\b/ \b\b- \b\b\\ \b\b| \b\b/ \b\b- \b\b\\ \b\b| \b\b/ \b\b- \b\b\\ \b\b| \b\b/ \b\b- \b\b\\ \b\b| \b\b/ \b\b- \b\b\\ \b\b| \b\b/ \b\b- \b\b\\ \b\b| \b\b/ \b\b- \b\b\\ \b\b| \b\b/ \b\b- \b\b\\ \b\b| \b\b/ \b\b- \b\b\\ \b\b| \b\b/ \b\b- \b\b\\ \b\b| \b\b/ \b\b- \b\b\\ \b\b| \b\b/ \b\b- \b\b\\ \b\b| \b\b/ \b\b- \b\b\\ \b\b| \b\b/ \b\b- \b\b\\ \b\b| \b\b/ \b\b- \b\b\\ \b\b| \b\b/ \b\b- \b\b\\ \b\b| \b\b/ \b\b- \b\b\\ \b\b| \b\b/ \b\b- \b\b\\ \b\b| \b\b/ \b\b- \b\b\\ \b\b| \b\b/ \b\b- \b\b\\ \b\b| \b\b/ \b\b- \b\b\\ \b\b| \b\b/ \b\b- \b\b\\ \b\b| \b\b/ \b\b- \b\b\\ \b\b| \b\b/ \b\b- \b\b\\ \b\b| \b\b/ \b\b- \b\b\\ \b\b| \b\b/ \b\b- \b\b\\ \b\b| \b\b/ \b\b- \b\b\\ \b\b| \b\b/ \b\b- \b\b\\ \b\b| \b\b/ \b\b- \b\b\\ \b\b| \b\b/ \b\b- \b\b\\ \b\b| \b\b/ \b\b- \b\b\\ \b\b| \b\b/ \b\b- \b\b\\ \b\b| \b\b/ \b\b- \b\b\\ \b\b| \b\b/ \b\b- \b\b\\ \b\b| \b\b/ \b\b- \b\b\\ \b\b| \b\b/ \b\b- \b\b\\ \b\b| \b\b/ \b\b- \b\b\\ \b\b| \b\b/ \b\b- \b\b\\ \b\b| \b\b/ \b\b- \b\b\\ \b\b| \b\b/ \b\b- \b\b\\ \b\b| \b\b/ \b\b- \b\b\\ \b\b| \b\b/ \b\b- \b\b\\ \b\b| \b\b/ \b\b- \b\b\\ \b\b| \b\b/ \b\b- \b\b\\ \b\b| \b\b/ \b\b- \b\b\\ \b\b| \b\b/ \b\b- \b\b\\ \b\b| \b\b/ \b\b- \b\b\\ \b\b| \b\b/ \b\b- \b\b\\ \b\b| \b\b/ \b\b- \b\b\\ \b\b| \b\b/ \b\b- \b\b\\ \b\b| \b\b/ \b\b- \b\b\\ \b\b| \b\b/ \b\b- \b\b\\ \b\b| \b\b/ \b\b- \b\b\\ \b\b| \b\b/ \b\b- \b\b\\ \b\b| \b\b/ \b\b- \b\b\\ \b\b| \b\b/ \b\b- \b\b\\ \b\b| \b\b/ \b\b- \b\b\\ \b\b| \b\b/ \b\b- \b\b\\ \b\b| \b\b/ \b\b- \b\b\\ \b\b| \b\b/ \b\b- \b\b\\ \b\b| \b\b/ \b\b- \b\b\\ \b\b| \b\b/ \b\b- \b\b\\ \b\b| \b\b/ \b\b- \b\b\\ \b\b| \b\b/ \b\b- \b\b\\ \b\b| \b\b/ \b\b- \b\b\\ \b\b| \b\b/ \b\b- \b\b\\ \b\b| \b\b/ \b\b- \b\b\\ \b\b| \b\b/ \b\b- \b\b\\ \b\b| \b\b/ \b\b- \b\b\\ \b\b| \b\b/ \b\b- \b\b\\ \b\b| \b\b/ \b\b- \b\b\\ \b\b| \b\b/ \b\b- \b\b\\ \b\b| \b\b/ \b\b- \b\b\\ \b\b| \b\b/ \b\b- \b\b\\ \b\b| \b\b/ \b\b- \b\b\\ \b\b| \b\b/ \b\b- \b\b\\ \b\b| \b\b/ \b\b- \b\b\\ \b\b| \b\b/ \b\b- \b\b\\ \b\b| \b\b/ \b\b- \b\b\\ \b\b| \b\b/ \b\b- \b\b\\ \b\b| \b\b/ \b\b- \b\b\\ \b\b| \b\b/ \b\b- \b\b\\ \b\b| \b\b/ \b\b- \b\b\\ \b\b| \b\b/ \b\b- \b\b\\ \b\b| \b\b/ \b\b- \b\b\\ \b\b| \b\b/ \b\b- \b\b\\ \b\b| \b\b/ \b\b- \b\b\\ \b\b| \b\b/ \b\b- \b\b\\ \b\b| \b\b/ \b\b- \b\b\\ \b\b| \b\b/ \b\b- \b\b\\ \b\b| \b\b/ \b\b- \b\b\\ \b\b| \b\b/ \b\b- \b\b\\ \b\b| \b\b/ \b\b- \b\b\\ \b\b| \b\b/ \b\b- \b\b\\ \b\b| \b\b/ \b\b- \b\b\\ \b\b| \b\b/ \b\b- \b\b\\ \b\b| \b\b/ \b\b- \b\b\\ \b\b| \b\b/ \b\b- \b\b\\ \b\b| \b\b/ \b\b- \b\b\\ \b\b| \b\b/ \b\b- \b\b\\ \b\b| \b\b/ \b\b- \b\b\\ \b\b| \b\b/ \b\b- \b\b\\ \b\b| \b\b/ \b\b- \b\b\\ \b\b| \b\b/ \b\b- \b\b\\ \b\b| \b\b/ \b\b- \b\b\\ \b\b| \b\b/ \b\b- \b\b\\ \b\b| \b\b/ \b\b- \b\b\\ \b\b| \b\b/ \b\b- \b\b\\ \b\b| \b\b/ \b\b- \b\b\\ \b\b| \b\b/ \b\b- \b\b\\ \b\b| \b\b/ \b\b- \b\b\\ \b\b| \b\b/ \b\b- \b\b\\ \b\b| \b\b/ \b\b- \b\b\\ \b\b| \b\b/ \b\b- \b\b\\ \b\b| \b\b/ \b\b- \b\b\\ \b\b| \b\b/ \b\b- \b\b\\ \b\b| \b\b/ \b\b- \b\b\\ \b\b| \b\b/ \b\b- \b\b\\ \b\b| \b\b/ \b\b- \b\b\\ \b\b| \b\b/ \b\b- \b\b\\ \b\b| \b\b/ \b\b- \b\b\\ \b\b| \b\b/ \b\b- \b\b\\ \b\b| \b\b/ \b\b- \b\b\\ \b\b| \b\b/ \b\b- \b\b\\ \b\b| \b\b/ \b\b- \b\b\\ \b\b| \b\b/ \b\b- \b\b\\ \b\b| \b\b/ \b\b- \b\b\\ \b\b| \b\b/ \b\b- \b\b\\ \b\b| \b\b/ \b\b- \b\b\\ \b\b| \b\b/ \b\b- \b\b\\ \b\b| \b\b/ \b\b- \b\b\\ \b\b| \b\b/ \b\b- \b\b\\ \b\b| \b\b/ \b\b- \b\b\\ \b\b| \b\b/ \b\b- \b\b\\ \b\b| \b\b/ \b\b- \b\b\\ \b\b| \b\b/ \b\b- \b\b\\ \b\b| \b\b/ \b\b- \b\b\\ \b\b| \b\b/ \b\b- \b\b\\ \b\b| \b\b/ \b\b- \b\b\\ \b\b| \b\b/ \b\b- \b\b\\ \b\b| \b\b/ \b\b- \b\b\\ \b\b| \b\b/ \b\b- \b\b\\ \b\b| \b\b/ \b\b- \b\b\\ \b\b| \b\b/ \b\b- \b\b\\ \b\b| \b\b/ \b\b- \b\b\\ \b\b| \b\b/ \b\b- \b\b\\ \b\b| \b\b/ \b\b- \b\b\\ \b\b| \b\b/ \b\b- \b\b\\ \b\b| \b\b/ \b\b- \b\b\\ \b\b| \b\b/ \b\b- \b\b\\ \b\b| \b\b/ \b\b- \b\b\\ \b\b| \b\b/ \b\b- \b\b\\ \b\b| \b\b/ \b\b- \b\b\\ \b\b| \b\b/ \b\b- \b\b\\ \b\b| \b\b/ \b\b- \b\b\\ \b\b| \b\b/ \b\b- \b\b\\ \b\b| \b\b/ \b\b- \b\b\\ \b\b| \b\b/ \b\b- \b\b\\ \b\b| \b\b/ \b\b- \b\b\\ \b\b| \b\b/ \b\b- \b\b\\ \b\b| \b\b/ \b\b- \b\b\\ \b\b| \b\b/ \b\b- \b\b\\ \b\b| \b\b/ \b\b- \b\b\\ \b\b| \b\b/ \b\b- \b\b\\ \b\b| \b\b/ \b\b- \b\b\\ \b\b| \b\b/ \b\b- \b\b\\ \b\b| \b\b/ \b\b- \b\b\\ \b\b| \b\b/ \b\b- \b\b\\ \b\b| \b\b/ \b\b- \b\b\\ \b\b| \b\b/ \b\b- \b\b\\ \b\b| \b\b/ \b\b- \b\b\\ \b\b| \b\b/ \b\b- \b\b\\ \b\b| \b\b/ \b\b- \b\b\\ \b\b| \b\b/ \b\b- \b\b\\ \b\b| \b\b/ \b\b- \b\b\\ \b\b| \b\b/ \b\b- \b\b\\ \b\b| \b\b/ \b\b- \b\b\\ \b\b| \b\b/ \b\b- \b\b\\ \b\b| \b\b/ \b\b- \b\b\\ \b\b| \b\b/ \b\b- \b\b\\ \b\b| \b\b/ \b\b- \b\b\\ \b\b| \b\b/ \b\b- \b\b\\ \b\b| \b\b/ \b\b- \b\b\\ \b\b| \b\b/ \b\b- \b\b\\ \b\b| \b\b/ \b\b- \b\b\\ \b\b| \b\b/ \b\b- \b\b\\ \b\b| \b\b/ \b\b- \b\b\\ \b\b| \b\b/ \b\b- \b\b\\ \b\b| \b\b/ \b\b- \b\b\\ \b\b| \b\b/ \b\b- \b\b\\ \b\b| \b\b/ \b\b- \b\b\\ \b\b| \b\b/ \b\b- \b\b\\ \b\b| \b\b/ \b\b- \b\b\\ \b\b| \b\b/ \b\b- \b\b\\ \b\b| \b\b/ \b\b- \b\b\\ \b\b| \b\b/ \b\b- \b\b\\ \b\b| \b\b/ \b\b- \b\b\\ \b\b| \b\b/ \b\b- \b\b\\ \b\b| \b\b/ \b\b- \b\b\\ \b\b| \b\b/ \b\b- \b\b\\ \b\b| \b\b/ \b\b- \b\b\\ \b\b| \b\b/ \b\b- \b\b\\ \b\b| \b\b/ \b\b- \b\b\\ \b\b| \b\b/ \b\b- \b\b\\ \b\b| \b\b/ \b\b- \b\b\\ \b\b| \b\b/ \b\b- \b\b\\ \b\b| \b\b/ \b\b- \b\b\\ \b\b| \b\b/ \b\b- \b\b\\ \b\b| \b\b/ \b\b- \b\b\\ \b\b| \b\b/ \b\b- \b\b\\ \b\b| \b\b/ \b\b- \b\b\\ \b\b| \b\b/ \b\b- \b\b\\ \b\b| \b\b/ \b\b- \b\b\\ \b\b| \b\b/ \b\b- \b\b\\ \b\b| \b\b/ \b\b- \b\b\\ \b\b| \b\b/ \b\b- \b\b\\ \b\b| \b\b/ \b\b- \b\b\\ \b\b| \b\b/ \b\b- \b\b\\ \b\b| \b\b/ \b\b- \b\b\\ \b\b| \b\b/ \b\b- \b\b\\ \b\b| \b\b/ \b\b- \b\b\\ \b\b| \b\b/ \b\b- \b\b\\ \b\b| \b\b/ \b\b- \b\b\\ \b\b| \b\b/ \b\b- \b\b\\ \b\b| \b\b/ \b\b- \b\b\\ \b\b| \b\b/ \b\b- \b\b\\ \b\b| \b\b/ \b\b- \b\b\\ \b\b| \b\b/ \b\b- \b\b\\ \b\b| \b\b/ \b\b- \b\b\\ \b\b| \b\b/ \b\b- \b\b\\ \b\b| \b\b/ \b\b- \b\b\\ \b\b| \b\b/ \b\b- \b\b\\ \b\b| \b\b/ \b\b- \b\b\\ \b\b| \b\b/ \b\b- \b\b\\ \b\b| \b\b/ \b\b- \b\b\\ \b\b| \b\b/ \b\b- \b\b\\ \b\b| \b\b/ \b\b- \b\b\\ \b\b| \b\b/ \b\b- \b\b\\ \b\b| \b\b/ \b\b- \b\b\\ \b\b| \b\b/ \b\b- \b\b\\ \b\b| \b\b/ \b\b- \b\b\\ \b\b| \b\b/ \b\b- \b\b\\ \b\b| \b\b/ \b\b- \b\b\\ \b\b| \b\b/ \b\b- \b\b\\ \b\b| \b\b/ \b\b- \b\b\\ \b\b| \b\b/ \b\b- \b\b\\ \b\b| \b\b/ \b\b- \b\b\\ \b\b| \b\b/ \b\b- \b\b\\ \b\b| \b\b/ \b\b- \b\b\\ \b\b| \b\b/ \b\b- \b\b\\ \b\b| \b\b/ \b\b- \b\b\\ \b\b| \b\b/ \b\b- \b\b\\ \b\b| \b\b/ \b\b- \b\b\\ \b\b| \b\b/ \b\b- \b\b\\ \b\b| \b\b/ \b\b- \b\b\\ \b\b| \b\b/ \b\b- \b\b\\ \b\b| \b\b/ \b\b- \b\b\\ \b\b| \b\b/ \b\b- \b\b\\ \b\b| \b\b/ \b\b- \b\b\\ \b\b| \b\b/ \b\b- \b\b\\ \b\b| \b\b/ \b\b- \b\b\\ \b\b| \b\b/ \b\b- \b\b\\ \b\b| \b\b/ \b\b- \b\b\\ \b\b| \b\b/ \b\b- \b\b\\ \b\b| \b\b/ \b\b- \b\b\\ \b\b| \b\b/ \b\b- \b\b\\ \b\b| \b\b/ \b\b- \b\b\\ \b\b| \b\b/ \b\b- \b\b\\ \b\b| \b\b/ \b\b- \b\b\\ \b\b| \b\b/ \b\b- \b\b\\ \b\b| \b\b/ \b\b- \b\b\\ \b\b| \b\b/ \b\b- \b\b\\ \b\b| \b\b/ \b\b- Ran pip subprocess with arguments:\n",
            "['/usr/local/envs/ssa/bin/python', '-m', 'pip', 'install', '-U', '-r', '/content/Semantic-Segment-Anything/condaenv.naq37ddb.requirements.txt', '--exists-action=b']\n",
            "Pip subprocess output:\n",
            "Looking in indexes: https://pypi.org/simple, https://us-python.pkg.dev/colab-wheels/public/simple/\n",
            "Collecting torch==1.9.1+cu111\n",
            "  Downloading https://download.pytorch.org/whl/cu111/torch-1.9.1%2Bcu111-cp38-cp38-linux_x86_64.whl (2041.3 MB)\n",
            "     ━━━━━━━━━━━━━━━━━━━━━━━━━━━━━━━━━━━━━━━━ 2.0/2.0 GB 870.7 kB/s eta 0:00:00\n",
            "Collecting torchvision==0.10.1+cu111\n",
            "  Downloading https://download.pytorch.org/whl/cu111/torchvision-0.10.1%2Bcu111-cp38-cp38-linux_x86_64.whl (20.6 MB)\n",
            "     ━━━━━━━━━━━━━━━━━━━━━━━━━━━━━━━━━━━━━━━━ 20.6/20.6 MB 66.3 MB/s eta 0:00:00\n",
            "Collecting torchaudio==0.9.1\n",
            "  Downloading https://download.pytorch.org/whl/torchaudio-0.9.1-cp38-cp38-linux_x86_64.whl (1.9 MB)\n",
            "     ━━━━━━━━━━━━━━━━━━━━━━━━━━━━━━━━━━━━━━━━ 1.9/1.9 MB 350.0 kB/s eta 0:00:00\n",
            "Collecting mmcv-full==1.3.18\n",
            "  Downloading https://download.openmmlab.com/mmcv/dist/cu111/torch1.9.0/mmcv_full-1.3.18-cp38-cp38-manylinux1_x86_64.whl (56.9 MB)\n",
            "     ━━━━━━━━━━━━━━━━━━━━━━━━━━━━━━━━━━━━━━━━ 56.9/56.9 MB 13.8 MB/s eta 0:00:00\n",
            "Collecting addict==2.4.0\n",
            "  Downloading addict-2.4.0-py3-none-any.whl (3.8 kB)\n",
            "Collecting blis==0.7.9\n",
            "  Downloading blis-0.7.9-cp38-cp38-manylinux_2_17_x86_64.manylinux2014_x86_64.whl (10.2 MB)\n",
            "     ━━━━━━━━━━━━━━━━━━━━━━━━━━━━━━━━━━━━━━━━ 10.2/10.2 MB 50.5 MB/s eta 0:00:00\n",
            "Collecting catalogue==2.0.8\n",
            "  Downloading catalogue-2.0.8-py3-none-any.whl (17 kB)\n",
            "Collecting charset-normalizer==3.1.0\n",
            "  Downloading charset_normalizer-3.1.0-cp38-cp38-manylinux_2_17_x86_64.manylinux2014_x86_64.whl (195 kB)\n",
            "     ━━━━━━━━━━━━━━━━━━━━━━━━━━━━━━━━━━━━━━ 195.9/195.9 kB 23.3 MB/s eta 0:00:00\n",
            "Collecting click==8.1.3\n",
            "  Downloading click-8.1.3-py3-none-any.whl (96 kB)\n",
            "     ━━━━━━━━━━━━━━━━━━━━━━━━━━━━━━━━━━━━━━━━ 96.6/96.6 kB 12.9 MB/s eta 0:00:00\n",
            "Collecting confection==0.0.4\n",
            "  Downloading confection-0.0.4-py3-none-any.whl (32 kB)\n",
            "Collecting contourpy==1.0.7\n",
            "  Downloading contourpy-1.0.7-cp38-cp38-manylinux_2_17_x86_64.manylinux2014_x86_64.whl (300 kB)\n",
            "     ━━━━━━━━━━━━━━━━━━━━━━━━━━━━━━━━━━━━━━ 300.0/300.0 kB 32.4 MB/s eta 0:00:00\n",
            "Collecting cycler==0.11.0\n",
            "  Downloading cycler-0.11.0-py3-none-any.whl (6.4 kB)\n",
            "Collecting cymem==2.0.7\n",
            "  Downloading cymem-2.0.7-cp38-cp38-manylinux_2_17_x86_64.manylinux2014_x86_64.whl (36 kB)\n",
            "Collecting filelock==3.11.0\n",
            "  Downloading filelock-3.11.0-py3-none-any.whl (10.0 kB)\n",
            "Collecting fonttools==4.39.3\n",
            "  Downloading fonttools-4.39.3-py3-none-any.whl (1.0 MB)\n",
            "     ━━━━━━━━━━━━━━━━━━━━━━━━━━━━━━━━━━━━━━━━ 1.0/1.0 MB 68.1 MB/s eta 0:00:00\n",
            "Collecting huggingface-hub==0.13.4\n",
            "  Downloading huggingface_hub-0.13.4-py3-none-any.whl (200 kB)\n",
            "     ━━━━━━━━━━━━━━━━━━━━━━━━━━━━━━━━━━━━━━ 200.1/200.1 kB 24.8 MB/s eta 0:00:00\n",
            "Collecting idna==3.4\n",
            "  Downloading idna-3.4-py3-none-any.whl (61 kB)\n",
            "     ━━━━━━━━━━━━━━━━━━━━━━━━━━━━━━━━━━━━━━━━ 61.5/61.5 kB 7.3 MB/s eta 0:00:00\n",
            "Collecting importlib-resources==5.12.0\n",
            "  Downloading importlib_resources-5.12.0-py3-none-any.whl (36 kB)\n",
            "Collecting jinja2==3.1.2\n",
            "  Downloading Jinja2-3.1.2-py3-none-any.whl (133 kB)\n",
            "     ━━━━━━━━━━━━━━━━━━━━━━━━━━━━━━━━━━━━━━ 133.1/133.1 kB 16.1 MB/s eta 0:00:00\n",
            "Collecting kiwisolver==1.4.4\n",
            "  Downloading kiwisolver-1.4.4-cp38-cp38-manylinux_2_5_x86_64.manylinux1_x86_64.whl (1.2 MB)\n",
            "     ━━━━━━━━━━━━━━━━━━━━━━━━━━━━━━━━━━━━━━━━ 1.2/1.2 MB 82.5 MB/s eta 0:00:00\n",
            "Collecting langcodes==3.3.0\n",
            "  Downloading langcodes-3.3.0-py3-none-any.whl (181 kB)\n",
            "     ━━━━━━━━━━━━━━━━━━━━━━━━━━━━━━━━━━━━━━ 181.6/181.6 kB 23.2 MB/s eta 0:00:00\n",
            "Collecting markupsafe==2.1.2\n",
            "  Downloading MarkupSafe-2.1.2-cp38-cp38-manylinux_2_17_x86_64.manylinux2014_x86_64.whl (25 kB)\n",
            "Collecting matplotlib==3.7.1\n",
            "  Downloading matplotlib-3.7.1-cp38-cp38-manylinux_2_12_x86_64.manylinux2010_x86_64.whl (9.2 MB)\n",
            "     ━━━━━━━━━━━━━━━━━━━━━━━━━━━━━━━━━━━━━━━━ 9.2/9.2 MB 121.8 MB/s eta 0:00:00\n",
            "Collecting mmdet==2.25.3\n",
            "  Downloading mmdet-2.25.3-py3-none-any.whl (1.4 MB)\n",
            "     ━━━━━━━━━━━━━━━━━━━━━━━━━━━━━━━━━━━━━━━━ 1.4/1.4 MB 90.5 MB/s eta 0:00:00\n",
            "Collecting murmurhash==1.0.9\n",
            "  Downloading murmurhash-1.0.9-cp38-cp38-manylinux_2_5_x86_64.manylinux1_x86_64.manylinux_2_17_x86_64.manylinux2014_x86_64.whl (21 kB)\n",
            "Collecting numpy==1.24.2\n",
            "  Downloading numpy-1.24.2-cp38-cp38-manylinux_2_17_x86_64.manylinux2014_x86_64.whl (17.3 MB)\n",
            "     ━━━━━━━━━━━━━━━━━━━━━━━━━━━━━━━━━━━━━━━━ 17.3/17.3 MB 91.1 MB/s eta 0:00:00\n",
            "Collecting opencv-python==4.7.0.72\n",
            "  Downloading opencv_python-4.7.0.72-cp37-abi3-manylinux_2_17_x86_64.manylinux2014_x86_64.whl (61.8 MB)\n",
            "     ━━━━━━━━━━━━━━━━━━━━━━━━━━━━━━━━━━━━━━━━ 61.8/61.8 MB 7.0 MB/s eta 0:00:00\n",
            "Collecting packaging==23.0\n",
            "  Downloading packaging-23.0-py3-none-any.whl (42 kB)\n",
            "     ━━━━━━━━━━━━━━━━━━━━━━━━━━━━━━━━━━━━━━━━ 42.7/42.7 kB 5.2 MB/s eta 0:00:00\n",
            "Collecting pathy==0.10.1\n",
            "  Downloading pathy-0.10.1-py3-none-any.whl (48 kB)\n",
            "     ━━━━━━━━━━━━━━━━━━━━━━━━━━━━━━━━━━━━━━━━ 48.9/48.9 kB 6.6 MB/s eta 0:00:00\n",
            "Collecting pillow==9.5.0\n",
            "  Downloading Pillow-9.5.0-cp38-cp38-manylinux_2_28_x86_64.whl (3.4 MB)\n",
            "     ━━━━━━━━━━━━━━━━━━━━━━━━━━━━━━━━━━━━━━━━ 3.4/3.4 MB 103.9 MB/s eta 0:00:00\n",
            "Collecting preshed==3.0.8\n",
            "  Downloading preshed-3.0.8-cp38-cp38-manylinux_2_5_x86_64.manylinux1_x86_64.manylinux_2_17_x86_64.manylinux2014_x86_64.whl (130 kB)\n",
            "     ━━━━━━━━━━━━━━━━━━━━━━━━━━━━━━━━━━━━━━ 130.8/130.8 kB 17.2 MB/s eta 0:00:00\n",
            "Collecting pycocotools==2.0.6\n",
            "  Downloading pycocotools-2.0.6.tar.gz (24 kB)\n",
            "  Installing build dependencies: started\n",
            "  Installing build dependencies: finished with status 'done'\n",
            "  Getting requirements to build wheel: started\n",
            "  Getting requirements to build wheel: finished with status 'done'\n",
            "  Preparing metadata (pyproject.toml): started\n",
            "  Preparing metadata (pyproject.toml): finished with status 'done'\n",
            "Collecting pydantic==1.10.7\n",
            "  Downloading pydantic-1.10.7-cp38-cp38-manylinux_2_17_x86_64.manylinux2014_x86_64.whl (3.2 MB)\n",
            "     ━━━━━━━━━━━━━━━━━━━━━━━━━━━━━━━━━━━━━━━━ 3.2/3.2 MB 99.5 MB/s eta 0:00:00\n",
            "Collecting pyparsing==3.0.9\n",
            "  Downloading pyparsing-3.0.9-py3-none-any.whl (98 kB)\n",
            "     ━━━━━━━━━━━━━━━━━━━━━━━━━━━━━━━━━━━━━━━━ 98.3/98.3 kB 14.0 MB/s eta 0:00:00\n",
            "Collecting python-dateutil==2.8.2\n",
            "  Downloading python_dateutil-2.8.2-py2.py3-none-any.whl (247 kB)\n",
            "     ━━━━━━━━━━━━━━━━━━━━━━━━━━━━━━━━━━━━━━ 247.7/247.7 kB 28.9 MB/s eta 0:00:00\n",
            "Collecting pyyaml==6.0\n",
            "  Downloading PyYAML-6.0-cp38-cp38-manylinux_2_5_x86_64.manylinux1_x86_64.manylinux_2_12_x86_64.manylinux2010_x86_64.whl (701 kB)\n",
            "     ━━━━━━━━━━━━━━━━━━━━━━━━━━━━━━━━━━━━━━ 701.2/701.2 kB 56.8 MB/s eta 0:00:00\n",
            "Collecting regex==2023.3.23\n",
            "  Downloading regex-2023.3.23-cp38-cp38-manylinux_2_17_x86_64.manylinux2014_x86_64.whl (771 kB)\n",
            "     ━━━━━━━━━━━━━━━━━━━━━━━━━━━━━━━━━━━━━━ 771.9/771.9 kB 57.3 MB/s eta 0:00:00\n",
            "Collecting requests==2.28.2\n",
            "  Downloading requests-2.28.2-py3-none-any.whl (62 kB)\n",
            "     ━━━━━━━━━━━━━━━━━━━━━━━━━━━━━━━━━━━━━━━━ 62.8/62.8 kB 6.8 MB/s eta 0:00:00\n",
            "Collecting scipy==1.10.1\n",
            "  Downloading scipy-1.10.1-cp38-cp38-manylinux_2_17_x86_64.manylinux2014_x86_64.whl (34.5 MB)\n",
            "     ━━━━━━━━━━━━━━━━━━━━━━━━━━━━━━━━━━━━━━━━ 34.5/34.5 MB 37.0 MB/s eta 0:00:00\n",
            "Collecting six==1.16.0\n",
            "  Downloading six-1.16.0-py2.py3-none-any.whl (11 kB)\n",
            "Collecting smart-open==6.3.0\n",
            "  Downloading smart_open-6.3.0-py3-none-any.whl (56 kB)\n",
            "     ━━━━━━━━━━━━━━━━━━━━━━━━━━━━━━━━━━━━━━━━ 56.8/56.8 kB 8.2 MB/s eta 0:00:00\n",
            "Collecting spacy==3.5.1\n",
            "  Downloading spacy-3.5.1-cp38-cp38-manylinux_2_17_x86_64.manylinux2014_x86_64.whl (6.8 MB)\n",
            "     ━━━━━━━━━━━━━━━━━━━━━━━━━━━━━━━━━━━━━━━━ 6.8/6.8 MB 12.5 MB/s eta 0:00:00\n",
            "Collecting spacy-legacy==3.0.12\n",
            "  Downloading spacy_legacy-3.0.12-py2.py3-none-any.whl (29 kB)\n",
            "Collecting spacy-loggers==1.0.4\n",
            "  Downloading spacy_loggers-1.0.4-py3-none-any.whl (11 kB)\n",
            "Collecting srsly==2.4.6\n",
            "  Downloading srsly-2.4.6-cp38-cp38-manylinux_2_17_x86_64.manylinux2014_x86_64.whl (493 kB)\n",
            "     ━━━━━━━━━━━━━━━━━━━━━━━━━━━━━━━━━━━━━━ 493.5/493.5 kB 42.3 MB/s eta 0:00:00\n",
            "Collecting terminaltables==3.1.10\n",
            "  Downloading terminaltables-3.1.10-py2.py3-none-any.whl (15 kB)\n",
            "Collecting thinc==8.1.9\n",
            "  Downloading thinc-8.1.9-cp38-cp38-manylinux_2_17_x86_64.manylinux2014_x86_64.whl (925 kB)\n",
            "     ━━━━━━━━━━━━━━━━━━━━━━━━━━━━━━━━━━━━━━ 925.9/925.9 kB 73.1 MB/s eta 0:00:00\n",
            "Collecting tokenizers==0.13.3\n",
            "  Downloading tokenizers-0.13.3-cp38-cp38-manylinux_2_17_x86_64.manylinux2014_x86_64.whl (7.8 MB)\n",
            "     ━━━━━━━━━━━━━━━━━━━━━━━━━━━━━━━━━━━━━━━━ 7.8/7.8 MB 120.4 MB/s eta 0:00:00\n",
            "Collecting tqdm==4.65.0\n",
            "  Downloading tqdm-4.65.0-py3-none-any.whl (77 kB)\n",
            "     ━━━━━━━━━━━━━━━━━━━━━━━━━━━━━━━━━━━━━━━━ 77.1/77.1 kB 10.4 MB/s eta 0:00:00\n",
            "Collecting transformers==4.27.4\n",
            "  Downloading transformers-4.27.4-py3-none-any.whl (6.8 MB)\n",
            "     ━━━━━━━━━━━━━━━━━━━━━━━━━━━━━━━━━━━━━━━━ 6.8/6.8 MB 88.4 MB/s eta 0:00:00\n",
            "Collecting typer==0.7.0\n",
            "  Downloading typer-0.7.0-py3-none-any.whl (38 kB)\n",
            "Collecting typing-extensions==4.5.0\n",
            "  Downloading typing_extensions-4.5.0-py3-none-any.whl (27 kB)\n",
            "Collecting urllib3==1.26.15\n",
            "  Downloading urllib3-1.26.15-py2.py3-none-any.whl (140 kB)\n",
            "     ━━━━━━━━━━━━━━━━━━━━━━━━━━━━━━━━━━━━━━ 140.9/140.9 kB 18.9 MB/s eta 0:00:00\n",
            "Collecting wasabi==1.1.1\n",
            "  Downloading wasabi-1.1.1-py3-none-any.whl (27 kB)\n",
            "Collecting yapf==0.32.0\n",
            "  Downloading yapf-0.32.0-py2.py3-none-any.whl (190 kB)\n",
            "     ━━━━━━━━━━━━━━━━━━━━━━━━━━━━━━━━━━━━━━ 190.2/190.2 kB 25.4 MB/s eta 0:00:00\n",
            "Collecting zipp==3.15.0\n",
            "  Downloading zipp-3.15.0-py3-none-any.whl (6.8 kB)\n",
            "Collecting mmsegmentation==0.26.0\n",
            "  Downloading mmsegmentation-0.26.0-py3-none-any.whl (816 kB)\n",
            "     ━━━━━━━━━━━━━━━━━━━━━━━━━━━━━━━━━━━━━━ 816.2/816.2 kB 71.2 MB/s eta 0:00:00\n",
            "Requirement already satisfied: certifi>=2017.4.17 in /usr/local/envs/ssa/lib/python3.8/site-packages (from requests==2.28.2->-r /content/Semantic-Segment-Anything/condaenv.naq37ddb.requirements.txt (line 38)) (2022.12.7)\n",
            "Requirement already satisfied: setuptools in /usr/local/envs/ssa/lib/python3.8/site-packages (from spacy==3.5.1->-r /content/Semantic-Segment-Anything/condaenv.naq37ddb.requirements.txt (line 42)) (65.6.3)\n",
            "Collecting mmcls>=0.20.1\n",
            "  Downloading mmcls-0.25.0-py2.py3-none-any.whl (648 kB)\n",
            "     ━━━━━━━━━━━━━━━━━━━━━━━━━━━━━━━━━━━━━━ 648.8/648.8 kB 56.4 MB/s eta 0:00:00\n",
            "Collecting prettytable\n",
            "  Downloading prettytable-3.8.0-py3-none-any.whl (27 kB)\n",
            "Collecting wcwidth\n",
            "  Downloading wcwidth-0.2.6-py2.py3-none-any.whl (29 kB)\n",
            "Building wheels for collected packages: pycocotools\n",
            "  Building wheel for pycocotools (pyproject.toml): started\n",
            "  Building wheel for pycocotools (pyproject.toml): finished with status 'done'\n",
            "  Created wheel for pycocotools: filename=pycocotools-2.0.6-cp38-cp38-linux_x86_64.whl size=425744 sha256=c813ff8d600a8d61db94b32494c9a65874c92f8c3c8cab4bc15b0b1dcb350ded\n",
            "  Stored in directory: /root/.cache/pip/wheels/3e/08/ac/58126fe59992032701437336493f6132e1b72381a62d00b595\n",
            "Successfully built pycocotools\n",
            "Installing collected packages: yapf, wcwidth, tokenizers, cymem, addict, zipp, wasabi, urllib3, typing-extensions, tqdm, terminaltables, spacy-loggers, spacy-legacy, smart-open, six, regex, pyyaml, pyparsing, prettytable, pillow, packaging, numpy, murmurhash, markupsafe, langcodes, kiwisolver, idna, fonttools, filelock, cycler, click, charset-normalizer, catalogue, typer, torch, srsly, scipy, requests, python-dateutil, pydantic, preshed, opencv-python, jinja2, importlib-resources, contourpy, blis, torchvision, torchaudio, pathy, mmcv-full, matplotlib, huggingface-hub, confection, transformers, thinc, pycocotools, mmcls, spacy, mmsegmentation, mmdet\n",
            "Successfully installed addict-2.4.0 blis-0.7.9 catalogue-2.0.8 charset-normalizer-3.1.0 click-8.1.3 confection-0.0.4 contourpy-1.0.7 cycler-0.11.0 cymem-2.0.7 filelock-3.11.0 fonttools-4.39.3 huggingface-hub-0.13.4 idna-3.4 importlib-resources-5.12.0 jinja2-3.1.2 kiwisolver-1.4.4 langcodes-3.3.0 markupsafe-2.1.2 matplotlib-3.7.1 mmcls-0.25.0 mmcv-full-1.3.18 mmdet-2.25.3 mmsegmentation-0.26.0 murmurhash-1.0.9 numpy-1.24.2 opencv-python-4.7.0.72 packaging-23.0 pathy-0.10.1 pillow-9.5.0 preshed-3.0.8 prettytable-3.8.0 pycocotools-2.0.6 pydantic-1.10.7 pyparsing-3.0.9 python-dateutil-2.8.2 pyyaml-6.0 regex-2023.3.23 requests-2.28.2 scipy-1.10.1 six-1.16.0 smart-open-6.3.0 spacy-3.5.1 spacy-legacy-3.0.12 spacy-loggers-1.0.4 srsly-2.4.6 terminaltables-3.1.10 thinc-8.1.9 tokenizers-0.13.3 torch-1.9.1+cu111 torchaudio-0.9.1 torchvision-0.10.1+cu111 tqdm-4.65.0 transformers-4.27.4 typer-0.7.0 typing-extensions-4.5.0 urllib3-1.26.15 wasabi-1.1.1 wcwidth-0.2.6 yapf-0.32.0 zipp-3.15.0\n",
            "\b\b\\ \n",
            "\b\bdone\n",
            "#\n",
            "# To activate this environment, use\n",
            "#\n",
            "#     $ conda activate ssa\n",
            "#\n",
            "# To deactivate an active environment, use\n",
            "#\n",
            "#     $ conda deactivate\n",
            "\n"
          ]
        }
      ],
      "source": [
        "#下载environment.yaml\n",
        "!cd Semantic-Segment-Anything\n",
        "!conda env create -f Semantic-Segment-Anything/environment.yaml"
      ]
    },
    {
      "cell_type": "code",
      "source": [
        "#查看conda环境\n",
        "!python -V\n",
        "!conda info --env"
      ],
      "metadata": {
        "colab": {
          "base_uri": "https://localhost:8080/"
        },
        "id": "l6fBC9H8_JOr",
        "outputId": "193a2580-3712-4ec1-ed6c-6a55c59e5529"
      },
      "execution_count": 18,
      "outputs": [
        {
          "output_type": "stream",
          "name": "stdout",
          "text": [
            "Python 3.8.16\n",
            "# conda environments:\n",
            "#\n",
            "base                     /usr/local\n",
            "ssa                      /usr/local/envs/ssa\n",
            "\n"
          ]
        }
      ]
    },
    {
      "cell_type": "code",
      "execution_count": 19,
      "metadata": {
        "colab": {
          "base_uri": "https://localhost:8080/"
        },
        "id": "eZaldPbZStcy",
        "outputId": "90d6c60b-a5f8-4ab7-f991-1ac506067860"
      },
      "outputs": [
        {
          "output_type": "stream",
          "name": "stdout",
          "text": [
            "# conda environments:\n",
            "#\n",
            "base                     /usr/local\n",
            "ssa                   *  /usr/local/envs/ssa\n",
            "\n",
            "Looking in indexes: https://pypi.org/simple, https://us-python.pkg.dev/colab-wheels/public/simple/\n",
            "Collecting en-core-web-sm==3.5.0\n",
            "  Downloading https://github.com/explosion/spacy-models/releases/download/en_core_web_sm-3.5.0/en_core_web_sm-3.5.0-py3-none-any.whl (12.8 MB)\n",
            "     ━━━━━━━━━━━━━━━━━━━━━━━━━━━━━━━━━━━━━━━━ 12.8/12.8 MB 32.7 MB/s eta 0:00:00\n",
            "Requirement already satisfied: spacy<3.6.0,>=3.5.0 in /usr/local/envs/ssa/lib/python3.8/site-packages (from en-core-web-sm==3.5.0) (3.5.1)\n",
            "Requirement already satisfied: jinja2 in /usr/local/envs/ssa/lib/python3.8/site-packages (from spacy<3.6.0,>=3.5.0->en-core-web-sm==3.5.0) (3.1.2)\n",
            "Requirement already satisfied: requests<3.0.0,>=2.13.0 in /usr/local/envs/ssa/lib/python3.8/site-packages (from spacy<3.6.0,>=3.5.0->en-core-web-sm==3.5.0) (2.28.2)\n",
            "Requirement already satisfied: numpy>=1.15.0 in /usr/local/envs/ssa/lib/python3.8/site-packages (from spacy<3.6.0,>=3.5.0->en-core-web-sm==3.5.0) (1.24.2)\n",
            "Requirement already satisfied: srsly<3.0.0,>=2.4.3 in /usr/local/envs/ssa/lib/python3.8/site-packages (from spacy<3.6.0,>=3.5.0->en-core-web-sm==3.5.0) (2.4.6)\n",
            "Requirement already satisfied: typer<0.8.0,>=0.3.0 in /usr/local/envs/ssa/lib/python3.8/site-packages (from spacy<3.6.0,>=3.5.0->en-core-web-sm==3.5.0) (0.7.0)\n",
            "Requirement already satisfied: pathy>=0.10.0 in /usr/local/envs/ssa/lib/python3.8/site-packages (from spacy<3.6.0,>=3.5.0->en-core-web-sm==3.5.0) (0.10.1)\n",
            "Requirement already satisfied: thinc<8.2.0,>=8.1.8 in /usr/local/envs/ssa/lib/python3.8/site-packages (from spacy<3.6.0,>=3.5.0->en-core-web-sm==3.5.0) (8.1.9)\n",
            "Requirement already satisfied: preshed<3.1.0,>=3.0.2 in /usr/local/envs/ssa/lib/python3.8/site-packages (from spacy<3.6.0,>=3.5.0->en-core-web-sm==3.5.0) (3.0.8)\n",
            "Requirement already satisfied: murmurhash<1.1.0,>=0.28.0 in /usr/local/envs/ssa/lib/python3.8/site-packages (from spacy<3.6.0,>=3.5.0->en-core-web-sm==3.5.0) (1.0.9)\n",
            "Requirement already satisfied: spacy-loggers<2.0.0,>=1.0.0 in /usr/local/envs/ssa/lib/python3.8/site-packages (from spacy<3.6.0,>=3.5.0->en-core-web-sm==3.5.0) (1.0.4)\n",
            "Requirement already satisfied: wasabi<1.2.0,>=0.9.1 in /usr/local/envs/ssa/lib/python3.8/site-packages (from spacy<3.6.0,>=3.5.0->en-core-web-sm==3.5.0) (1.1.1)\n",
            "Requirement already satisfied: smart-open<7.0.0,>=5.2.1 in /usr/local/envs/ssa/lib/python3.8/site-packages (from spacy<3.6.0,>=3.5.0->en-core-web-sm==3.5.0) (6.3.0)\n",
            "Requirement already satisfied: setuptools in /usr/local/envs/ssa/lib/python3.8/site-packages (from spacy<3.6.0,>=3.5.0->en-core-web-sm==3.5.0) (65.6.3)\n",
            "Requirement already satisfied: pydantic!=1.8,!=1.8.1,<1.11.0,>=1.7.4 in /usr/local/envs/ssa/lib/python3.8/site-packages (from spacy<3.6.0,>=3.5.0->en-core-web-sm==3.5.0) (1.10.7)\n",
            "Requirement already satisfied: langcodes<4.0.0,>=3.2.0 in /usr/local/envs/ssa/lib/python3.8/site-packages (from spacy<3.6.0,>=3.5.0->en-core-web-sm==3.5.0) (3.3.0)\n",
            "Requirement already satisfied: packaging>=20.0 in /usr/local/envs/ssa/lib/python3.8/site-packages (from spacy<3.6.0,>=3.5.0->en-core-web-sm==3.5.0) (23.0)\n",
            "Requirement already satisfied: catalogue<2.1.0,>=2.0.6 in /usr/local/envs/ssa/lib/python3.8/site-packages (from spacy<3.6.0,>=3.5.0->en-core-web-sm==3.5.0) (2.0.8)\n",
            "Requirement already satisfied: cymem<2.1.0,>=2.0.2 in /usr/local/envs/ssa/lib/python3.8/site-packages (from spacy<3.6.0,>=3.5.0->en-core-web-sm==3.5.0) (2.0.7)\n",
            "Requirement already satisfied: tqdm<5.0.0,>=4.38.0 in /usr/local/envs/ssa/lib/python3.8/site-packages (from spacy<3.6.0,>=3.5.0->en-core-web-sm==3.5.0) (4.65.0)\n",
            "Requirement already satisfied: spacy-legacy<3.1.0,>=3.0.11 in /usr/local/envs/ssa/lib/python3.8/site-packages (from spacy<3.6.0,>=3.5.0->en-core-web-sm==3.5.0) (3.0.12)\n",
            "Requirement already satisfied: typing-extensions>=4.2.0 in /usr/local/envs/ssa/lib/python3.8/site-packages (from pydantic!=1.8,!=1.8.1,<1.11.0,>=1.7.4->spacy<3.6.0,>=3.5.0->en-core-web-sm==3.5.0) (4.5.0)\n",
            "Requirement already satisfied: idna<4,>=2.5 in /usr/local/envs/ssa/lib/python3.8/site-packages (from requests<3.0.0,>=2.13.0->spacy<3.6.0,>=3.5.0->en-core-web-sm==3.5.0) (3.4)\n",
            "Requirement already satisfied: charset-normalizer<4,>=2 in /usr/local/envs/ssa/lib/python3.8/site-packages (from requests<3.0.0,>=2.13.0->spacy<3.6.0,>=3.5.0->en-core-web-sm==3.5.0) (3.1.0)\n",
            "Requirement already satisfied: urllib3<1.27,>=1.21.1 in /usr/local/envs/ssa/lib/python3.8/site-packages (from requests<3.0.0,>=2.13.0->spacy<3.6.0,>=3.5.0->en-core-web-sm==3.5.0) (1.26.15)\n",
            "Requirement already satisfied: certifi>=2017.4.17 in /usr/local/envs/ssa/lib/python3.8/site-packages (from requests<3.0.0,>=2.13.0->spacy<3.6.0,>=3.5.0->en-core-web-sm==3.5.0) (2022.12.7)\n",
            "Requirement already satisfied: confection<1.0.0,>=0.0.1 in /usr/local/envs/ssa/lib/python3.8/site-packages (from thinc<8.2.0,>=8.1.8->spacy<3.6.0,>=3.5.0->en-core-web-sm==3.5.0) (0.0.4)\n",
            "Requirement already satisfied: blis<0.8.0,>=0.7.8 in /usr/local/envs/ssa/lib/python3.8/site-packages (from thinc<8.2.0,>=8.1.8->spacy<3.6.0,>=3.5.0->en-core-web-sm==3.5.0) (0.7.9)\n",
            "Requirement already satisfied: click<9.0.0,>=7.1.1 in /usr/local/envs/ssa/lib/python3.8/site-packages (from typer<0.8.0,>=0.3.0->spacy<3.6.0,>=3.5.0->en-core-web-sm==3.5.0) (8.1.3)\n",
            "Requirement already satisfied: MarkupSafe>=2.0 in /usr/local/envs/ssa/lib/python3.8/site-packages (from jinja2->spacy<3.6.0,>=3.5.0->en-core-web-sm==3.5.0) (2.1.2)\n",
            "Installing collected packages: en-core-web-sm\n",
            "Successfully installed en-core-web-sm-3.5.0\n",
            "\u001b[38;5;2m✔ Download and installation successful\u001b[0m\n",
            "You can now load the package via spacy.load('en_core_web_sm')\n"
          ]
        },
        {
          "output_type": "stream",
          "name": "stderr",
          "text": [
            "WARNING: Running pip as the 'root' user can result in broken permissions and conflicting behaviour with the system package manager. It is recommended to use a virtual environment instead: https://pip.pypa.io/warnings/venv\n"
          ]
        }
      ],
      "source": [
        "#ssa环境下 下载en_core_web_sm\n",
        "%%bash\n",
        "source activate ssa\n",
        "conda env list\n",
        "\n",
        "python -m spacy download en_core_web_sm"
      ]
    },
    {
      "cell_type": "code",
      "execution_count": 20,
      "metadata": {
        "colab": {
          "base_uri": "https://localhost:8080/"
        },
        "id": "nj6CptrOTn5h",
        "outputId": "a1a84f87-d22b-4b1c-9588-52080403f8e1"
      },
      "outputs": [
        {
          "output_type": "stream",
          "name": "stdout",
          "text": [
            "# conda environments:\n",
            "#\n",
            "base                     /usr/local\n",
            "ssa                   *  /usr/local/envs/ssa\n",
            "\n"
          ]
        },
        {
          "output_type": "stream",
          "name": "stderr",
          "text": [
            "Cloning into 'segment-anything'...\n"
          ]
        }
      ],
      "source": [
        "#ssa环境下 下载segment-anything\n",
        "%%bash\n",
        "source activate ssa\n",
        "conda env list\n",
        "\n",
        "git clone https://github.com/facebookresearch/segment-anything.git"
      ]
    },
    {
      "cell_type": "code",
      "execution_count": 21,
      "metadata": {
        "colab": {
          "base_uri": "https://localhost:8080/"
        },
        "id": "n2out1m3VCqw",
        "outputId": "649e5718-e3c2-4faf-a7c9-f4158d5c9102"
      },
      "outputs": [
        {
          "output_type": "stream",
          "name": "stdout",
          "text": [
            "# conda environments:\n",
            "#\n",
            "base                     /usr/local\n",
            "ssa                   *  /usr/local/envs/ssa\n",
            "\n",
            "Looking in indexes: https://pypi.org/simple, https://us-python.pkg.dev/colab-wheels/public/simple/\n",
            "Obtaining file:///content/segment-anything\n",
            "  Preparing metadata (setup.py): started\n",
            "  Preparing metadata (setup.py): finished with status 'done'\n",
            "Installing collected packages: segment-anything\n",
            "  Running setup.py develop for segment-anything\n",
            "Successfully installed segment-anything-1.0\n"
          ]
        },
        {
          "output_type": "stream",
          "name": "stderr",
          "text": [
            "WARNING: Running pip as the 'root' user can result in broken permissions and conflicting behaviour with the system package manager. It is recommended to use a virtual environment instead: https://pip.pypa.io/warnings/venv\n"
          ]
        }
      ],
      "source": [
        "%%bash\n",
        "source activate ssa\n",
        "conda env list\n",
        "\n",
        "cd segment-anything; pip install -e .; cd ../Semantic-Segment-Anything"
      ]
    },
    {
      "cell_type": "code",
      "source": [
        "%%bash\n",
        "source activate ssa\n",
        "conda env list\n",
        "\n",
        "apt-get install wget"
      ],
      "metadata": {
        "colab": {
          "base_uri": "https://localhost:8080/"
        },
        "id": "nnmtcv7oTBpc",
        "outputId": "a427661e-7957-45a4-d7c1-9a74023a1001"
      },
      "execution_count": 22,
      "outputs": [
        {
          "output_type": "stream",
          "name": "stdout",
          "text": [
            "# conda environments:\n",
            "#\n",
            "base                     /usr/local\n",
            "ssa                   *  /usr/local/envs/ssa\n",
            "\n",
            "Reading package lists...\n",
            "Building dependency tree...\n",
            "Reading state information...\n",
            "wget is already the newest version (1.20.3-1ubuntu2).\n",
            "0 upgraded, 0 newly installed, 0 to remove and 15 not upgraded.\n"
          ]
        }
      ]
    },
    {
      "cell_type": "code",
      "execution_count": 23,
      "metadata": {
        "id": "2IglyO_XfXjv",
        "colab": {
          "base_uri": "https://localhost:8080/"
        },
        "outputId": "96391ad9-9deb-4fe4-b4bb-ece951cff249"
      },
      "outputs": [
        {
          "output_type": "stream",
          "name": "stdout",
          "text": [
            "# conda environments:\n",
            "#\n",
            "base                     /usr/local\n",
            "ssa                   *  /usr/local/envs/ssa\n",
            "\n"
          ]
        },
        {
          "output_type": "stream",
          "name": "stderr",
          "text": [
            "IOPub data rate exceeded.\n",
            "The notebook server will temporarily stop sending output\n",
            "to the client in order to avoid crashing it.\n",
            "To change this limit, set the config variable\n",
            "`--NotebookApp.iopub_data_rate_limit`.\n",
            "\n",
            "Current values:\n",
            "NotebookApp.iopub_data_rate_limit=1000000.0 (bytes/sec)\n",
            "NotebookApp.rate_limit_window=3.0 (secs)\n",
            "\n"
          ]
        }
      ],
      "source": [
        "%%bash\n",
        "source activate ssa\n",
        "conda env list\n",
        "\n",
        "wget https://dl.fbaipublicfiles.com/segment_anything/sam_vit_h_4b8939.pth -P Semantic-Segment-Anything/ckp\n"
      ]
    },
    {
      "cell_type": "code",
      "source": [
        "%%bash\n",
        "source activate ssa\n",
        "conda env list\n",
        "nvidia-smi"
      ],
      "metadata": {
        "colab": {
          "base_uri": "https://localhost:8080/"
        },
        "id": "LETYTXBlLDXW",
        "outputId": "7ca694bd-bb8d-45ec-df76-22ab2a4d50a9"
      },
      "execution_count": 24,
      "outputs": [
        {
          "output_type": "stream",
          "name": "stdout",
          "text": [
            "# conda environments:\n",
            "#\n",
            "base                     /usr/local\n",
            "ssa                   *  /usr/local/envs/ssa\n",
            "\n",
            "Fri Jun 16 12:06:14 2023       \n",
            "+-----------------------------------------------------------------------------+\n",
            "| NVIDIA-SMI 525.85.12    Driver Version: 525.85.12    CUDA Version: 12.0     |\n",
            "|-------------------------------+----------------------+----------------------+\n",
            "| GPU  Name        Persistence-M| Bus-Id        Disp.A | Volatile Uncorr. ECC |\n",
            "| Fan  Temp  Perf  Pwr:Usage/Cap|         Memory-Usage | GPU-Util  Compute M. |\n",
            "|                               |                      |               MIG M. |\n",
            "|===============================+======================+======================|\n",
            "|   0  Tesla V100-SXM2...  Off  | 00000000:00:04.0 Off |                    0 |\n",
            "| N/A   35C    P0    23W / 300W |      0MiB / 16384MiB |      0%      Default |\n",
            "|                               |                      |                  N/A |\n",
            "+-------------------------------+----------------------+----------------------+\n",
            "                                                                               \n",
            "+-----------------------------------------------------------------------------+\n",
            "| Processes:                                                                  |\n",
            "|  GPU   GI   CI        PID   Type   Process name                  GPU Memory |\n",
            "|        ID   ID                                                   Usage      |\n",
            "|=============================================================================|\n",
            "|  No running processes found                                                 |\n",
            "+-----------------------------------------------------------------------------+\n"
          ]
        }
      ]
    },
    {
      "cell_type": "code",
      "source": [
        "%%bash\n",
        "source activate ssa\n",
        "conda env list\n",
        "\n",
        "pip install ipykernel"
      ],
      "metadata": {
        "colab": {
          "base_uri": "https://localhost:8080/"
        },
        "id": "iUzZIY7_dP90",
        "outputId": "fdfd1ed9-f0cc-4a61-f847-64099c24734f"
      },
      "execution_count": 25,
      "outputs": [
        {
          "output_type": "stream",
          "name": "stdout",
          "text": [
            "# conda environments:\n",
            "#\n",
            "base                     /usr/local\n",
            "ssa                   *  /usr/local/envs/ssa\n",
            "\n",
            "Looking in indexes: https://pypi.org/simple, https://us-python.pkg.dev/colab-wheels/public/simple/\n",
            "Collecting ipykernel\n",
            "  Downloading ipykernel-6.23.2-py3-none-any.whl (152 kB)\n",
            "     ━━━━━━━━━━━━━━━━━━━━━━━━━━━━━━━━━━━━━━━ 152.8/152.8 kB 4.2 MB/s eta 0:00:00\n",
            "Collecting jupyter-client>=6.1.12\n",
            "  Downloading jupyter_client-8.2.0-py3-none-any.whl (103 kB)\n",
            "     ━━━━━━━━━━━━━━━━━━━━━━━━━━━━━━━━━━━━━━ 103.2/103.2 kB 12.9 MB/s eta 0:00:00\n",
            "Collecting tornado>=6.1\n",
            "  Downloading tornado-6.3.2-cp38-abi3-manylinux_2_5_x86_64.manylinux1_x86_64.manylinux_2_17_x86_64.manylinux2014_x86_64.whl (426 kB)\n",
            "     ━━━━━━━━━━━━━━━━━━━━━━━━━━━━━━━━━━━━━━ 426.9/426.9 kB 16.3 MB/s eta 0:00:00\n",
            "Collecting matplotlib-inline>=0.1\n",
            "  Downloading matplotlib_inline-0.1.6-py3-none-any.whl (9.4 kB)\n",
            "Collecting ipython>=7.23.1\n",
            "  Downloading ipython-8.12.2-py3-none-any.whl (797 kB)\n",
            "     ━━━━━━━━━━━━━━━━━━━━━━━━━━━━━━━━━━━━━━ 797.8/797.8 kB 35.6 MB/s eta 0:00:00\n",
            "Collecting pyzmq>=20\n",
            "  Downloading pyzmq-25.1.0-cp38-cp38-manylinux_2_12_x86_64.manylinux2010_x86_64.whl (1.1 MB)\n",
            "     ━━━━━━━━━━━━━━━━━━━━━━━━━━━━━━━━━━━━━━━━ 1.1/1.1 MB 65.5 MB/s eta 0:00:00\n",
            "Collecting traitlets>=5.4.0\n",
            "  Downloading traitlets-5.9.0-py3-none-any.whl (117 kB)\n",
            "     ━━━━━━━━━━━━━━━━━━━━━━━━━━━━━━━━━━━━━━ 117.4/117.4 kB 17.2 MB/s eta 0:00:00\n",
            "Requirement already satisfied: packaging in /usr/local/envs/ssa/lib/python3.8/site-packages (from ipykernel) (23.0)\n",
            "Collecting psutil\n",
            "  Downloading psutil-5.9.5-cp36-abi3-manylinux_2_12_x86_64.manylinux2010_x86_64.manylinux_2_17_x86_64.manylinux2014_x86_64.whl (282 kB)\n",
            "     ━━━━━━━━━━━━━━━━━━━━━━━━━━━━━━━━━━━━━━ 282.1/282.1 kB 31.8 MB/s eta 0:00:00\n",
            "Collecting nest-asyncio\n",
            "  Downloading nest_asyncio-1.5.6-py3-none-any.whl (5.2 kB)\n",
            "Collecting debugpy>=1.6.5\n",
            "  Downloading debugpy-1.6.7-cp38-cp38-manylinux_2_17_x86_64.manylinux2014_x86_64.whl (3.1 MB)\n",
            "     ━━━━━━━━━━━━━━━━━━━━━━━━━━━━━━━━━━━━━━━━ 3.1/3.1 MB 95.3 MB/s eta 0:00:00\n",
            "Collecting comm>=0.1.1\n",
            "  Downloading comm-0.1.3-py3-none-any.whl (6.6 kB)\n",
            "Collecting jupyter-core!=5.0.*,>=4.12\n",
            "  Downloading jupyter_core-5.3.1-py3-none-any.whl (93 kB)\n",
            "     ━━━━━━━━━━━━━━━━━━━━━━━━━━━━━━━━━━━━━━━━ 93.7/93.7 kB 13.2 MB/s eta 0:00:00\n",
            "Collecting decorator\n",
            "  Downloading decorator-5.1.1-py3-none-any.whl (9.1 kB)\n",
            "Collecting backcall\n",
            "  Downloading backcall-0.2.0-py2.py3-none-any.whl (11 kB)\n",
            "Collecting stack-data\n",
            "  Downloading stack_data-0.6.2-py3-none-any.whl (24 kB)\n",
            "Collecting jedi>=0.16\n",
            "  Downloading jedi-0.18.2-py2.py3-none-any.whl (1.6 MB)\n",
            "     ━━━━━━━━━━━━━━━━━━━━━━━━━━━━━━━━━━━━━━━━ 1.6/1.6 MB 81.5 MB/s eta 0:00:00\n",
            "Collecting pexpect>4.3\n",
            "  Downloading pexpect-4.8.0-py2.py3-none-any.whl (59 kB)\n",
            "     ━━━━━━━━━━━━━━━━━━━━━━━━━━━━━━━━━━━━━━━━ 59.0/59.0 kB 7.8 MB/s eta 0:00:00\n",
            "Collecting prompt-toolkit!=3.0.37,<3.1.0,>=3.0.30\n",
            "  Downloading prompt_toolkit-3.0.38-py3-none-any.whl (385 kB)\n",
            "     ━━━━━━━━━━━━━━━━━━━━━━━━━━━━━━━━━━━━━━ 385.8/385.8 kB 41.6 MB/s eta 0:00:00\n",
            "Collecting pygments>=2.4.0\n",
            "  Downloading Pygments-2.15.1-py3-none-any.whl (1.1 MB)\n",
            "     ━━━━━━━━━━━━━━━━━━━━━━━━━━━━━━━━━━━━━━━━ 1.1/1.1 MB 72.1 MB/s eta 0:00:00\n",
            "Collecting pickleshare\n",
            "  Downloading pickleshare-0.7.5-py2.py3-none-any.whl (6.9 kB)\n",
            "Requirement already satisfied: typing-extensions in /usr/local/envs/ssa/lib/python3.8/site-packages (from ipython>=7.23.1->ipykernel) (4.5.0)\n",
            "Collecting importlib-metadata>=4.8.3\n",
            "  Downloading importlib_metadata-6.6.0-py3-none-any.whl (22 kB)\n",
            "Requirement already satisfied: python-dateutil>=2.8.2 in /usr/local/envs/ssa/lib/python3.8/site-packages (from jupyter-client>=6.1.12->ipykernel) (2.8.2)\n",
            "Collecting platformdirs>=2.5\n",
            "  Downloading platformdirs-3.5.3-py3-none-any.whl (15 kB)\n",
            "Requirement already satisfied: zipp>=0.5 in /usr/local/envs/ssa/lib/python3.8/site-packages (from importlib-metadata>=4.8.3->jupyter-client>=6.1.12->ipykernel) (3.15.0)\n",
            "Collecting parso<0.9.0,>=0.8.0\n",
            "  Downloading parso-0.8.3-py2.py3-none-any.whl (100 kB)\n",
            "     ━━━━━━━━━━━━━━━━━━━━━━━━━━━━━━━━━━━━━━ 100.8/100.8 kB 13.8 MB/s eta 0:00:00\n",
            "Collecting ptyprocess>=0.5\n",
            "  Downloading ptyprocess-0.7.0-py2.py3-none-any.whl (13 kB)\n",
            "Requirement already satisfied: wcwidth in /usr/local/envs/ssa/lib/python3.8/site-packages (from prompt-toolkit!=3.0.37,<3.1.0,>=3.0.30->ipython>=7.23.1->ipykernel) (0.2.6)\n",
            "Requirement already satisfied: six>=1.5 in /usr/local/envs/ssa/lib/python3.8/site-packages (from python-dateutil>=2.8.2->jupyter-client>=6.1.12->ipykernel) (1.16.0)\n",
            "Collecting pure-eval\n",
            "  Downloading pure_eval-0.2.2-py3-none-any.whl (11 kB)\n",
            "Collecting asttokens>=2.1.0\n",
            "  Downloading asttokens-2.2.1-py2.py3-none-any.whl (26 kB)\n",
            "Collecting executing>=1.2.0\n",
            "  Downloading executing-1.2.0-py2.py3-none-any.whl (24 kB)\n",
            "Installing collected packages: pure-eval, ptyprocess, pickleshare, executing, backcall, traitlets, tornado, pyzmq, pygments, psutil, prompt-toolkit, platformdirs, pexpect, parso, nest-asyncio, importlib-metadata, decorator, debugpy, asttokens, stack-data, matplotlib-inline, jupyter-core, jedi, comm, jupyter-client, ipython, ipykernel\n",
            "Successfully installed asttokens-2.2.1 backcall-0.2.0 comm-0.1.3 debugpy-1.6.7 decorator-5.1.1 executing-1.2.0 importlib-metadata-6.6.0 ipykernel-6.23.2 ipython-8.12.2 jedi-0.18.2 jupyter-client-8.2.0 jupyter-core-5.3.1 matplotlib-inline-0.1.6 nest-asyncio-1.5.6 parso-0.8.3 pexpect-4.8.0 pickleshare-0.7.5 platformdirs-3.5.3 prompt-toolkit-3.0.38 psutil-5.9.5 ptyprocess-0.7.0 pure-eval-0.2.2 pygments-2.15.1 pyzmq-25.1.0 stack-data-0.6.2 tornado-6.3.2 traitlets-5.9.0\n"
          ]
        },
        {
          "output_type": "stream",
          "name": "stderr",
          "text": [
            "WARNING: Running pip as the 'root' user can result in broken permissions and conflicting behaviour with the system package manager. It is recommended to use a virtual environment instead: https://pip.pypa.io/warnings/venv\n"
          ]
        }
      ]
    },
    {
      "cell_type": "code",
      "source": [
        "#自己在Semantic-Segment-Anything文件夹下新建data文件夹，并把my_drive里的数据集文件拖到data中\n",
        "#数据集地址名称自定义填写，此处为test\n",
        "#不想输出图片 --save_img=0\n",
        "#正常mode\n",
        "%%bash\n",
        "source activate ssa\n",
        "conda env list\n",
        "\n",
        "python /content/Semantic-Segment-Anything/scripts/main_ssa_engine.py --data_dir=/content/Semantic-Segment-Anything/data/test --out_dir=output --world_size=1 --save_img --sam --ckpt_path=/content/Semantic-Segment-Anything/ckp/sam_vit_h_4b8939.pth"
      ],
      "metadata": {
        "colab": {
          "base_uri": "https://localhost:8080/"
        },
        "id": "1dyV0EcFOAXm",
        "outputId": "5f50e2f8-fe39-437d-a444-12317507ee30"
      },
      "execution_count": 28,
      "outputs": [
        {
          "output_type": "stream",
          "name": "stdout",
          "text": [
            "# conda environments:\n",
            "#\n",
            "base                     /usr/local\n",
            "ssa                   *  /usr/local/envs/ssa\n",
            "\n",
            "Total number of files:  3\n",
            "[Save] save SSA-engine annotation results:  output/ADE_val_3_semantic.json\n",
            "[Save] save SSA-engine annotation results:  output/ADE_train_1_semantic.json\n",
            "[Save] save SSA-engine annotation results:  output/ADE_train_2_semantic.json\n"
          ]
        },
        {
          "output_type": "stream",
          "name": "stderr",
          "text": [
            "\rDownloading (…)rocessor_config.json:   0%|          | 0.00/316 [00:00<?, ?B/s]\rDownloading (…)rocessor_config.json: 100%|██████████| 316/316 [00:00<00:00, 46.4kB/s]\n",
            "\rDownloading (…)okenizer_config.json:   0%|          | 0.00/905 [00:00<?, ?B/s]\rDownloading (…)okenizer_config.json: 100%|██████████| 905/905 [00:00<00:00, 141kB/s]\n",
            "\rDownloading (…)olve/main/vocab.json:   0%|          | 0.00/961k [00:00<?, ?B/s]\rDownloading (…)olve/main/vocab.json: 100%|██████████| 961k/961k [00:00<00:00, 1.39MB/s]\rDownloading (…)olve/main/vocab.json: 100%|██████████| 961k/961k [00:00<00:00, 1.39MB/s]\n",
            "\rDownloading (…)olve/main/merges.txt:   0%|          | 0.00/525k [00:00<?, ?B/s]\rDownloading (…)olve/main/merges.txt: 100%|██████████| 525k/525k [00:00<00:00, 1.00MB/s]\rDownloading (…)olve/main/merges.txt: 100%|██████████| 525k/525k [00:00<00:00, 1.00MB/s]\n",
            "\rDownloading (…)/main/tokenizer.json:   0%|          | 0.00/2.22M [00:00<?, ?B/s]\rDownloading (…)/main/tokenizer.json: 100%|██████████| 2.22M/2.22M [00:00<00:00, 2.42MB/s]\rDownloading (…)/main/tokenizer.json: 100%|██████████| 2.22M/2.22M [00:00<00:00, 2.41MB/s]\n",
            "\rDownloading (…)cial_tokens_map.json:   0%|          | 0.00/389 [00:00<?, ?B/s]\rDownloading (…)cial_tokens_map.json: 100%|██████████| 389/389 [00:00<00:00, 146kB/s]\n",
            "\rDownloading (…)lve/main/config.json:   0%|          | 0.00/4.52k [00:00<?, ?B/s]\rDownloading (…)lve/main/config.json: 100%|██████████| 4.52k/4.52k [00:00<00:00, 1.74MB/s]\n",
            "`text_config_dict` is provided which will be used to initialize `CLIPTextConfig`. The value `text_config[\"id2label\"]` will be overriden.\n",
            "\rDownloading pytorch_model.bin:   0%|          | 0.00/1.71G [00:00<?, ?B/s]\rDownloading pytorch_model.bin:   1%|          | 10.5M/1.71G [00:00<01:47, 15.8MB/s]\rDownloading pytorch_model.bin:   1%|          | 21.0M/1.71G [00:00<01:08, 24.8MB/s]\rDownloading pytorch_model.bin:   2%|▏         | 31.5M/1.71G [00:01<00:55, 30.5MB/s]\rDownloading pytorch_model.bin:   2%|▏         | 41.9M/1.71G [00:01<00:48, 34.2MB/s]\rDownloading pytorch_model.bin:   3%|▎         | 52.4M/1.71G [00:01<00:50, 33.1MB/s]\rDownloading pytorch_model.bin:   4%|▎         | 62.9M/1.71G [00:02<00:46, 35.4MB/s]\rDownloading pytorch_model.bin:   4%|▍         | 73.4M/1.71G [00:02<00:43, 37.5MB/s]\rDownloading pytorch_model.bin:   5%|▍         | 83.9M/1.71G [00:02<00:42, 38.7MB/s]\rDownloading pytorch_model.bin:   6%|▌         | 94.4M/1.71G [00:02<00:40, 39.8MB/s]\rDownloading pytorch_model.bin:   6%|▌         | 105M/1.71G [00:03<00:39, 40.4MB/s] \rDownloading pytorch_model.bin:   7%|▋         | 115M/1.71G [00:03<00:38, 41.0MB/s]\rDownloading pytorch_model.bin:   7%|▋         | 126M/1.71G [00:03<00:38, 41.2MB/s]\rDownloading pytorch_model.bin:   8%|▊         | 136M/1.71G [00:03<00:37, 41.6MB/s]\rDownloading pytorch_model.bin:   9%|▊         | 147M/1.71G [00:04<00:37, 41.5MB/s]\rDownloading pytorch_model.bin:   9%|▉         | 157M/1.71G [00:04<00:37, 41.0MB/s]\rDownloading pytorch_model.bin:  10%|▉         | 168M/1.71G [00:04<00:37, 41.1MB/s]\rDownloading pytorch_model.bin:  10%|█         | 178M/1.71G [00:04<00:36, 41.5MB/s]\rDownloading pytorch_model.bin:  11%|█         | 189M/1.71G [00:05<00:36, 41.3MB/s]\rDownloading pytorch_model.bin:  12%|█▏        | 199M/1.71G [00:05<00:36, 41.6MB/s]\rDownloading pytorch_model.bin:  12%|█▏        | 210M/1.71G [00:05<00:36, 41.4MB/s]\rDownloading pytorch_model.bin:  13%|█▎        | 220M/1.71G [00:05<00:35, 41.6MB/s]\rDownloading pytorch_model.bin:  13%|█▎        | 231M/1.71G [00:06<00:35, 41.4MB/s]\rDownloading pytorch_model.bin:  14%|█▍        | 241M/1.71G [00:06<00:35, 41.6MB/s]\rDownloading pytorch_model.bin:  15%|█▍        | 252M/1.71G [00:06<00:35, 41.4MB/s]\rDownloading pytorch_model.bin:  15%|█▌        | 262M/1.71G [00:06<00:34, 41.6MB/s]\rDownloading pytorch_model.bin:  16%|█▌        | 273M/1.71G [00:07<00:34, 41.4MB/s]\rDownloading pytorch_model.bin:  17%|█▋        | 283M/1.71G [00:07<00:34, 41.6MB/s]\rDownloading pytorch_model.bin:  17%|█▋        | 294M/1.71G [00:07<00:34, 41.5MB/s]\rDownloading pytorch_model.bin:  18%|█▊        | 304M/1.71G [00:07<00:33, 41.6MB/s]\rDownloading pytorch_model.bin:  18%|█▊        | 315M/1.71G [00:08<00:33, 41.5MB/s]\rDownloading pytorch_model.bin:  19%|█▉        | 325M/1.71G [00:08<00:33, 41.6MB/s]\rDownloading pytorch_model.bin:  20%|█▉        | 336M/1.71G [00:08<00:33, 41.3MB/s]\rDownloading pytorch_model.bin:  20%|██        | 346M/1.71G [00:08<00:32, 41.5MB/s]\rDownloading pytorch_model.bin:  21%|██        | 357M/1.71G [00:09<00:32, 41.3MB/s]\rDownloading pytorch_model.bin:  21%|██▏       | 367M/1.71G [00:09<00:32, 41.5MB/s]\rDownloading pytorch_model.bin:  22%|██▏       | 377M/1.71G [00:09<00:32, 41.1MB/s]\rDownloading pytorch_model.bin:  23%|██▎       | 388M/1.71G [00:09<00:32, 41.3MB/s]\rDownloading pytorch_model.bin:  23%|██▎       | 398M/1.71G [00:10<00:32, 40.8MB/s]\rDownloading pytorch_model.bin:  24%|██▍       | 409M/1.71G [00:10<00:31, 40.9MB/s]\rDownloading pytorch_model.bin:  25%|██▍       | 419M/1.71G [00:10<00:31, 40.7MB/s]\rDownloading pytorch_model.bin:  25%|██▌       | 430M/1.71G [00:10<00:31, 41.1MB/s]\rDownloading pytorch_model.bin:  26%|██▌       | 440M/1.71G [00:11<00:31, 41.0MB/s]\rDownloading pytorch_model.bin:  26%|██▋       | 451M/1.71G [00:11<00:30, 41.2MB/s]\rDownloading pytorch_model.bin:  27%|██▋       | 461M/1.71G [00:11<00:30, 41.1MB/s]\rDownloading pytorch_model.bin:  28%|██▊       | 472M/1.71G [00:11<00:29, 41.3MB/s]\rDownloading pytorch_model.bin:  28%|██▊       | 482M/1.71G [00:12<00:29, 41.2MB/s]\rDownloading pytorch_model.bin:  29%|██▉       | 493M/1.71G [00:12<00:29, 41.3MB/s]\rDownloading pytorch_model.bin:  29%|██▉       | 503M/1.71G [00:12<00:29, 41.3MB/s]\rDownloading pytorch_model.bin:  30%|███       | 514M/1.71G [00:12<00:28, 41.6MB/s]\rDownloading pytorch_model.bin:  31%|███       | 524M/1.71G [00:13<00:28, 41.5MB/s]\rDownloading pytorch_model.bin:  31%|███▏      | 535M/1.71G [00:13<00:28, 41.7MB/s]\rDownloading pytorch_model.bin:  32%|███▏      | 545M/1.71G [00:13<00:28, 41.5MB/s]\rDownloading pytorch_model.bin:  32%|███▏      | 556M/1.71G [00:13<00:27, 41.7MB/s]\rDownloading pytorch_model.bin:  33%|███▎      | 566M/1.71G [00:14<00:36, 31.4MB/s]\rDownloading pytorch_model.bin:  34%|███▎      | 577M/1.71G [00:14<00:33, 33.9MB/s]\rDownloading pytorch_model.bin:  34%|███▍      | 587M/1.71G [00:14<00:31, 35.8MB/s]\rDownloading pytorch_model.bin:  35%|███▍      | 598M/1.71G [00:15<00:29, 37.5MB/s]\rDownloading pytorch_model.bin:  36%|███▌      | 608M/1.71G [00:15<00:28, 38.5MB/s]\rDownloading pytorch_model.bin:  36%|███▌      | 619M/1.71G [00:15<00:27, 39.6MB/s]\rDownloading pytorch_model.bin:  37%|███▋      | 629M/1.71G [00:15<00:26, 40.2MB/s]\rDownloading pytorch_model.bin:  37%|███▋      | 640M/1.71G [00:16<00:26, 40.9MB/s]\rDownloading pytorch_model.bin:  38%|███▊      | 650M/1.71G [00:16<00:25, 41.1MB/s]\rDownloading pytorch_model.bin:  39%|███▊      | 661M/1.71G [00:16<00:25, 41.5MB/s]\rDownloading pytorch_model.bin:  39%|███▉      | 671M/1.71G [00:16<00:24, 41.6MB/s]\rDownloading pytorch_model.bin:  40%|███▉      | 682M/1.71G [00:17<00:24, 41.9MB/s]\rDownloading pytorch_model.bin:  40%|████      | 692M/1.71G [00:17<00:24, 41.5MB/s]\rDownloading pytorch_model.bin:  41%|████      | 703M/1.71G [00:17<00:24, 41.9MB/s]\rDownloading pytorch_model.bin:  42%|████▏     | 713M/1.71G [00:17<00:23, 41.9MB/s]\rDownloading pytorch_model.bin:  42%|████▏     | 724M/1.71G [00:18<00:23, 42.2MB/s]\rDownloading pytorch_model.bin:  43%|████▎     | 734M/1.71G [00:18<00:23, 42.0MB/s]\rDownloading pytorch_model.bin:  44%|████▎     | 744M/1.71G [00:18<00:23, 42.0MB/s]\rDownloading pytorch_model.bin:  44%|████▍     | 755M/1.71G [00:18<00:22, 41.7MB/s]\rDownloading pytorch_model.bin:  45%|████▍     | 765M/1.71G [00:19<00:22, 41.9MB/s]\rDownloading pytorch_model.bin:  45%|████▌     | 776M/1.71G [00:19<00:22, 41.4MB/s]\rDownloading pytorch_model.bin:  46%|████▌     | 786M/1.71G [00:19<00:22, 41.3MB/s]\rDownloading pytorch_model.bin:  47%|████▋     | 797M/1.71G [00:19<00:22, 40.9MB/s]\rDownloading pytorch_model.bin:  47%|████▋     | 807M/1.71G [00:20<00:22, 40.8MB/s]\rDownloading pytorch_model.bin:  48%|████▊     | 818M/1.71G [00:20<00:21, 40.9MB/s]\rDownloading pytorch_model.bin:  48%|████▊     | 828M/1.71G [00:20<00:21, 41.2MB/s]\rDownloading pytorch_model.bin:  49%|████▉     | 839M/1.71G [00:20<00:21, 41.4MB/s]\rDownloading pytorch_model.bin:  50%|████▉     | 849M/1.71G [00:21<00:20, 41.8MB/s]\rDownloading pytorch_model.bin:  50%|█████     | 860M/1.71G [00:21<00:20, 41.8MB/s]\rDownloading pytorch_model.bin:  51%|█████     | 870M/1.71G [00:21<00:19, 42.0MB/s]\rDownloading pytorch_model.bin:  51%|█████▏    | 881M/1.71G [00:21<00:19, 41.9MB/s]\rDownloading pytorch_model.bin:  52%|█████▏    | 891M/1.71G [00:22<00:19, 42.2MB/s]\rDownloading pytorch_model.bin:  53%|█████▎    | 902M/1.71G [00:22<00:19, 42.0MB/s]\rDownloading pytorch_model.bin:  53%|█████▎    | 912M/1.71G [00:22<00:18, 42.3MB/s]\rDownloading pytorch_model.bin:  54%|█████▍    | 923M/1.71G [00:22<00:18, 42.2MB/s]\rDownloading pytorch_model.bin:  55%|█████▍    | 933M/1.71G [00:23<00:18, 42.4MB/s]\rDownloading pytorch_model.bin:  55%|█████▌    | 944M/1.71G [00:23<00:18, 42.2MB/s]\rDownloading pytorch_model.bin:  56%|█████▌    | 954M/1.71G [00:23<00:17, 42.4MB/s]\rDownloading pytorch_model.bin:  56%|█████▋    | 965M/1.71G [00:23<00:17, 42.1MB/s]\rDownloading pytorch_model.bin:  57%|█████▋    | 975M/1.71G [00:24<00:17, 42.3MB/s]\rDownloading pytorch_model.bin:  58%|█████▊    | 986M/1.71G [00:24<00:17, 42.1MB/s]\rDownloading pytorch_model.bin:  58%|█████▊    | 996M/1.71G [00:24<00:16, 42.3MB/s]\rDownloading pytorch_model.bin:  59%|█████▉    | 1.01G/1.71G [00:24<00:16, 42.2MB/s]\rDownloading pytorch_model.bin:  59%|█████▉    | 1.02G/1.71G [00:25<00:16, 42.4MB/s]\rDownloading pytorch_model.bin:  60%|██████    | 1.03G/1.71G [00:25<00:16, 42.2MB/s]\rDownloading pytorch_model.bin:  61%|██████    | 1.04G/1.71G [00:25<00:15, 42.2MB/s]\rDownloading pytorch_model.bin:  61%|██████▏   | 1.05G/1.71G [00:25<00:16, 41.4MB/s]\rDownloading pytorch_model.bin:  62%|██████▏   | 1.06G/1.71G [00:26<00:15, 41.4MB/s]\rDownloading pytorch_model.bin:  63%|██████▎   | 1.07G/1.71G [00:26<00:15, 41.4MB/s]\rDownloading pytorch_model.bin:  63%|██████▎   | 1.08G/1.71G [00:26<00:15, 41.8MB/s]\rDownloading pytorch_model.bin:  64%|██████▎   | 1.09G/1.71G [00:26<00:14, 41.6MB/s]\rDownloading pytorch_model.bin:  64%|██████▍   | 1.10G/1.71G [00:27<00:14, 41.8MB/s]\rDownloading pytorch_model.bin:  65%|██████▍   | 1.11G/1.71G [00:27<00:14, 41.0MB/s]\rDownloading pytorch_model.bin:  66%|██████▌   | 1.12G/1.71G [00:27<00:14, 40.8MB/s]\rDownloading pytorch_model.bin:  66%|██████▌   | 1.13G/1.71G [00:27<00:14, 40.3MB/s]\rDownloading pytorch_model.bin:  67%|██████▋   | 1.14G/1.71G [00:28<00:13, 40.6MB/s]\rDownloading pytorch_model.bin:  67%|██████▋   | 1.15G/1.71G [00:28<00:13, 40.4MB/s]\rDownloading pytorch_model.bin:  68%|██████▊   | 1.16G/1.71G [00:28<00:13, 40.3MB/s]\rDownloading pytorch_model.bin:  69%|██████▊   | 1.17G/1.71G [00:29<00:13, 40.1MB/s]\rDownloading pytorch_model.bin:  69%|██████▉   | 1.18G/1.71G [00:29<00:12, 40.6MB/s]\rDownloading pytorch_model.bin:  70%|██████▉   | 1.20G/1.71G [00:29<00:12, 40.6MB/s]\rDownloading pytorch_model.bin:  70%|███████   | 1.21G/1.71G [00:29<00:12, 41.2MB/s]\rDownloading pytorch_model.bin:  71%|███████   | 1.22G/1.71G [00:30<00:12, 40.9MB/s]\rDownloading pytorch_model.bin:  72%|███████▏  | 1.23G/1.71G [00:30<00:11, 41.4MB/s]\rDownloading pytorch_model.bin:  72%|███████▏  | 1.24G/1.71G [00:30<00:11, 41.4MB/s]\rDownloading pytorch_model.bin:  73%|███████▎  | 1.25G/1.71G [00:31<00:14, 31.1MB/s]\rDownloading pytorch_model.bin:  74%|███████▎  | 1.26G/1.71G [00:31<00:13, 33.6MB/s]\rDownloading pytorch_model.bin:  74%|███████▍  | 1.27G/1.71G [00:31<00:12, 35.9MB/s]\rDownloading pytorch_model.bin:  75%|███████▍  | 1.28G/1.71G [00:31<00:11, 37.3MB/s]\rDownloading pytorch_model.bin:  75%|███████▌  | 1.29G/1.71G [00:32<00:10, 38.8MB/s]\rDownloading pytorch_model.bin:  76%|███████▌  | 1.30G/1.71G [00:32<00:10, 39.6MB/s]\rDownloading pytorch_model.bin:  77%|███████▋  | 1.31G/1.71G [00:32<00:09, 40.4MB/s]\rDownloading pytorch_model.bin:  77%|███████▋  | 1.32G/1.71G [00:32<00:09, 40.8MB/s]\rDownloading pytorch_model.bin:  78%|███████▊  | 1.33G/1.71G [00:33<00:09, 41.3MB/s]\rDownloading pytorch_model.bin:  78%|███████▊  | 1.34G/1.71G [00:33<00:09, 38.1MB/s]\rDownloading pytorch_model.bin:  79%|███████▉  | 1.35G/1.71G [00:33<00:09, 39.1MB/s]\rDownloading pytorch_model.bin:  80%|███████▉  | 1.36G/1.71G [00:33<00:08, 39.8MB/s]\rDownloading pytorch_model.bin:  80%|████████  | 1.37G/1.71G [00:34<00:08, 40.6MB/s]\rDownloading pytorch_model.bin:  81%|████████  | 1.38G/1.71G [00:34<00:07, 40.9MB/s]\rDownloading pytorch_model.bin:  82%|████████▏ | 1.39G/1.71G [00:34<00:07, 41.4MB/s]\rDownloading pytorch_model.bin:  82%|████████▏ | 1.41G/1.71G [00:34<00:07, 41.4MB/s]\rDownloading pytorch_model.bin:  83%|████████▎ | 1.42G/1.71G [00:35<00:07, 41.8MB/s]\rDownloading pytorch_model.bin:  83%|████████▎ | 1.43G/1.71G [00:35<00:06, 41.6MB/s]\rDownloading pytorch_model.bin:  84%|████████▍ | 1.44G/1.71G [00:35<00:06, 42.0MB/s]\rDownloading pytorch_model.bin:  85%|████████▍ | 1.45G/1.71G [00:35<00:06, 41.9MB/s]\rDownloading pytorch_model.bin:  85%|████████▌ | 1.46G/1.71G [00:36<00:06, 42.1MB/s]\rDownloading pytorch_model.bin:  86%|████████▌ | 1.47G/1.71G [00:36<00:05, 41.8MB/s]\rDownloading pytorch_model.bin:  86%|████████▋ | 1.48G/1.71G [00:36<00:05, 42.0MB/s]\rDownloading pytorch_model.bin:  87%|████████▋ | 1.49G/1.71G [00:36<00:05, 41.8MB/s]\rDownloading pytorch_model.bin:  88%|████████▊ | 1.50G/1.71G [00:37<00:05, 42.1MB/s]\rDownloading pytorch_model.bin:  88%|████████▊ | 1.51G/1.71G [00:37<00:04, 42.0MB/s]\rDownloading pytorch_model.bin:  89%|████████▉ | 1.52G/1.71G [00:37<00:04, 42.1MB/s]\rDownloading pytorch_model.bin:  89%|████████▉ | 1.53G/1.71G [00:37<00:04, 41.9MB/s]\rDownloading pytorch_model.bin:  90%|█████████ | 1.54G/1.71G [00:38<00:04, 42.1MB/s]\rDownloading pytorch_model.bin:  91%|█████████ | 1.55G/1.71G [00:38<00:03, 41.8MB/s]\rDownloading pytorch_model.bin:  91%|█████████▏| 1.56G/1.71G [00:38<00:03, 41.6MB/s]\rDownloading pytorch_model.bin:  92%|█████████▏| 1.57G/1.71G [00:38<00:03, 41.1MB/s]\rDownloading pytorch_model.bin:  93%|█████████▎| 1.58G/1.71G [00:39<00:03, 41.1MB/s]\rDownloading pytorch_model.bin:  93%|█████████▎| 1.59G/1.71G [00:39<00:02, 40.6MB/s]\rDownloading pytorch_model.bin:  94%|█████████▍| 1.60G/1.71G [00:39<00:02, 40.9MB/s]\rDownloading pytorch_model.bin:  94%|█████████▍| 1.61G/1.71G [00:39<00:02, 40.9MB/s]\rDownloading pytorch_model.bin:  95%|█████████▌| 1.63G/1.71G [00:40<00:02, 40.9MB/s]\rDownloading pytorch_model.bin:  96%|█████████▌| 1.64G/1.71G [00:40<00:01, 41.1MB/s]\rDownloading pytorch_model.bin:  96%|█████████▌| 1.65G/1.71G [00:40<00:01, 41.7MB/s]\rDownloading pytorch_model.bin:  97%|█████████▋| 1.66G/1.71G [00:40<00:01, 41.6MB/s]\rDownloading pytorch_model.bin:  97%|█████████▋| 1.67G/1.71G [00:41<00:01, 42.0MB/s]\rDownloading pytorch_model.bin:  98%|█████████▊| 1.68G/1.71G [00:41<00:00, 41.9MB/s]\rDownloading pytorch_model.bin:  99%|█████████▊| 1.69G/1.71G [00:41<00:00, 42.1MB/s]\rDownloading pytorch_model.bin:  99%|█████████▉| 1.70G/1.71G [00:41<00:00, 42.0MB/s]\rDownloading pytorch_model.bin: 100%|█████████▉| 1.71G/1.71G [00:42<00:00, 42.2MB/s]\rDownloading pytorch_model.bin: 100%|██████████| 1.71G/1.71G [00:42<00:00, 40.5MB/s]\n",
            "\rDownloading (…)rocessor_config.json:   0%|          | 0.00/8.71k [00:00<?, ?B/s]\rDownloading (…)rocessor_config.json: 100%|██████████| 8.71k/8.71k [00:00<00:00, 1.31MB/s]\n",
            "/usr/local/envs/ssa/lib/python3.8/site-packages/transformers/models/oneformer/image_processing_oneformer.py:419: FutureWarning: The `reduce_labels` argument is deprecated and will be removed in v4.27. Please use `do_reduce_labels` instead.\n",
            "  warnings.warn(\n",
            "\rDownloading (…)okenizer_config.json:   0%|          | 0.00/808 [00:00<?, ?B/s]\rDownloading (…)okenizer_config.json: 100%|██████████| 808/808 [00:00<00:00, 294kB/s]\n",
            "\rDownloading (…)olve/main/vocab.json:   0%|          | 0.00/1.06M [00:00<?, ?B/s]\rDownloading (…)olve/main/vocab.json: 100%|██████████| 1.06M/1.06M [00:00<00:00, 1.55MB/s]\rDownloading (…)olve/main/vocab.json: 100%|██████████| 1.06M/1.06M [00:00<00:00, 1.55MB/s]\n",
            "\rDownloading (…)olve/main/merges.txt:   0%|          | 0.00/525k [00:00<?, ?B/s]\rDownloading (…)olve/main/merges.txt: 100%|██████████| 525k/525k [00:00<00:00, 1.01MB/s]\rDownloading (…)olve/main/merges.txt: 100%|██████████| 525k/525k [00:00<00:00, 1.01MB/s]\n",
            "\rDownloading (…)cial_tokens_map.json:   0%|          | 0.00/472 [00:00<?, ?B/s]\rDownloading (…)cial_tokens_map.json: 100%|██████████| 472/472 [00:00<00:00, 167kB/s]\n",
            "\rDownloading (…)lve/main/config.json:   0%|          | 0.00/84.3k [00:00<?, ?B/s]\rDownloading (…)lve/main/config.json: 100%|██████████| 84.3k/84.3k [00:00<00:00, 487kB/s]\rDownloading (…)lve/main/config.json: 100%|██████████| 84.3k/84.3k [00:00<00:00, 485kB/s]\n",
            "\rDownloading pytorch_model.bin:   0%|          | 0.00/880M [00:00<?, ?B/s]\rDownloading pytorch_model.bin:   1%|          | 10.5M/880M [00:01<02:08, 6.75MB/s]\rDownloading pytorch_model.bin:   2%|▏         | 21.0M/880M [00:02<01:17, 11.0MB/s]\rDownloading pytorch_model.bin:   4%|▎         | 31.5M/880M [00:02<01:00, 14.1MB/s]\rDownloading pytorch_model.bin:   5%|▍         | 41.9M/880M [00:02<00:47, 17.6MB/s]\rDownloading pytorch_model.bin:   6%|▌         | 52.4M/880M [00:03<00:45, 18.0MB/s]\rDownloading pytorch_model.bin:   7%|▋         | 62.9M/880M [00:04<00:43, 18.7MB/s]\rDownloading pytorch_model.bin:   8%|▊         | 73.4M/880M [00:04<00:37, 21.2MB/s]\rDownloading pytorch_model.bin:  10%|▉         | 83.9M/880M [00:04<00:38, 20.9MB/s]\rDownloading pytorch_model.bin:  11%|█         | 94.4M/880M [00:05<00:37, 20.7MB/s]\rDownloading pytorch_model.bin:  12%|█▏        | 105M/880M [00:05<00:33, 22.8MB/s] \rDownloading pytorch_model.bin:  13%|█▎        | 115M/880M [00:06<00:34, 22.0MB/s]\rDownloading pytorch_model.bin:  14%|█▍        | 126M/880M [00:06<00:35, 21.5MB/s]\rDownloading pytorch_model.bin:  15%|█▌        | 136M/880M [00:07<00:35, 21.1MB/s]\rDownloading pytorch_model.bin:  17%|█▋        | 147M/880M [00:07<00:35, 20.7MB/s]\rDownloading pytorch_model.bin:  18%|█▊        | 157M/880M [00:08<00:31, 22.8MB/s]\rDownloading pytorch_model.bin:  19%|█▉        | 168M/880M [00:08<00:32, 22.0MB/s]\rDownloading pytorch_model.bin:  20%|██        | 178M/880M [00:09<00:29, 23.8MB/s]\rDownloading pytorch_model.bin:  21%|██▏       | 189M/880M [00:09<00:30, 22.7MB/s]\rDownloading pytorch_model.bin:  23%|██▎       | 199M/880M [00:10<00:31, 21.9MB/s]\rDownloading pytorch_model.bin:  24%|██▍       | 210M/880M [00:10<00:28, 23.7MB/s]\rDownloading pytorch_model.bin:  25%|██▌       | 220M/880M [00:10<00:29, 22.6MB/s]\rDownloading pytorch_model.bin:  26%|██▌       | 231M/880M [00:11<00:29, 21.8MB/s]\rDownloading pytorch_model.bin:  27%|██▋       | 241M/880M [00:11<00:27, 23.5MB/s]\rDownloading pytorch_model.bin:  29%|██▊       | 252M/880M [00:12<00:27, 22.6MB/s]\rDownloading pytorch_model.bin:  30%|██▉       | 262M/880M [00:12<00:28, 21.9MB/s]\rDownloading pytorch_model.bin:  31%|███       | 273M/880M [00:13<00:25, 23.7MB/s]\rDownloading pytorch_model.bin:  32%|███▏      | 283M/880M [00:13<00:26, 22.6MB/s]\rDownloading pytorch_model.bin:  33%|███▎      | 294M/880M [00:14<00:26, 21.9MB/s]\rDownloading pytorch_model.bin:  35%|███▍      | 304M/880M [00:14<00:24, 23.7MB/s]\rDownloading pytorch_model.bin:  36%|███▌      | 315M/880M [00:15<00:24, 22.7MB/s]\rDownloading pytorch_model.bin:  37%|███▋      | 325M/880M [00:15<00:25, 21.9MB/s]\rDownloading pytorch_model.bin:  38%|███▊      | 336M/880M [00:16<00:23, 23.6MB/s]\rDownloading pytorch_model.bin:  39%|███▉      | 346M/880M [00:16<00:23, 22.6MB/s]\rDownloading pytorch_model.bin:  41%|████      | 357M/880M [00:16<00:21, 24.2MB/s]\rDownloading pytorch_model.bin:  42%|████▏     | 367M/880M [00:17<00:22, 22.9MB/s]\rDownloading pytorch_model.bin:  43%|████▎     | 377M/880M [00:17<00:22, 22.1MB/s]\rDownloading pytorch_model.bin:  44%|████▍     | 388M/880M [00:18<00:20, 23.8MB/s]\rDownloading pytorch_model.bin:  45%|████▌     | 398M/880M [00:18<00:21, 22.6MB/s]\rDownloading pytorch_model.bin:  46%|████▋     | 409M/880M [00:19<00:21, 22.0MB/s]\rDownloading pytorch_model.bin:  48%|████▊     | 419M/880M [00:19<00:19, 23.7MB/s]\rDownloading pytorch_model.bin:  49%|████▉     | 430M/880M [00:20<00:19, 22.5MB/s]\rDownloading pytorch_model.bin:  50%|█████     | 440M/880M [00:20<00:19, 22.0MB/s]\rDownloading pytorch_model.bin:  51%|█████▏    | 451M/880M [00:21<00:18, 23.7MB/s]\rDownloading pytorch_model.bin:  52%|█████▏    | 461M/880M [00:21<00:18, 22.5MB/s]\rDownloading pytorch_model.bin:  54%|█████▎    | 472M/880M [00:22<00:18, 21.8MB/s]\rDownloading pytorch_model.bin:  55%|█████▍    | 482M/880M [00:22<00:16, 23.7MB/s]\rDownloading pytorch_model.bin:  56%|█████▌    | 493M/880M [00:22<00:17, 22.5MB/s]\rDownloading pytorch_model.bin:  57%|█████▋    | 503M/880M [00:23<00:17, 21.8MB/s]\rDownloading pytorch_model.bin:  58%|█████▊    | 514M/880M [00:23<00:17, 21.2MB/s]\rDownloading pytorch_model.bin:  60%|█████▉    | 524M/880M [00:24<00:15, 23.1MB/s]\rDownloading pytorch_model.bin:  61%|██████    | 535M/880M [00:24<00:15, 22.3MB/s]\rDownloading pytorch_model.bin:  62%|██████▏   | 545M/880M [00:25<00:15, 21.7MB/s]\rDownloading pytorch_model.bin:  63%|██████▎   | 556M/880M [00:25<00:13, 23.5MB/s]\rDownloading pytorch_model.bin:  64%|██████▍   | 566M/880M [00:26<00:13, 22.4MB/s]\rDownloading pytorch_model.bin:  66%|██████▌   | 577M/880M [00:26<00:12, 24.1MB/s]\rDownloading pytorch_model.bin:  67%|██████▋   | 587M/880M [00:27<00:12, 22.8MB/s]\rDownloading pytorch_model.bin:  68%|██████▊   | 598M/880M [00:27<00:12, 21.9MB/s]\rDownloading pytorch_model.bin:  69%|██████▉   | 608M/880M [00:28<00:12, 21.3MB/s]\rDownloading pytorch_model.bin:  70%|███████   | 619M/880M [00:28<00:11, 23.1MB/s]\rDownloading pytorch_model.bin:  72%|███████▏  | 629M/880M [00:29<00:11, 22.2MB/s]\rDownloading pytorch_model.bin:  73%|███████▎  | 640M/880M [00:29<00:11, 21.6MB/s]\rDownloading pytorch_model.bin:  74%|███████▍  | 650M/880M [00:29<00:09, 23.3MB/s]\rDownloading pytorch_model.bin:  75%|███████▌  | 661M/880M [00:30<00:09, 22.4MB/s]\rDownloading pytorch_model.bin:  76%|███████▋  | 671M/880M [00:30<00:08, 24.1MB/s]\rDownloading pytorch_model.bin:  77%|███████▋  | 682M/880M [00:31<00:08, 22.9MB/s]\rDownloading pytorch_model.bin:  79%|███████▊  | 692M/880M [00:31<00:08, 22.0MB/s]\rDownloading pytorch_model.bin:  80%|███████▉  | 703M/880M [00:32<00:08, 21.5MB/s]\rDownloading pytorch_model.bin:  81%|████████  | 713M/880M [00:32<00:07, 23.5MB/s]\rDownloading pytorch_model.bin:  82%|████████▏ | 724M/880M [00:33<00:06, 22.3MB/s]\rDownloading pytorch_model.bin:  83%|████████▎ | 734M/880M [00:33<00:06, 21.7MB/s]\rDownloading pytorch_model.bin:  85%|████████▍ | 744M/880M [00:34<00:06, 21.2MB/s]\rDownloading pytorch_model.bin:  86%|████████▌ | 755M/880M [00:34<00:05, 20.9MB/s]\rDownloading pytorch_model.bin:  87%|████████▋ | 765M/880M [00:35<00:04, 22.8MB/s]\rDownloading pytorch_model.bin:  88%|████████▊ | 776M/880M [00:35<00:04, 22.1MB/s]\rDownloading pytorch_model.bin:  89%|████████▉ | 786M/880M [00:36<00:04, 21.5MB/s]\rDownloading pytorch_model.bin:  91%|█████████ | 797M/880M [00:36<00:03, 21.1MB/s]\rDownloading pytorch_model.bin:  92%|█████████▏| 807M/880M [00:37<00:03, 23.0MB/s]\rDownloading pytorch_model.bin:  93%|█████████▎| 818M/880M [00:37<00:02, 22.2MB/s]\rDownloading pytorch_model.bin:  94%|█████████▍| 828M/880M [00:37<00:02, 24.0MB/s]\rDownloading pytorch_model.bin:  95%|█████████▌| 839M/880M [00:38<00:01, 22.7MB/s]\rDownloading pytorch_model.bin:  97%|█████████▋| 849M/880M [00:38<00:01, 22.0MB/s]\rDownloading pytorch_model.bin:  98%|█████████▊| 860M/880M [00:39<00:00, 23.7MB/s]\rDownloading pytorch_model.bin:  99%|█████████▉| 870M/880M [00:39<00:00, 22.6MB/s]\rDownloading pytorch_model.bin: 100%|██████████| 880M/880M [00:40<00:00, 21.1MB/s]\rDownloading pytorch_model.bin: 100%|██████████| 880M/880M [00:40<00:00, 21.8MB/s]\n",
            "\rDownloading (…)rocessor_config.json:   0%|          | 0.00/445 [00:00<?, ?B/s]\rDownloading (…)rocessor_config.json: 100%|██████████| 445/445 [00:00<00:00, 161kB/s]\n",
            "\rDownloading (…)okenizer_config.json:   0%|          | 0.00/527 [00:00<?, ?B/s]\rDownloading (…)okenizer_config.json: 100%|██████████| 527/527 [00:00<00:00, 200kB/s]\n",
            "\rDownloading (…)solve/main/vocab.txt:   0%|          | 0.00/232k [00:00<?, ?B/s]\rDownloading (…)solve/main/vocab.txt: 100%|██████████| 232k/232k [00:00<00:00, 672kB/s]\rDownloading (…)solve/main/vocab.txt: 100%|██████████| 232k/232k [00:00<00:00, 671kB/s]\n",
            "\rDownloading (…)/main/tokenizer.json:   0%|          | 0.00/711k [00:00<?, ?B/s]\rDownloading (…)/main/tokenizer.json: 100%|██████████| 711k/711k [00:00<00:00, 1.01MB/s]\rDownloading (…)/main/tokenizer.json: 100%|██████████| 711k/711k [00:00<00:00, 1.01MB/s]\n",
            "\rDownloading (…)cial_tokens_map.json:   0%|          | 0.00/125 [00:00<?, ?B/s]\rDownloading (…)cial_tokens_map.json: 100%|██████████| 125/125 [00:00<00:00, 40.3kB/s]\n",
            "\rDownloading (…)lve/main/config.json:   0%|          | 0.00/4.60k [00:00<?, ?B/s]\rDownloading (…)lve/main/config.json: 100%|██████████| 4.60k/4.60k [00:00<00:00, 1.80MB/s]\n",
            "\rDownloading pytorch_model.bin:   0%|          | 0.00/1.88G [00:00<?, ?B/s]\rDownloading pytorch_model.bin:   1%|          | 10.5M/1.88G [00:00<00:29, 63.9MB/s]\rDownloading pytorch_model.bin:   1%|          | 21.0M/1.88G [00:00<00:25, 73.6MB/s]\rDownloading pytorch_model.bin:   2%|▏         | 31.5M/1.88G [00:00<00:24, 74.3MB/s]\rDownloading pytorch_model.bin:   2%|▏         | 41.9M/1.88G [00:00<00:24, 73.8MB/s]\rDownloading pytorch_model.bin:   3%|▎         | 52.4M/1.88G [00:00<00:25, 70.7MB/s]\rDownloading pytorch_model.bin:   3%|▎         | 62.9M/1.88G [00:00<00:24, 74.2MB/s]\rDownloading pytorch_model.bin:   4%|▍         | 73.4M/1.88G [00:00<00:23, 75.8MB/s]\rDownloading pytorch_model.bin:   4%|▍         | 83.9M/1.88G [00:01<00:23, 76.9MB/s]\rDownloading pytorch_model.bin:   5%|▌         | 94.4M/1.88G [00:01<00:23, 75.5MB/s]\rDownloading pytorch_model.bin:   6%|▌         | 105M/1.88G [00:01<00:22, 77.5MB/s] \rDownloading pytorch_model.bin:   6%|▌         | 115M/1.88G [00:01<00:21, 80.9MB/s]\rDownloading pytorch_model.bin:   7%|▋         | 126M/1.88G [00:01<00:21, 82.5MB/s]\rDownloading pytorch_model.bin:   7%|▋         | 136M/1.88G [00:01<00:22, 78.6MB/s]\rDownloading pytorch_model.bin:   8%|▊         | 147M/1.88G [00:01<00:22, 78.7MB/s]\rDownloading pytorch_model.bin:   8%|▊         | 157M/1.88G [00:02<00:22, 78.0MB/s]\rDownloading pytorch_model.bin:   9%|▉         | 168M/1.88G [00:02<00:21, 79.2MB/s]\rDownloading pytorch_model.bin:   9%|▉         | 178M/1.88G [00:02<00:22, 77.2MB/s]\rDownloading pytorch_model.bin:  10%|█         | 189M/1.88G [00:02<00:21, 78.3MB/s]\rDownloading pytorch_model.bin:  11%|█         | 199M/1.88G [00:02<00:21, 79.8MB/s]\rDownloading pytorch_model.bin:  11%|█         | 210M/1.88G [00:02<00:20, 80.0MB/s]\rDownloading pytorch_model.bin:  12%|█▏        | 220M/1.88G [00:02<00:20, 81.1MB/s]\rDownloading pytorch_model.bin:  12%|█▏        | 231M/1.88G [00:02<00:20, 81.8MB/s]\rDownloading pytorch_model.bin:  13%|█▎        | 241M/1.88G [00:03<00:20, 80.9MB/s]\rDownloading pytorch_model.bin:  13%|█▎        | 252M/1.88G [00:03<00:20, 79.2MB/s]\rDownloading pytorch_model.bin:  14%|█▍        | 262M/1.88G [00:03<00:20, 80.5MB/s]\rDownloading pytorch_model.bin:  15%|█▍        | 273M/1.88G [00:03<00:22, 71.9MB/s]\rDownloading pytorch_model.bin:  15%|█▌        | 283M/1.88G [00:03<00:21, 73.8MB/s]\rDownloading pytorch_model.bin:  16%|█▌        | 294M/1.88G [00:03<00:22, 69.8MB/s]\rDownloading pytorch_model.bin:  16%|█▌        | 304M/1.88G [00:03<00:22, 70.6MB/s]\rDownloading pytorch_model.bin:  17%|█▋        | 315M/1.88G [00:04<00:23, 67.3MB/s]\rDownloading pytorch_model.bin:  17%|█▋        | 325M/1.88G [00:04<00:22, 68.5MB/s]\rDownloading pytorch_model.bin:  18%|█▊        | 336M/1.88G [00:04<00:21, 73.0MB/s]\rDownloading pytorch_model.bin:  18%|█▊        | 346M/1.88G [00:04<00:20, 75.9MB/s]\rDownloading pytorch_model.bin:  19%|█▉        | 357M/1.88G [00:04<00:19, 79.4MB/s]\rDownloading pytorch_model.bin:  20%|█▉        | 367M/1.88G [00:04<00:18, 80.5MB/s]\rDownloading pytorch_model.bin:  20%|██        | 377M/1.88G [00:04<00:20, 74.2MB/s]\rDownloading pytorch_model.bin:  21%|██        | 388M/1.88G [00:05<00:19, 75.4MB/s]\rDownloading pytorch_model.bin:  21%|██        | 398M/1.88G [00:05<00:19, 75.1MB/s]\rDownloading pytorch_model.bin:  22%|██▏       | 409M/1.88G [00:05<00:18, 77.9MB/s]\rDownloading pytorch_model.bin:  22%|██▏       | 419M/1.88G [00:05<00:17, 81.1MB/s]\rDownloading pytorch_model.bin:  23%|██▎       | 430M/1.88G [00:05<00:17, 82.0MB/s]\rDownloading pytorch_model.bin:  23%|██▎       | 440M/1.88G [00:05<00:16, 84.7MB/s]\rDownloading pytorch_model.bin:  24%|██▍       | 451M/1.88G [00:05<00:16, 86.3MB/s]\rDownloading pytorch_model.bin:  25%|██▍       | 461M/1.88G [00:05<00:16, 86.4MB/s]\rDownloading pytorch_model.bin:  25%|██▌       | 472M/1.88G [00:06<00:16, 85.8MB/s]\rDownloading pytorch_model.bin:  26%|██▌       | 482M/1.88G [00:06<00:15, 87.4MB/s]\rDownloading pytorch_model.bin:  26%|██▌       | 493M/1.88G [00:06<00:16, 83.9MB/s]\rDownloading pytorch_model.bin:  27%|██▋       | 503M/1.88G [00:06<00:16, 84.5MB/s]\rDownloading pytorch_model.bin:  27%|██▋       | 514M/1.88G [00:06<00:16, 83.3MB/s]\rDownloading pytorch_model.bin:  28%|██▊       | 524M/1.88G [00:06<00:16, 83.0MB/s]\rDownloading pytorch_model.bin:  28%|██▊       | 535M/1.88G [00:06<00:15, 84.8MB/s]\rDownloading pytorch_model.bin:  29%|██▉       | 545M/1.88G [00:06<00:15, 86.7MB/s]\rDownloading pytorch_model.bin:  30%|██▉       | 556M/1.88G [00:07<00:15, 86.8MB/s]\rDownloading pytorch_model.bin:  30%|███       | 566M/1.88G [00:07<00:15, 86.2MB/s]\rDownloading pytorch_model.bin:  31%|███       | 577M/1.88G [00:07<00:15, 86.1MB/s]\rDownloading pytorch_model.bin:  31%|███       | 587M/1.88G [00:07<00:15, 84.2MB/s]\rDownloading pytorch_model.bin:  32%|███▏      | 598M/1.88G [00:07<00:17, 72.5MB/s]\rDownloading pytorch_model.bin:  32%|███▏      | 608M/1.88G [00:07<00:16, 75.6MB/s]\rDownloading pytorch_model.bin:  33%|███▎      | 619M/1.88G [00:07<00:16, 77.4MB/s]\rDownloading pytorch_model.bin:  33%|███▎      | 629M/1.88G [00:08<00:15, 80.5MB/s]\rDownloading pytorch_model.bin:  34%|███▍      | 640M/1.88G [00:08<00:15, 78.7MB/s]\rDownloading pytorch_model.bin:  35%|███▍      | 650M/1.88G [00:08<00:15, 78.6MB/s]\rDownloading pytorch_model.bin:  35%|███▌      | 661M/1.88G [00:08<00:15, 80.2MB/s]\rDownloading pytorch_model.bin:  36%|███▌      | 671M/1.88G [00:08<00:15, 80.3MB/s]\rDownloading pytorch_model.bin:  36%|███▋      | 682M/1.88G [00:08<00:14, 83.0MB/s]\rDownloading pytorch_model.bin:  37%|███▋      | 692M/1.88G [00:08<00:14, 84.5MB/s]\rDownloading pytorch_model.bin:  37%|███▋      | 703M/1.88G [00:08<00:13, 85.1MB/s]\rDownloading pytorch_model.bin:  38%|███▊      | 713M/1.88G [00:09<00:13, 85.7MB/s]\rDownloading pytorch_model.bin:  39%|███▊      | 724M/1.88G [00:09<00:14, 80.0MB/s]\rDownloading pytorch_model.bin:  39%|███▉      | 734M/1.88G [00:09<00:14, 79.1MB/s]\rDownloading pytorch_model.bin:  40%|███▉      | 744M/1.88G [00:09<00:14, 77.7MB/s]\rDownloading pytorch_model.bin:  40%|████      | 755M/1.88G [00:09<00:14, 79.8MB/s]\rDownloading pytorch_model.bin:  41%|████      | 765M/1.88G [00:09<00:13, 80.2MB/s]\rDownloading pytorch_model.bin:  41%|████▏     | 776M/1.88G [00:09<00:13, 81.6MB/s]\rDownloading pytorch_model.bin:  42%|████▏     | 786M/1.88G [00:09<00:13, 81.6MB/s]\rDownloading pytorch_model.bin:  42%|████▏     | 797M/1.88G [00:10<00:12, 84.0MB/s]\rDownloading pytorch_model.bin:  43%|████▎     | 807M/1.88G [00:10<00:12, 84.3MB/s]\rDownloading pytorch_model.bin:  44%|████▎     | 818M/1.88G [00:10<00:13, 81.0MB/s]\rDownloading pytorch_model.bin:  44%|████▍     | 828M/1.88G [00:10<00:12, 82.3MB/s]\rDownloading pytorch_model.bin:  45%|████▍     | 839M/1.88G [00:10<00:12, 82.6MB/s]\rDownloading pytorch_model.bin:  45%|████▌     | 849M/1.88G [00:10<00:12, 82.0MB/s]\rDownloading pytorch_model.bin:  46%|████▌     | 860M/1.88G [00:10<00:13, 78.2MB/s]\rDownloading pytorch_model.bin:  46%|████▋     | 870M/1.88G [00:11<00:13, 74.0MB/s]\rDownloading pytorch_model.bin:  47%|████▋     | 881M/1.88G [00:11<00:13, 75.5MB/s]\rDownloading pytorch_model.bin:  47%|████▋     | 891M/1.88G [00:11<00:12, 77.7MB/s]\rDownloading pytorch_model.bin:  48%|████▊     | 902M/1.88G [00:11<00:12, 80.8MB/s]\rDownloading pytorch_model.bin:  49%|████▊     | 912M/1.88G [00:11<00:12, 78.0MB/s]\rDownloading pytorch_model.bin:  49%|████▉     | 923M/1.88G [00:11<00:12, 77.6MB/s]\rDownloading pytorch_model.bin:  50%|████▉     | 933M/1.88G [00:11<00:12, 74.8MB/s]\rDownloading pytorch_model.bin:  50%|█████     | 944M/1.88G [00:11<00:12, 77.4MB/s]\rDownloading pytorch_model.bin:  51%|█████     | 954M/1.88G [00:12<00:13, 69.8MB/s]\rDownloading pytorch_model.bin:  51%|█████▏    | 965M/1.88G [00:12<00:13, 70.3MB/s]\rDownloading pytorch_model.bin:  52%|█████▏    | 975M/1.88G [00:12<00:13, 69.3MB/s]\rDownloading pytorch_model.bin:  52%|█████▏    | 986M/1.88G [00:12<00:12, 71.4MB/s]\rDownloading pytorch_model.bin:  53%|█████▎    | 996M/1.88G [00:12<00:12, 73.5MB/s]\rDownloading pytorch_model.bin:  54%|█████▎    | 1.01G/1.88G [00:12<00:11, 75.8MB/s]\rDownloading pytorch_model.bin:  54%|█████▍    | 1.02G/1.88G [00:12<00:11, 76.2MB/s]\rDownloading pytorch_model.bin:  55%|█████▍    | 1.03G/1.88G [00:13<00:11, 77.2MB/s]\rDownloading pytorch_model.bin:  55%|█████▌    | 1.04G/1.88G [00:13<00:11, 75.3MB/s]\rDownloading pytorch_model.bin:  56%|█████▌    | 1.05G/1.88G [00:13<00:10, 77.7MB/s]\rDownloading pytorch_model.bin:  56%|█████▋    | 1.06G/1.88G [00:13<00:10, 79.4MB/s]\rDownloading pytorch_model.bin:  57%|█████▋    | 1.07G/1.88G [00:13<00:10, 80.5MB/s]\rDownloading pytorch_model.bin:  57%|█████▋    | 1.08G/1.88G [00:13<00:09, 82.2MB/s]\rDownloading pytorch_model.bin:  58%|█████▊    | 1.09G/1.88G [00:13<00:09, 79.9MB/s]\rDownloading pytorch_model.bin:  59%|█████▊    | 1.10G/1.88G [00:14<00:09, 80.8MB/s]\rDownloading pytorch_model.bin:  59%|█████▉    | 1.11G/1.88G [00:14<00:09, 83.7MB/s]\rDownloading pytorch_model.bin:  60%|█████▉    | 1.12G/1.88G [00:14<00:09, 81.7MB/s]\rDownloading pytorch_model.bin:  60%|██████    | 1.13G/1.88G [00:14<00:09, 81.0MB/s]\rDownloading pytorch_model.bin:  61%|██████    | 1.14G/1.88G [00:14<00:08, 82.6MB/s]\rDownloading pytorch_model.bin:  61%|██████▏   | 1.15G/1.88G [00:14<00:08, 81.3MB/s]\rDownloading pytorch_model.bin:  62%|██████▏   | 1.16G/1.88G [00:14<00:08, 82.7MB/s]\rDownloading pytorch_model.bin:  62%|██████▏   | 1.17G/1.88G [00:14<00:08, 80.1MB/s]\rDownloading pytorch_model.bin:  63%|██████▎   | 1.18G/1.88G [00:15<00:12, 54.2MB/s]\rDownloading pytorch_model.bin:  64%|██████▍   | 1.21G/1.88G [00:15<00:08, 78.3MB/s]\rDownloading pytorch_model.bin:  65%|██████▍   | 1.22G/1.88G [00:15<00:08, 80.2MB/s]\rDownloading pytorch_model.bin:  65%|██████▌   | 1.23G/1.88G [00:15<00:08, 79.5MB/s]\rDownloading pytorch_model.bin:  66%|██████▌   | 1.24G/1.88G [00:15<00:08, 79.9MB/s]\rDownloading pytorch_model.bin:  66%|██████▋   | 1.25G/1.88G [00:15<00:07, 82.0MB/s]\rDownloading pytorch_model.bin:  67%|██████▋   | 1.26G/1.88G [00:15<00:07, 83.1MB/s]\rDownloading pytorch_model.bin:  68%|██████▊   | 1.27G/1.88G [00:16<00:07, 82.8MB/s]\rDownloading pytorch_model.bin:  68%|██████▊   | 1.28G/1.88G [00:16<00:07, 83.6MB/s]\rDownloading pytorch_model.bin:  69%|██████▊   | 1.29G/1.88G [00:16<00:07, 83.8MB/s]\rDownloading pytorch_model.bin:  69%|██████▉   | 1.30G/1.88G [00:16<00:06, 84.2MB/s]\rDownloading pytorch_model.bin:  70%|██████▉   | 1.31G/1.88G [00:16<00:06, 81.7MB/s]\rDownloading pytorch_model.bin:  70%|███████   | 1.32G/1.88G [00:16<00:07, 76.4MB/s]\rDownloading pytorch_model.bin:  71%|███████   | 1.33G/1.88G [00:16<00:06, 78.5MB/s]\rDownloading pytorch_model.bin:  71%|███████▏  | 1.34G/1.88G [00:17<00:06, 79.1MB/s]\rDownloading pytorch_model.bin:  72%|███████▏  | 1.35G/1.88G [00:17<00:06, 80.8MB/s]\rDownloading pytorch_model.bin:  73%|███████▎  | 1.36G/1.88G [00:17<00:06, 82.0MB/s]\rDownloading pytorch_model.bin:  73%|███████▎  | 1.37G/1.88G [00:17<00:06, 83.0MB/s]\rDownloading pytorch_model.bin:  74%|███████▎  | 1.38G/1.88G [00:17<00:06, 82.2MB/s]\rDownloading pytorch_model.bin:  74%|███████▍  | 1.39G/1.88G [00:17<00:05, 83.4MB/s]\rDownloading pytorch_model.bin:  75%|███████▍  | 1.41G/1.88G [00:17<00:05, 84.2MB/s]\rDownloading pytorch_model.bin:  75%|███████▌  | 1.42G/1.88G [00:17<00:05, 85.2MB/s]\rDownloading pytorch_model.bin:  76%|███████▌  | 1.43G/1.88G [00:18<00:05, 82.8MB/s]\rDownloading pytorch_model.bin:  76%|███████▋  | 1.44G/1.88G [00:18<00:05, 83.2MB/s]\rDownloading pytorch_model.bin:  77%|███████▋  | 1.45G/1.88G [00:18<00:05, 74.7MB/s]\rDownloading pytorch_model.bin:  78%|███████▊  | 1.46G/1.88G [00:18<00:05, 78.2MB/s]\rDownloading pytorch_model.bin:  78%|███████▊  | 1.47G/1.88G [00:18<00:05, 72.7MB/s]\rDownloading pytorch_model.bin:  79%|███████▊  | 1.48G/1.88G [00:18<00:05, 77.1MB/s]\rDownloading pytorch_model.bin:  79%|███████▉  | 1.49G/1.88G [00:18<00:04, 80.1MB/s]\rDownloading pytorch_model.bin:  80%|███████▉  | 1.50G/1.88G [00:18<00:04, 82.4MB/s]\rDownloading pytorch_model.bin:  80%|████████  | 1.51G/1.88G [00:19<00:04, 82.4MB/s]\rDownloading pytorch_model.bin:  81%|████████  | 1.52G/1.88G [00:19<00:04, 72.7MB/s]\rDownloading pytorch_model.bin:  81%|████████▏ | 1.53G/1.88G [00:19<00:04, 72.5MB/s]\rDownloading pytorch_model.bin:  82%|████████▏ | 1.54G/1.88G [00:19<00:04, 75.8MB/s]\rDownloading pytorch_model.bin:  83%|████████▎ | 1.55G/1.88G [00:19<00:04, 76.2MB/s]\rDownloading pytorch_model.bin:  83%|████████▎ | 1.56G/1.88G [00:19<00:04, 76.3MB/s]\rDownloading pytorch_model.bin:  84%|████████▎ | 1.57G/1.88G [00:19<00:03, 78.2MB/s]\rDownloading pytorch_model.bin:  84%|████████▍ | 1.58G/1.88G [00:20<00:03, 78.5MB/s]\rDownloading pytorch_model.bin:  85%|████████▍ | 1.59G/1.88G [00:20<00:03, 80.5MB/s]\rDownloading pytorch_model.bin:  85%|████████▌ | 1.60G/1.88G [00:20<00:03, 80.7MB/s]\rDownloading pytorch_model.bin:  86%|████████▌ | 1.61G/1.88G [00:20<00:03, 69.8MB/s]\rDownloading pytorch_model.bin:  86%|████████▋ | 1.63G/1.88G [00:20<00:03, 75.0MB/s]\rDownloading pytorch_model.bin:  87%|████████▋ | 1.64G/1.88G [00:20<00:03, 76.8MB/s]\rDownloading pytorch_model.bin:  88%|████████▊ | 1.65G/1.88G [00:20<00:02, 79.4MB/s]\rDownloading pytorch_model.bin:  88%|████████▊ | 1.66G/1.88G [00:21<00:02, 81.5MB/s]\rDownloading pytorch_model.bin:  89%|████████▊ | 1.67G/1.88G [00:21<00:02, 80.9MB/s]\rDownloading pytorch_model.bin:  89%|████████▉ | 1.68G/1.88G [00:21<00:03, 65.1MB/s]\rDownloading pytorch_model.bin:  90%|████████▉ | 1.69G/1.88G [00:21<00:02, 70.8MB/s]\rDownloading pytorch_model.bin:  90%|█████████ | 1.70G/1.88G [00:21<00:02, 71.6MB/s]\rDownloading pytorch_model.bin:  91%|█████████ | 1.71G/1.88G [00:21<00:02, 73.9MB/s]\rDownloading pytorch_model.bin:  92%|█████████▏| 1.72G/1.88G [00:21<00:02, 76.7MB/s]\rDownloading pytorch_model.bin:  92%|█████████▏| 1.73G/1.88G [00:22<00:01, 79.4MB/s]\rDownloading pytorch_model.bin:  93%|█████████▎| 1.74G/1.88G [00:22<00:01, 79.9MB/s]\rDownloading pytorch_model.bin:  93%|█████████▎| 1.75G/1.88G [00:22<00:01, 81.6MB/s]\rDownloading pytorch_model.bin:  94%|█████████▎| 1.76G/1.88G [00:22<00:01, 83.3MB/s]\rDownloading pytorch_model.bin:  94%|█████████▍| 1.77G/1.88G [00:22<00:01, 85.0MB/s]\rDownloading pytorch_model.bin:  95%|█████████▍| 1.78G/1.88G [00:22<00:01, 83.6MB/s]\rDownloading pytorch_model.bin:  95%|█████████▌| 1.79G/1.88G [00:22<00:01, 81.7MB/s]\rDownloading pytorch_model.bin:  96%|█████████▌| 1.80G/1.88G [00:22<00:00, 81.7MB/s]\rDownloading pytorch_model.bin:  97%|█████████▋| 1.81G/1.88G [00:23<00:00, 81.9MB/s]\rDownloading pytorch_model.bin:  97%|█████████▋| 1.82G/1.88G [00:23<00:00, 82.9MB/s]\rDownloading pytorch_model.bin:  98%|█████████▊| 1.84G/1.88G [00:23<00:00, 79.8MB/s]\rDownloading pytorch_model.bin:  98%|█████████▊| 1.85G/1.88G [00:23<00:00, 80.8MB/s]\rDownloading pytorch_model.bin:  99%|█████████▉| 1.86G/1.88G [00:23<00:00, 82.0MB/s]\rDownloading pytorch_model.bin:  99%|█████████▉| 1.87G/1.88G [00:23<00:00, 83.3MB/s]\rDownloading pytorch_model.bin: 100%|█████████▉| 1.88G/1.88G [00:23<00:00, 84.3MB/s]\rDownloading pytorch_model.bin: 100%|██████████| 1.88G/1.88G [00:23<00:00, 78.9MB/s]\n",
            "\rDownloading (…)rocessor_config.json:   0%|          | 0.00/380 [00:00<?, ?B/s]\rDownloading (…)rocessor_config.json: 100%|██████████| 380/380 [00:00<00:00, 134kB/s]\n",
            "\rDownloading (…)okenizer_config.json:   0%|          | 0.00/974 [00:00<?, ?B/s]\rDownloading (…)okenizer_config.json: 100%|██████████| 974/974 [00:00<00:00, 335kB/s]\n",
            "\rDownloading (…)olve/main/vocab.json:   0%|          | 0.00/1.06M [00:00<?, ?B/s]\rDownloading (…)olve/main/vocab.json: 100%|██████████| 1.06M/1.06M [00:00<00:00, 1.53MB/s]\rDownloading (…)olve/main/vocab.json: 100%|██████████| 1.06M/1.06M [00:00<00:00, 1.53MB/s]\n",
            "\rDownloading (…)olve/main/merges.txt:   0%|          | 0.00/525k [00:00<?, ?B/s]\rDownloading (…)olve/main/merges.txt: 100%|██████████| 525k/525k [00:00<00:00, 1.01MB/s]\rDownloading (…)olve/main/merges.txt: 100%|██████████| 525k/525k [00:00<00:00, 1.01MB/s]\n",
            "\rDownloading (…)cial_tokens_map.json:   0%|          | 0.00/472 [00:00<?, ?B/s]\rDownloading (…)cial_tokens_map.json: 100%|██████████| 472/472 [00:00<00:00, 179kB/s]\n",
            "\rDownloading (…)lve/main/config.json:   0%|          | 0.00/4.73k [00:00<?, ?B/s]\rDownloading (…)lve/main/config.json: 100%|██████████| 4.73k/4.73k [00:00<00:00, 1.82MB/s]\n",
            "\rDownloading pytorch_model.bin:   0%|          | 0.00/603M [00:00<?, ?B/s]\rDownloading pytorch_model.bin:   2%|▏         | 10.5M/603M [00:00<00:06, 86.4MB/s]\rDownloading pytorch_model.bin:   3%|▎         | 21.0M/603M [00:00<00:06, 85.7MB/s]\rDownloading pytorch_model.bin:   5%|▌         | 31.5M/603M [00:00<00:07, 78.0MB/s]\rDownloading pytorch_model.bin:   7%|▋         | 41.9M/603M [00:00<00:06, 82.3MB/s]\rDownloading pytorch_model.bin:   9%|▊         | 52.4M/603M [00:00<00:06, 82.2MB/s]\rDownloading pytorch_model.bin:  10%|█         | 62.9M/603M [00:00<00:06, 77.4MB/s]\rDownloading pytorch_model.bin:  12%|█▏        | 73.4M/603M [00:00<00:06, 80.7MB/s]\rDownloading pytorch_model.bin:  14%|█▍        | 83.9M/603M [00:01<00:06, 82.7MB/s]\rDownloading pytorch_model.bin:  16%|█▌        | 94.4M/603M [00:01<00:06, 77.0MB/s]\rDownloading pytorch_model.bin:  17%|█▋        | 105M/603M [00:01<00:06, 78.5MB/s] \rDownloading pytorch_model.bin:  19%|█▉        | 115M/603M [00:01<00:06, 77.0MB/s]\rDownloading pytorch_model.bin:  21%|██        | 126M/603M [00:01<00:06, 76.5MB/s]\rDownloading pytorch_model.bin:  23%|██▎       | 136M/603M [00:01<00:05, 80.4MB/s]\rDownloading pytorch_model.bin:  24%|██▍       | 147M/603M [00:01<00:05, 81.4MB/s]\rDownloading pytorch_model.bin:  26%|██▌       | 157M/603M [00:01<00:05, 81.4MB/s]\rDownloading pytorch_model.bin:  28%|██▊       | 168M/603M [00:02<00:05, 79.7MB/s]\rDownloading pytorch_model.bin:  30%|██▉       | 178M/603M [00:02<00:06, 69.1MB/s]\rDownloading pytorch_model.bin:  31%|███▏      | 189M/603M [00:02<00:06, 68.1MB/s]\rDownloading pytorch_model.bin:  33%|███▎      | 199M/603M [00:02<00:05, 69.7MB/s]\rDownloading pytorch_model.bin:  35%|███▍      | 210M/603M [00:02<00:05, 73.0MB/s]\rDownloading pytorch_model.bin:  37%|███▋      | 220M/603M [00:02<00:05, 74.0MB/s]\rDownloading pytorch_model.bin:  38%|███▊      | 231M/603M [00:02<00:04, 75.3MB/s]\rDownloading pytorch_model.bin:  40%|███▉      | 241M/603M [00:03<00:04, 78.2MB/s]\rDownloading pytorch_model.bin:  42%|████▏     | 252M/603M [00:03<00:04, 77.9MB/s]\rDownloading pytorch_model.bin:  43%|████▎     | 262M/603M [00:03<00:04, 76.3MB/s]\rDownloading pytorch_model.bin:  45%|████▌     | 273M/603M [00:03<00:04, 78.5MB/s]\rDownloading pytorch_model.bin:  47%|████▋     | 283M/603M [00:03<00:03, 80.9MB/s]\rDownloading pytorch_model.bin:  49%|████▊     | 294M/603M [00:03<00:03, 82.8MB/s]\rDownloading pytorch_model.bin:  50%|█████     | 304M/603M [00:03<00:03, 83.0MB/s]\rDownloading pytorch_model.bin:  52%|█████▏    | 315M/603M [00:04<00:03, 83.5MB/s]\rDownloading pytorch_model.bin:  54%|█████▍    | 325M/603M [00:04<00:03, 81.9MB/s]\rDownloading pytorch_model.bin:  56%|█████▌    | 336M/603M [00:04<00:03, 82.8MB/s]\rDownloading pytorch_model.bin:  57%|█████▋    | 346M/603M [00:04<00:03, 80.3MB/s]\rDownloading pytorch_model.bin:  59%|█████▉    | 357M/603M [00:04<00:03, 80.2MB/s]\rDownloading pytorch_model.bin:  61%|██████    | 367M/603M [00:04<00:02, 79.6MB/s]\rDownloading pytorch_model.bin:  63%|██████▎   | 377M/603M [00:04<00:02, 78.3MB/s]\rDownloading pytorch_model.bin:  64%|██████▍   | 388M/603M [00:04<00:02, 80.7MB/s]\rDownloading pytorch_model.bin:  66%|██████▌   | 398M/603M [00:05<00:02, 82.0MB/s]\rDownloading pytorch_model.bin:  68%|██████▊   | 409M/603M [00:05<00:02, 80.2MB/s]\rDownloading pytorch_model.bin:  70%|██████▉   | 419M/603M [00:05<00:02, 82.3MB/s]\rDownloading pytorch_model.bin:  71%|███████▏  | 430M/603M [00:05<00:02, 83.7MB/s]\rDownloading pytorch_model.bin:  73%|███████▎  | 440M/603M [00:05<00:01, 84.0MB/s]\rDownloading pytorch_model.bin:  75%|███████▍  | 451M/603M [00:05<00:01, 81.3MB/s]\rDownloading pytorch_model.bin:  76%|███████▋  | 461M/603M [00:05<00:01, 77.0MB/s]\rDownloading pytorch_model.bin:  78%|███████▊  | 472M/603M [00:05<00:01, 77.9MB/s]\rDownloading pytorch_model.bin:  80%|███████▉  | 482M/603M [00:06<00:01, 80.6MB/s]\rDownloading pytorch_model.bin:  82%|████████▏ | 493M/603M [00:06<00:01, 81.8MB/s]\rDownloading pytorch_model.bin:  83%|████████▎ | 503M/603M [00:06<00:01, 82.7MB/s]\rDownloading pytorch_model.bin:  85%|████████▌ | 514M/603M [00:06<00:01, 81.1MB/s]\rDownloading pytorch_model.bin:  87%|████████▋ | 524M/603M [00:06<00:00, 82.6MB/s]\rDownloading pytorch_model.bin:  89%|████████▊ | 535M/603M [00:06<00:00, 79.4MB/s]\rDownloading pytorch_model.bin:  90%|█████████ | 545M/603M [00:06<00:00, 79.9MB/s]\rDownloading pytorch_model.bin:  92%|█████████▏| 556M/603M [00:07<00:00, 78.1MB/s]\rDownloading pytorch_model.bin:  94%|█████████▍| 566M/603M [00:07<00:00, 77.5MB/s]\rDownloading pytorch_model.bin:  96%|█████████▌| 577M/603M [00:07<00:00, 80.0MB/s]\rDownloading pytorch_model.bin:  97%|█████████▋| 587M/603M [00:07<00:00, 82.0MB/s]\rDownloading pytorch_model.bin:  99%|█████████▉| 598M/603M [00:07<00:00, 79.4MB/s]\rDownloading pytorch_model.bin: 100%|██████████| 603M/603M [00:07<00:00, 79.3MB/s]\n",
            "/usr/local/envs/ssa/lib/python3.8/site-packages/transformers/generation/utils.py:1288: UserWarning: Using `max_length`'s default (20) to control the generation length. This behaviour is deprecated and will be removed from the config in v5 of Transformers -- we recommend using `max_new_tokens` to control the maximum length of the generation.\n",
            "  warnings.warn(\n",
            "/usr/local/envs/ssa/lib/python3.8/site-packages/transformers/generation/utils.py:1288: UserWarning: Using `max_length`'s default (20) to control the generation length. This behaviour is deprecated and will be removed from the config in v5 of Transformers -- we recommend using `max_new_tokens` to control the maximum length of the generation.\n",
            "  warnings.warn(\n"
          ]
        }
      ]
    },
    {
      "cell_type": "markdown",
      "source": [
        "light-mode是指在运行Semantic-Segment-Anything项目时使用的一种模式，它可以减少显存的开销，提高推理的速度1。light-mode的原理是将图片分割成若干个小块，然后对每个小块进行语义分割，最后将结果拼接起来。\n",
        "\n",
        "和正常模式相比，light-mode有以下特点：\n",
        "\n",
        "light-mode可以处理更大的图片，因为它不需要一次性加载整张图片到显存中\n",
        "light-mode可以节省显存的使用，因为它只需要处理小块的图片\n",
        "light-mode可以提高推理的速度，因为它可以并行地对多个小块进行语义分割\n",
        "light-mode可能会降低分割的精度，因为它会忽略小块之间的上下文信息"
      ],
      "metadata": {
        "id": "Oc9PdUsArfjF"
      }
    },
    {
      "cell_type": "code",
      "source": [
        "#数据集地址自定义填写--light_mode（）\n",
        "#一张图片用A100跑的话差不多1分半左右\n",
        "#T4显卡跑只会抛出第一张就出错\n",
        "#V100计算卡3张4分钟\n",
        "%%bash\n",
        "source activate ssa\n",
        "conda env list\n",
        "python /content/Semantic-Segment-Anything/scripts/main_ssa_engine.py --data_dir=/content/Semantic-Segment-Anything/data/test --out_dir=output --world_size=1 --save_img --sam --ckpt_path=/content/Semantic-Segment-Anything/ckp/sam_vit_h_4b8939.pth --light_mode"
      ],
      "metadata": {
        "id": "XI0o6KKrZPTC",
        "colab": {
          "base_uri": "https://localhost:8080/"
        },
        "outputId": "41076674-180d-46b3-a9fb-df354b190b31"
      },
      "execution_count": 26,
      "outputs": [
        {
          "output_type": "stream",
          "name": "stdout",
          "text": [
            "# conda environments:\n",
            "#\n",
            "base                     /usr/local\n",
            "ssa                   *  /usr/local/envs/ssa\n",
            "\n",
            "Total number of files:  3\n",
            "[Save] save SSA-engine annotation results:  output/ADE_val_3_semantic.json\n",
            "[Save] save SSA-engine annotation results:  output/ADE_train_1_semantic.json\n",
            "[Save] save SSA-engine annotation results:  output/ADE_train_2_semantic.json\n"
          ]
        },
        {
          "output_type": "stream",
          "name": "stderr",
          "text": [
            "\rDownloading (…)rocessor_config.json:   0%|          | 0.00/316 [00:00<?, ?B/s]\rDownloading (…)rocessor_config.json: 100%|██████████| 316/316 [00:00<00:00, 45.6kB/s]\n",
            "\rDownloading (…)okenizer_config.json:   0%|          | 0.00/568 [00:00<?, ?B/s]\rDownloading (…)okenizer_config.json: 100%|██████████| 568/568 [00:00<00:00, 93.2kB/s]\n",
            "\rDownloading (…)olve/main/vocab.json:   0%|          | 0.00/862k [00:00<?, ?B/s]\rDownloading (…)olve/main/vocab.json: 100%|██████████| 862k/862k [00:00<00:00, 1.26MB/s]\rDownloading (…)olve/main/vocab.json: 100%|██████████| 862k/862k [00:00<00:00, 1.26MB/s]\n",
            "\rDownloading (…)olve/main/merges.txt:   0%|          | 0.00/525k [00:00<?, ?B/s]\rDownloading (…)olve/main/merges.txt: 100%|██████████| 525k/525k [00:00<00:00, 1.02MB/s]\rDownloading (…)olve/main/merges.txt: 100%|██████████| 525k/525k [00:00<00:00, 1.02MB/s]\n",
            "\rDownloading (…)/main/tokenizer.json:   0%|          | 0.00/2.22M [00:00<?, ?B/s]\rDownloading (…)/main/tokenizer.json: 100%|██████████| 2.22M/2.22M [00:00<00:00, 2.55MB/s]\rDownloading (…)/main/tokenizer.json: 100%|██████████| 2.22M/2.22M [00:00<00:00, 2.54MB/s]\n",
            "\rDownloading (…)cial_tokens_map.json:   0%|          | 0.00/389 [00:00<?, ?B/s]\rDownloading (…)cial_tokens_map.json: 100%|██████████| 389/389 [00:00<00:00, 125kB/s]\n",
            "\rDownloading (…)lve/main/config.json:   0%|          | 0.00/4.19k [00:00<?, ?B/s]\rDownloading (…)lve/main/config.json: 100%|██████████| 4.19k/4.19k [00:00<00:00, 1.64MB/s]\n",
            "\rDownloading pytorch_model.bin:   0%|          | 0.00/605M [00:00<?, ?B/s]\rDownloading pytorch_model.bin:   2%|▏         | 10.5M/605M [00:00<00:07, 75.5MB/s]\rDownloading pytorch_model.bin:   3%|▎         | 21.0M/605M [00:00<00:09, 59.5MB/s]\rDownloading pytorch_model.bin:   5%|▌         | 31.5M/605M [00:00<00:08, 65.6MB/s]\rDownloading pytorch_model.bin:   7%|▋         | 41.9M/605M [00:00<00:07, 71.2MB/s]\rDownloading pytorch_model.bin:   9%|▊         | 52.4M/605M [00:00<00:07, 77.1MB/s]\rDownloading pytorch_model.bin:  10%|█         | 62.9M/605M [00:00<00:06, 78.5MB/s]\rDownloading pytorch_model.bin:  12%|█▏        | 73.4M/605M [00:00<00:06, 77.3MB/s]\rDownloading pytorch_model.bin:  14%|█▍        | 83.9M/605M [00:01<00:06, 78.0MB/s]\rDownloading pytorch_model.bin:  16%|█▌        | 94.4M/605M [00:01<00:06, 80.5MB/s]\rDownloading pytorch_model.bin:  17%|█▋        | 105M/605M [00:01<00:06, 80.3MB/s] \rDownloading pytorch_model.bin:  19%|█▉        | 115M/605M [00:01<00:06, 79.7MB/s]\rDownloading pytorch_model.bin:  21%|██        | 126M/605M [00:01<00:06, 76.2MB/s]\rDownloading pytorch_model.bin:  23%|██▎       | 136M/605M [00:01<00:05, 80.3MB/s]\rDownloading pytorch_model.bin:  24%|██▍       | 147M/605M [00:01<00:05, 77.6MB/s]\rDownloading pytorch_model.bin:  26%|██▌       | 157M/605M [00:02<00:05, 79.2MB/s]\rDownloading pytorch_model.bin:  28%|██▊       | 168M/605M [00:02<00:05, 80.2MB/s]\rDownloading pytorch_model.bin:  29%|██▉       | 178M/605M [00:02<00:05, 79.8MB/s]\rDownloading pytorch_model.bin:  31%|███       | 189M/605M [00:02<00:05, 80.5MB/s]\rDownloading pytorch_model.bin:  33%|███▎      | 199M/605M [00:02<00:05, 79.1MB/s]\rDownloading pytorch_model.bin:  35%|███▍      | 210M/605M [00:02<00:04, 80.4MB/s]\rDownloading pytorch_model.bin:  36%|███▋      | 220M/605M [00:02<00:04, 82.4MB/s]\rDownloading pytorch_model.bin:  38%|███▊      | 231M/605M [00:02<00:04, 82.9MB/s]\rDownloading pytorch_model.bin:  40%|███▉      | 241M/605M [00:03<00:04, 82.1MB/s]\rDownloading pytorch_model.bin:  42%|████▏     | 252M/605M [00:03<00:04, 79.4MB/s]\rDownloading pytorch_model.bin:  43%|████▎     | 262M/605M [00:03<00:04, 81.9MB/s]\rDownloading pytorch_model.bin:  45%|████▌     | 273M/605M [00:03<00:04, 82.1MB/s]\rDownloading pytorch_model.bin:  47%|████▋     | 283M/605M [00:03<00:03, 81.3MB/s]\rDownloading pytorch_model.bin:  49%|████▊     | 294M/605M [00:03<00:03, 81.6MB/s]\rDownloading pytorch_model.bin:  50%|█████     | 304M/605M [00:03<00:03, 82.4MB/s]\rDownloading pytorch_model.bin:  52%|█████▏    | 315M/605M [00:03<00:03, 82.0MB/s]\rDownloading pytorch_model.bin:  54%|█████▎    | 325M/605M [00:04<00:03, 82.2MB/s]\rDownloading pytorch_model.bin:  55%|█████▌    | 336M/605M [00:04<00:03, 80.5MB/s]\rDownloading pytorch_model.bin:  57%|█████▋    | 346M/605M [00:04<00:03, 78.2MB/s]\rDownloading pytorch_model.bin:  59%|█████▉    | 357M/605M [00:04<00:03, 78.9MB/s]\rDownloading pytorch_model.bin:  61%|██████    | 367M/605M [00:04<00:02, 81.5MB/s]\rDownloading pytorch_model.bin:  62%|██████▏   | 377M/605M [00:04<00:02, 82.4MB/s]\rDownloading pytorch_model.bin:  64%|██████▍   | 388M/605M [00:04<00:02, 81.7MB/s]\rDownloading pytorch_model.bin:  66%|██████▌   | 398M/605M [00:05<00:02, 79.0MB/s]\rDownloading pytorch_model.bin:  68%|██████▊   | 409M/605M [00:05<00:02, 80.3MB/s]\rDownloading pytorch_model.bin:  69%|██████▉   | 419M/605M [00:05<00:02, 79.8MB/s]\rDownloading pytorch_model.bin:  71%|███████   | 430M/605M [00:05<00:02, 83.1MB/s]\rDownloading pytorch_model.bin:  73%|███████▎  | 440M/605M [00:05<00:01, 83.2MB/s]\rDownloading pytorch_model.bin:  74%|███████▍  | 451M/605M [00:05<00:02, 72.2MB/s]\rDownloading pytorch_model.bin:  76%|███████▌  | 461M/605M [00:05<00:02, 69.0MB/s]\rDownloading pytorch_model.bin:  78%|███████▊  | 472M/605M [00:06<00:01, 70.1MB/s]\rDownloading pytorch_model.bin:  80%|███████▉  | 482M/605M [00:06<00:01, 73.4MB/s]\rDownloading pytorch_model.bin:  81%|████████▏ | 493M/605M [00:06<00:01, 75.7MB/s]\rDownloading pytorch_model.bin:  83%|████████▎ | 503M/605M [00:06<00:01, 68.6MB/s]\rDownloading pytorch_model.bin:  85%|████████▍ | 514M/605M [00:06<00:01, 71.5MB/s]\rDownloading pytorch_model.bin:  87%|████████▋ | 524M/605M [00:06<00:01, 71.8MB/s]\rDownloading pytorch_model.bin:  88%|████████▊ | 535M/605M [00:06<00:00, 72.4MB/s]\rDownloading pytorch_model.bin:  90%|█████████ | 545M/605M [00:07<00:00, 73.7MB/s]\rDownloading pytorch_model.bin:  92%|█████████▏| 556M/605M [00:07<00:00, 73.1MB/s]\rDownloading pytorch_model.bin:  94%|█████████▎| 566M/605M [00:07<00:00, 76.6MB/s]\rDownloading pytorch_model.bin:  95%|█████████▌| 577M/605M [00:07<00:00, 77.4MB/s]\rDownloading pytorch_model.bin:  97%|█████████▋| 587M/605M [00:07<00:00, 79.5MB/s]\rDownloading pytorch_model.bin:  99%|█████████▉| 598M/605M [00:07<00:00, 77.3MB/s]\rDownloading pytorch_model.bin: 100%|██████████| 605M/605M [00:07<00:00, 77.7MB/s]\n",
            "\rDownloading (…)rocessor_config.json:   0%|          | 0.00/8.71k [00:00<?, ?B/s]\rDownloading (…)rocessor_config.json: 100%|██████████| 8.71k/8.71k [00:00<00:00, 1.36MB/s]\n",
            "/usr/local/envs/ssa/lib/python3.8/site-packages/transformers/models/oneformer/image_processing_oneformer.py:419: FutureWarning: The `reduce_labels` argument is deprecated and will be removed in v4.27. Please use `do_reduce_labels` instead.\n",
            "  warnings.warn(\n",
            "\rDownloading (…)ade20k_panoptic.json:   0%|          | 0.00/7.08k [00:00<?, ?B/s]\rDownloading (…)ade20k_panoptic.json: 100%|██████████| 7.08k/7.08k [00:00<00:00, 2.65MB/s]\n",
            "\rDownloading (…)okenizer_config.json:   0%|          | 0.00/807 [00:00<?, ?B/s]\rDownloading (…)okenizer_config.json: 100%|██████████| 807/807 [00:00<00:00, 308kB/s]\n",
            "\rDownloading (…)olve/main/vocab.json:   0%|          | 0.00/1.06M [00:00<?, ?B/s]\rDownloading (…)olve/main/vocab.json: 100%|██████████| 1.06M/1.06M [00:00<00:00, 1.55MB/s]\rDownloading (…)olve/main/vocab.json: 100%|██████████| 1.06M/1.06M [00:00<00:00, 1.54MB/s]\n",
            "\rDownloading (…)olve/main/merges.txt:   0%|          | 0.00/525k [00:00<?, ?B/s]\rDownloading (…)olve/main/merges.txt: 100%|██████████| 525k/525k [00:00<00:00, 1.00MB/s]\rDownloading (…)olve/main/merges.txt: 100%|██████████| 525k/525k [00:00<00:00, 1.00MB/s]\n",
            "\rDownloading (…)cial_tokens_map.json:   0%|          | 0.00/472 [00:00<?, ?B/s]\rDownloading (…)cial_tokens_map.json: 100%|██████████| 472/472 [00:00<00:00, 153kB/s]\n",
            "\rDownloading (…)lve/main/config.json:   0%|          | 0.00/84.3k [00:00<?, ?B/s]\rDownloading (…)lve/main/config.json: 100%|██████████| 84.3k/84.3k [00:00<00:00, 483kB/s]\rDownloading (…)lve/main/config.json: 100%|██████████| 84.3k/84.3k [00:00<00:00, 481kB/s]\n",
            "\rDownloading pytorch_model.bin:   0%|          | 0.00/203M [00:00<?, ?B/s]\rDownloading pytorch_model.bin:   5%|▌         | 10.5M/203M [00:01<00:28, 6.85MB/s]\rDownloading pytorch_model.bin:  10%|█         | 21.0M/203M [00:01<00:14, 12.5MB/s]\rDownloading pytorch_model.bin:  15%|█▌        | 31.5M/203M [00:02<00:11, 15.3MB/s]\rDownloading pytorch_model.bin:  21%|██        | 41.9M/203M [00:02<00:09, 16.9MB/s]\rDownloading pytorch_model.bin:  26%|██▌       | 52.4M/203M [00:03<00:07, 19.9MB/s]\rDownloading pytorch_model.bin:  31%|███       | 62.9M/203M [00:03<00:06, 20.2MB/s]\rDownloading pytorch_model.bin:  36%|███▌      | 73.4M/203M [00:04<00:06, 20.4MB/s]\rDownloading pytorch_model.bin:  41%|████      | 83.9M/203M [00:04<00:05, 22.6MB/s]\rDownloading pytorch_model.bin:  46%|████▋     | 94.4M/203M [00:05<00:04, 22.0MB/s]\rDownloading pytorch_model.bin:  52%|█████▏    | 105M/203M [00:05<00:04, 21.6MB/s] \rDownloading pytorch_model.bin:  57%|█████▋    | 115M/203M [00:05<00:03, 23.5MB/s]\rDownloading pytorch_model.bin:  62%|██████▏   | 126M/203M [00:06<00:03, 22.5MB/s]\rDownloading pytorch_model.bin:  67%|██████▋   | 136M/203M [00:07<00:03, 21.9MB/s]\rDownloading pytorch_model.bin:  72%|███████▏  | 147M/203M [00:07<00:02, 21.6MB/s]\rDownloading pytorch_model.bin:  77%|███████▋  | 157M/203M [00:07<00:01, 23.4MB/s]\rDownloading pytorch_model.bin:  82%|████████▏ | 168M/203M [00:08<00:01, 22.4MB/s]\rDownloading pytorch_model.bin:  88%|████████▊ | 178M/203M [00:08<00:01, 21.8MB/s]\rDownloading pytorch_model.bin:  93%|█████████▎| 189M/203M [00:09<00:00, 21.3MB/s]\rDownloading pytorch_model.bin:  98%|█████████▊| 199M/203M [00:09<00:00, 23.3MB/s]\rDownloading pytorch_model.bin: 100%|██████████| 203M/203M [00:09<00:00, 23.4MB/s]\rDownloading pytorch_model.bin: 100%|██████████| 203M/203M [00:09<00:00, 20.4MB/s]\n",
            "\rDownloading (…)rocessor_config.json:   0%|          | 0.00/6.82k [00:00<?, ?B/s]\rDownloading (…)rocessor_config.json: 100%|██████████| 6.82k/6.82k [00:00<00:00, 2.39MB/s]\n",
            "\rDownloading (…)n/coco_panoptic.json:   0%|          | 0.00/5.85k [00:00<?, ?B/s]\rDownloading (…)n/coco_panoptic.json: 100%|██████████| 5.85k/5.85k [00:00<00:00, 2.31MB/s]\n",
            "\rDownloading (…)okenizer_config.json:   0%|          | 0.00/806 [00:00<?, ?B/s]\rDownloading (…)okenizer_config.json: 100%|██████████| 806/806 [00:00<00:00, 330kB/s]\n",
            "\rDownloading (…)olve/main/vocab.json:   0%|          | 0.00/1.06M [00:00<?, ?B/s]\rDownloading (…)olve/main/vocab.json: 100%|██████████| 1.06M/1.06M [00:00<00:00, 1.51MB/s]\rDownloading (…)olve/main/vocab.json: 100%|██████████| 1.06M/1.06M [00:00<00:00, 1.51MB/s]\n",
            "\rDownloading (…)olve/main/merges.txt:   0%|          | 0.00/525k [00:00<?, ?B/s]\rDownloading (…)olve/main/merges.txt: 100%|██████████| 525k/525k [00:00<00:00, 1.01MB/s]\rDownloading (…)olve/main/merges.txt: 100%|██████████| 525k/525k [00:00<00:00, 1.01MB/s]\n",
            "\rDownloading (…)cial_tokens_map.json:   0%|          | 0.00/472 [00:00<?, ?B/s]\rDownloading (…)cial_tokens_map.json: 100%|██████████| 472/472 [00:00<00:00, 183kB/s]\n",
            "\rDownloading (…)lve/main/config.json:   0%|          | 0.00/82.6k [00:00<?, ?B/s]\rDownloading (…)lve/main/config.json: 100%|██████████| 82.6k/82.6k [00:00<00:00, 480kB/s]\rDownloading (…)lve/main/config.json: 100%|██████████| 82.6k/82.6k [00:00<00:00, 478kB/s]\n",
            "\rDownloading pytorch_model.bin:   0%|          | 0.00/879M [00:00<?, ?B/s]\rDownloading pytorch_model.bin:   1%|          | 10.5M/879M [00:01<02:08, 6.76MB/s]\rDownloading pytorch_model.bin:   2%|▏         | 21.0M/879M [00:01<01:09, 12.3MB/s]\rDownloading pytorch_model.bin:   4%|▎         | 31.5M/879M [00:02<00:56, 15.0MB/s]\rDownloading pytorch_model.bin:   5%|▍         | 41.9M/879M [00:02<00:50, 16.7MB/s]\rDownloading pytorch_model.bin:   6%|▌         | 52.4M/879M [00:03<00:41, 19.8MB/s]\rDownloading pytorch_model.bin:   7%|▋         | 62.9M/879M [00:03<00:40, 19.9MB/s]\rDownloading pytorch_model.bin:   8%|▊         | 73.4M/879M [00:04<00:40, 20.0MB/s]\rDownloading pytorch_model.bin:  10%|▉         | 83.9M/879M [00:04<00:39, 20.1MB/s]\rDownloading pytorch_model.bin:  11%|█         | 94.4M/879M [00:05<00:35, 22.4MB/s]\rDownloading pytorch_model.bin:  12%|█▏        | 105M/879M [00:05<00:35, 21.6MB/s] \rDownloading pytorch_model.bin:  13%|█▎        | 115M/879M [00:06<00:36, 21.2MB/s]\rDownloading pytorch_model.bin:  14%|█▍        | 126M/879M [00:06<00:32, 23.2MB/s]\rDownloading pytorch_model.bin:  16%|█▌        | 136M/879M [00:07<00:33, 22.2MB/s]\rDownloading pytorch_model.bin:  17%|█▋        | 147M/879M [00:07<00:33, 21.6MB/s]\rDownloading pytorch_model.bin:  18%|█▊        | 157M/879M [00:08<00:34, 21.1MB/s]\rDownloading pytorch_model.bin:  19%|█▉        | 168M/879M [00:08<00:30, 23.1MB/s]\rDownloading pytorch_model.bin:  20%|██        | 178M/879M [00:09<00:31, 22.2MB/s]\rDownloading pytorch_model.bin:  21%|██▏       | 189M/879M [00:09<00:32, 21.6MB/s]\rDownloading pytorch_model.bin:  23%|██▎       | 199M/879M [00:10<00:32, 21.2MB/s]\rDownloading pytorch_model.bin:  24%|██▍       | 210M/879M [00:10<00:29, 23.1MB/s]\rDownloading pytorch_model.bin:  25%|██▌       | 220M/879M [00:10<00:29, 22.2MB/s]\rDownloading pytorch_model.bin:  26%|██▌       | 231M/879M [00:11<00:30, 21.6MB/s]\rDownloading pytorch_model.bin:  27%|██▋       | 241M/879M [00:11<00:27, 23.5MB/s]\rDownloading pytorch_model.bin:  29%|██▊       | 252M/879M [00:12<00:27, 22.4MB/s]\rDownloading pytorch_model.bin:  30%|██▉       | 262M/879M [00:12<00:28, 21.7MB/s]\rDownloading pytorch_model.bin:  31%|███       | 273M/879M [00:13<00:28, 21.3MB/s]\rDownloading pytorch_model.bin:  32%|███▏      | 283M/879M [00:13<00:25, 23.2MB/s]\rDownloading pytorch_model.bin:  33%|███▎      | 294M/879M [00:14<00:26, 22.2MB/s]\rDownloading pytorch_model.bin:  35%|███▍      | 304M/879M [00:14<00:23, 24.0MB/s]\rDownloading pytorch_model.bin:  36%|███▌      | 315M/879M [00:15<00:24, 22.7MB/s]\rDownloading pytorch_model.bin:  37%|███▋      | 325M/879M [00:15<00:25, 21.9MB/s]\rDownloading pytorch_model.bin:  38%|███▊      | 336M/879M [00:15<00:23, 23.6MB/s]\rDownloading pytorch_model.bin:  39%|███▉      | 346M/879M [00:16<00:23, 22.6MB/s]\rDownloading pytorch_model.bin:  41%|████      | 357M/879M [00:17<00:23, 21.8MB/s]\rDownloading pytorch_model.bin:  42%|████▏     | 367M/879M [00:17<00:24, 21.3MB/s]\rDownloading pytorch_model.bin:  43%|████▎     | 377M/879M [00:17<00:21, 23.3MB/s]\rDownloading pytorch_model.bin:  44%|████▍     | 388M/879M [00:18<00:22, 22.3MB/s]\rDownloading pytorch_model.bin:  45%|████▌     | 398M/879M [00:18<00:20, 23.4MB/s]\rDownloading pytorch_model.bin:  47%|████▋     | 409M/879M [00:19<00:20, 22.9MB/s]\rDownloading pytorch_model.bin:  48%|████▊     | 419M/879M [00:19<00:20, 22.1MB/s]\rDownloading pytorch_model.bin:  49%|████▉     | 430M/879M [00:20<00:20, 21.5MB/s]\rDownloading pytorch_model.bin:  50%|█████     | 440M/879M [00:20<00:18, 23.4MB/s]\rDownloading pytorch_model.bin:  51%|█████▏    | 451M/879M [00:21<00:19, 22.4MB/s]\rDownloading pytorch_model.bin:  52%|█████▏    | 461M/879M [00:21<00:19, 21.6MB/s]\rDownloading pytorch_model.bin:  54%|█████▎    | 472M/879M [00:22<00:19, 21.1MB/s]\rDownloading pytorch_model.bin:  55%|█████▍    | 482M/879M [00:22<00:17, 23.0MB/s]\rDownloading pytorch_model.bin:  56%|█████▌    | 493M/879M [00:23<00:17, 22.2MB/s]\rDownloading pytorch_model.bin:  57%|█████▋    | 503M/879M [00:23<00:17, 21.6MB/s]\rDownloading pytorch_model.bin:  58%|█████▊    | 514M/879M [00:24<00:17, 21.1MB/s]\rDownloading pytorch_model.bin:  60%|█████▉    | 524M/879M [00:24<00:15, 23.0MB/s]\rDownloading pytorch_model.bin:  61%|██████    | 535M/879M [00:25<00:15, 22.2MB/s]\rDownloading pytorch_model.bin:  62%|██████▏   | 545M/879M [00:25<00:15, 21.6MB/s]\rDownloading pytorch_model.bin:  63%|██████▎   | 556M/879M [00:26<00:15, 21.2MB/s]\rDownloading pytorch_model.bin:  64%|██████▍   | 566M/879M [00:26<00:13, 23.1MB/s]\rDownloading pytorch_model.bin:  66%|██████▌   | 577M/879M [00:26<00:13, 22.2MB/s]\rDownloading pytorch_model.bin:  67%|██████▋   | 587M/879M [00:27<00:13, 21.2MB/s]\rDownloading pytorch_model.bin:  68%|██████▊   | 598M/879M [00:27<00:12, 23.5MB/s]\rDownloading pytorch_model.bin:  69%|██████▉   | 608M/879M [00:28<00:12, 22.4MB/s]\rDownloading pytorch_model.bin:  70%|███████   | 619M/879M [00:28<00:12, 21.7MB/s]\rDownloading pytorch_model.bin:  72%|███████▏  | 629M/879M [00:29<00:11, 21.3MB/s]\rDownloading pytorch_model.bin:  73%|███████▎  | 640M/879M [00:29<00:10, 23.1MB/s]\rDownloading pytorch_model.bin:  74%|███████▍  | 650M/879M [00:30<00:10, 22.3MB/s]\rDownloading pytorch_model.bin:  75%|███████▌  | 661M/879M [00:30<00:10, 21.6MB/s]\rDownloading pytorch_model.bin:  76%|███████▋  | 671M/879M [00:31<00:08, 23.6MB/s]\rDownloading pytorch_model.bin:  78%|███████▊  | 682M/879M [00:31<00:08, 22.5MB/s]\rDownloading pytorch_model.bin:  79%|███████▊  | 692M/879M [00:32<00:08, 21.7MB/s]\rDownloading pytorch_model.bin:  80%|███████▉  | 703M/879M [00:32<00:07, 23.6MB/s]\rDownloading pytorch_model.bin:  81%|████████  | 713M/879M [00:33<00:07, 22.5MB/s]\rDownloading pytorch_model.bin:  82%|████████▏ | 724M/879M [00:33<00:07, 21.8MB/s]\rDownloading pytorch_model.bin:  83%|████████▎ | 734M/879M [00:33<00:06, 23.7MB/s]\rDownloading pytorch_model.bin:  85%|████████▍ | 744M/879M [00:34<00:06, 22.5MB/s]\rDownloading pytorch_model.bin:  86%|████████▌ | 755M/879M [00:34<00:05, 21.8MB/s]\rDownloading pytorch_model.bin:  87%|████████▋ | 765M/879M [00:35<00:05, 21.3MB/s]\rDownloading pytorch_model.bin:  88%|████████▊ | 776M/879M [00:35<00:04, 23.1MB/s]\rDownloading pytorch_model.bin:  89%|████████▉ | 786M/879M [00:36<00:04, 22.3MB/s]\rDownloading pytorch_model.bin:  91%|█████████ | 797M/879M [00:36<00:03, 21.7MB/s]\rDownloading pytorch_model.bin:  92%|█████████▏| 807M/879M [00:37<00:03, 23.5MB/s]\rDownloading pytorch_model.bin:  93%|█████████▎| 818M/879M [00:37<00:02, 22.4MB/s]\rDownloading pytorch_model.bin:  94%|█████████▍| 828M/879M [00:38<00:02, 21.6MB/s]\rDownloading pytorch_model.bin:  95%|█████████▌| 839M/879M [00:38<00:01, 21.2MB/s]\rDownloading pytorch_model.bin:  97%|█████████▋| 849M/879M [00:39<00:01, 21.0MB/s]\rDownloading pytorch_model.bin:  98%|█████████▊| 860M/879M [00:39<00:00, 20.7MB/s]\rDownloading pytorch_model.bin:  99%|█████████▉| 870M/879M [00:40<00:00, 22.8MB/s]\rDownloading pytorch_model.bin: 100%|██████████| 879M/879M [00:40<00:00, 21.1MB/s]\rDownloading pytorch_model.bin: 100%|██████████| 879M/879M [00:40<00:00, 21.6MB/s]\n",
            "\rDownloading (…)rocessor_config.json:   0%|          | 0.00/287 [00:00<?, ?B/s]\rDownloading (…)rocessor_config.json: 100%|██████████| 287/287 [00:00<00:00, 111kB/s]\n",
            "\rDownloading (…)okenizer_config.json:   0%|          | 0.00/506 [00:00<?, ?B/s]\rDownloading (…)okenizer_config.json: 100%|██████████| 506/506 [00:00<00:00, 168kB/s]\n",
            "\rDownloading (…)solve/main/vocab.txt:   0%|          | 0.00/232k [00:00<?, ?B/s]\rDownloading (…)solve/main/vocab.txt: 100%|██████████| 232k/232k [00:00<00:00, 662kB/s]\rDownloading (…)solve/main/vocab.txt: 100%|██████████| 232k/232k [00:00<00:00, 661kB/s]\n",
            "\rDownloading (…)/main/tokenizer.json:   0%|          | 0.00/711k [00:00<?, ?B/s]\rDownloading (…)/main/tokenizer.json: 100%|██████████| 711k/711k [00:00<00:00, 1.02MB/s]\rDownloading (…)/main/tokenizer.json: 100%|██████████| 711k/711k [00:00<00:00, 1.02MB/s]\n",
            "\rDownloading (…)cial_tokens_map.json:   0%|          | 0.00/125 [00:00<?, ?B/s]\rDownloading (…)cial_tokens_map.json: 100%|██████████| 125/125 [00:00<00:00, 45.3kB/s]\n",
            "\rDownloading (…)lve/main/config.json:   0%|          | 0.00/4.56k [00:00<?, ?B/s]\rDownloading (…)lve/main/config.json: 100%|██████████| 4.56k/4.56k [00:00<00:00, 1.69MB/s]\n",
            "\rDownloading pytorch_model.bin:   0%|          | 0.00/990M [00:00<?, ?B/s]\rDownloading pytorch_model.bin:   1%|          | 10.5M/990M [00:00<00:12, 80.9MB/s]\rDownloading pytorch_model.bin:   2%|▏         | 21.0M/990M [00:00<00:11, 81.5MB/s]\rDownloading pytorch_model.bin:   3%|▎         | 31.5M/990M [00:00<00:11, 81.5MB/s]\rDownloading pytorch_model.bin:   4%|▍         | 41.9M/990M [00:00<00:11, 82.8MB/s]\rDownloading pytorch_model.bin:   5%|▌         | 52.4M/990M [00:00<00:11, 80.1MB/s]\rDownloading pytorch_model.bin:   6%|▋         | 62.9M/990M [00:00<00:11, 83.1MB/s]\rDownloading pytorch_model.bin:   7%|▋         | 73.4M/990M [00:00<00:11, 83.1MB/s]\rDownloading pytorch_model.bin:   8%|▊         | 83.9M/990M [00:01<00:11, 79.1MB/s]\rDownloading pytorch_model.bin:  10%|▉         | 94.4M/990M [00:01<00:11, 81.2MB/s]\rDownloading pytorch_model.bin:  11%|█         | 105M/990M [00:01<00:11, 76.2MB/s] \rDownloading pytorch_model.bin:  12%|█▏        | 115M/990M [00:01<00:10, 79.6MB/s]\rDownloading pytorch_model.bin:  13%|█▎        | 126M/990M [00:01<00:10, 81.1MB/s]\rDownloading pytorch_model.bin:  14%|█▍        | 136M/990M [00:01<00:10, 81.7MB/s]\rDownloading pytorch_model.bin:  15%|█▍        | 147M/990M [00:01<00:10, 78.7MB/s]\rDownloading pytorch_model.bin:  16%|█▌        | 157M/990M [00:01<00:10, 80.2MB/s]\rDownloading pytorch_model.bin:  17%|█▋        | 168M/990M [00:02<00:11, 73.9MB/s]\rDownloading pytorch_model.bin:  18%|█▊        | 178M/990M [00:02<00:10, 76.1MB/s]\rDownloading pytorch_model.bin:  19%|█▉        | 189M/990M [00:02<00:10, 77.3MB/s]\rDownloading pytorch_model.bin:  20%|██        | 199M/990M [00:02<00:10, 76.3MB/s]\rDownloading pytorch_model.bin:  21%|██        | 210M/990M [00:02<00:10, 77.5MB/s]\rDownloading pytorch_model.bin:  22%|██▏       | 220M/990M [00:02<00:10, 76.4MB/s]\rDownloading pytorch_model.bin:  23%|██▎       | 231M/990M [00:02<00:09, 77.9MB/s]\rDownloading pytorch_model.bin:  24%|██▍       | 241M/990M [00:03<00:09, 77.4MB/s]\rDownloading pytorch_model.bin:  25%|██▌       | 252M/990M [00:03<00:09, 73.9MB/s]\rDownloading pytorch_model.bin:  26%|██▋       | 262M/990M [00:03<00:09, 74.8MB/s]\rDownloading pytorch_model.bin:  28%|██▊       | 273M/990M [00:03<00:09, 78.9MB/s]\rDownloading pytorch_model.bin:  29%|██▊       | 283M/990M [00:03<00:08, 81.0MB/s]\rDownloading pytorch_model.bin:  30%|██▉       | 294M/990M [00:03<00:08, 82.6MB/s]\rDownloading pytorch_model.bin:  31%|███       | 304M/990M [00:03<00:08, 81.8MB/s]\rDownloading pytorch_model.bin:  32%|███▏      | 315M/990M [00:03<00:08, 83.4MB/s]\rDownloading pytorch_model.bin:  33%|███▎      | 325M/990M [00:04<00:07, 83.1MB/s]\rDownloading pytorch_model.bin:  34%|███▍      | 336M/990M [00:04<00:07, 82.3MB/s]\rDownloading pytorch_model.bin:  35%|███▍      | 346M/990M [00:04<00:07, 82.3MB/s]\rDownloading pytorch_model.bin:  36%|███▌      | 357M/990M [00:04<00:07, 83.4MB/s]\rDownloading pytorch_model.bin:  37%|███▋      | 367M/990M [00:04<00:07, 84.5MB/s]\rDownloading pytorch_model.bin:  38%|███▊      | 377M/990M [00:04<00:07, 83.8MB/s]\rDownloading pytorch_model.bin:  39%|███▉      | 388M/990M [00:04<00:07, 81.1MB/s]\rDownloading pytorch_model.bin:  40%|████      | 398M/990M [00:04<00:07, 79.7MB/s]\rDownloading pytorch_model.bin:  41%|████▏     | 409M/990M [00:05<00:07, 81.7MB/s]\rDownloading pytorch_model.bin:  42%|████▏     | 419M/990M [00:05<00:07, 78.6MB/s]\rDownloading pytorch_model.bin:  43%|████▎     | 430M/990M [00:05<00:07, 77.0MB/s]\rDownloading pytorch_model.bin:  44%|████▍     | 440M/990M [00:05<00:06, 79.4MB/s]\rDownloading pytorch_model.bin:  46%|████▌     | 451M/990M [00:05<00:06, 81.1MB/s]\rDownloading pytorch_model.bin:  47%|████▋     | 461M/990M [00:05<00:06, 80.4MB/s]\rDownloading pytorch_model.bin:  48%|████▊     | 472M/990M [00:05<00:06, 80.4MB/s]\rDownloading pytorch_model.bin:  49%|████▊     | 482M/990M [00:06<00:06, 78.4MB/s]\rDownloading pytorch_model.bin:  50%|████▉     | 493M/990M [00:06<00:06, 72.3MB/s]\rDownloading pytorch_model.bin:  51%|█████     | 503M/990M [00:06<00:06, 74.9MB/s]\rDownloading pytorch_model.bin:  52%|█████▏    | 514M/990M [00:06<00:06, 78.6MB/s]\rDownloading pytorch_model.bin:  53%|█████▎    | 524M/990M [00:06<00:06, 75.0MB/s]\rDownloading pytorch_model.bin:  54%|█████▍    | 535M/990M [00:06<00:05, 77.5MB/s]\rDownloading pytorch_model.bin:  55%|█████▌    | 545M/990M [00:06<00:05, 78.6MB/s]\rDownloading pytorch_model.bin:  56%|█████▌    | 556M/990M [00:07<00:05, 80.1MB/s]\rDownloading pytorch_model.bin:  57%|█████▋    | 566M/990M [00:07<00:05, 81.0MB/s]\rDownloading pytorch_model.bin:  58%|█████▊    | 577M/990M [00:07<00:05, 74.6MB/s]\rDownloading pytorch_model.bin:  59%|█████▉    | 587M/990M [00:07<00:05, 77.1MB/s]\rDownloading pytorch_model.bin:  60%|██████    | 598M/990M [00:07<00:04, 79.3MB/s]\rDownloading pytorch_model.bin:  61%|██████▏   | 608M/990M [00:07<00:04, 82.2MB/s]\rDownloading pytorch_model.bin:  63%|██████▎   | 619M/990M [00:07<00:04, 83.1MB/s]\rDownloading pytorch_model.bin:  64%|██████▎   | 629M/990M [00:07<00:04, 84.0MB/s]\rDownloading pytorch_model.bin:  65%|██████▍   | 640M/990M [00:08<00:04, 82.3MB/s]\rDownloading pytorch_model.bin:  66%|██████▌   | 650M/990M [00:08<00:04, 80.5MB/s]\rDownloading pytorch_model.bin:  67%|██████▋   | 661M/990M [00:08<00:03, 82.6MB/s]\rDownloading pytorch_model.bin:  68%|██████▊   | 671M/990M [00:08<00:03, 84.1MB/s]\rDownloading pytorch_model.bin:  69%|██████▉   | 682M/990M [00:08<00:03, 81.1MB/s]\rDownloading pytorch_model.bin:  70%|██████▉   | 692M/990M [00:08<00:03, 79.5MB/s]\rDownloading pytorch_model.bin:  71%|███████   | 703M/990M [00:08<00:03, 79.8MB/s]\rDownloading pytorch_model.bin:  72%|███████▏  | 713M/990M [00:08<00:03, 82.4MB/s]\rDownloading pytorch_model.bin:  73%|███████▎  | 724M/990M [00:09<00:03, 81.7MB/s]\rDownloading pytorch_model.bin:  74%|███████▍  | 734M/990M [00:09<00:03, 81.9MB/s]\rDownloading pytorch_model.bin:  75%|███████▌  | 744M/990M [00:09<00:02, 83.9MB/s]\rDownloading pytorch_model.bin:  76%|███████▋  | 755M/990M [00:09<00:02, 85.2MB/s]\rDownloading pytorch_model.bin:  77%|███████▋  | 765M/990M [00:09<00:02, 86.3MB/s]\rDownloading pytorch_model.bin:  78%|███████▊  | 776M/990M [00:09<00:02, 86.0MB/s]\rDownloading pytorch_model.bin:  79%|███████▉  | 786M/990M [00:09<00:02, 84.8MB/s]\rDownloading pytorch_model.bin:  81%|████████  | 797M/990M [00:09<00:02, 86.6MB/s]\rDownloading pytorch_model.bin:  82%|████████▏ | 807M/990M [00:10<00:02, 84.3MB/s]\rDownloading pytorch_model.bin:  83%|████████▎ | 818M/990M [00:10<00:02, 79.8MB/s]\rDownloading pytorch_model.bin:  84%|████████▎ | 828M/990M [00:10<00:02, 79.1MB/s]\rDownloading pytorch_model.bin:  85%|████████▍ | 839M/990M [00:10<00:01, 80.8MB/s]\rDownloading pytorch_model.bin:  86%|████████▌ | 849M/990M [00:10<00:01, 82.4MB/s]\rDownloading pytorch_model.bin:  87%|████████▋ | 860M/990M [00:10<00:01, 82.7MB/s]\rDownloading pytorch_model.bin:  88%|████████▊ | 870M/990M [00:10<00:01, 83.4MB/s]\rDownloading pytorch_model.bin:  89%|████████▉ | 881M/990M [00:10<00:01, 80.8MB/s]\rDownloading pytorch_model.bin:  90%|█████████ | 891M/990M [00:11<00:01, 81.5MB/s]\rDownloading pytorch_model.bin:  91%|█████████ | 902M/990M [00:11<00:01, 79.0MB/s]\rDownloading pytorch_model.bin:  92%|█████████▏| 912M/990M [00:11<00:01, 74.9MB/s]\rDownloading pytorch_model.bin:  93%|█████████▎| 923M/990M [00:11<00:01, 58.7MB/s]\rDownloading pytorch_model.bin:  95%|█████████▌| 944M/990M [00:11<00:00, 75.8MB/s]\rDownloading pytorch_model.bin:  96%|█████████▋| 954M/990M [00:11<00:00, 79.2MB/s]\rDownloading pytorch_model.bin:  97%|█████████▋| 965M/990M [00:12<00:00, 80.5MB/s]\rDownloading pytorch_model.bin:  99%|█████████▊| 975M/990M [00:12<00:00, 80.4MB/s]\rDownloading pytorch_model.bin: 100%|█████████▉| 986M/990M [00:12<00:00, 73.0MB/s]\rDownloading pytorch_model.bin: 100%|██████████| 990M/990M [00:12<00:00, 79.5MB/s]\n",
            "\rDownloading (…)rocessor_config.json:   0%|          | 0.00/379 [00:00<?, ?B/s]\rDownloading (…)rocessor_config.json: 100%|██████████| 379/379 [00:00<00:00, 136kB/s]\n",
            "\rDownloading (…)okenizer_config.json:   0%|          | 0.00/974 [00:00<?, ?B/s]\rDownloading (…)okenizer_config.json: 100%|██████████| 974/974 [00:00<00:00, 352kB/s]\n",
            "\rDownloading (…)olve/main/vocab.json:   0%|          | 0.00/1.06M [00:00<?, ?B/s]\rDownloading (…)olve/main/vocab.json: 100%|██████████| 1.06M/1.06M [00:00<00:00, 1.52MB/s]\rDownloading (…)olve/main/vocab.json: 100%|██████████| 1.06M/1.06M [00:00<00:00, 1.52MB/s]\n",
            "\rDownloading (…)olve/main/merges.txt:   0%|          | 0.00/525k [00:00<?, ?B/s]\rDownloading (…)olve/main/merges.txt: 100%|██████████| 525k/525k [00:00<00:00, 1.01MB/s]\rDownloading (…)olve/main/merges.txt: 100%|██████████| 525k/525k [00:00<00:00, 1.01MB/s]\n",
            "\rDownloading (…)cial_tokens_map.json:   0%|          | 0.00/472 [00:00<?, ?B/s]\rDownloading (…)cial_tokens_map.json: 100%|██████████| 472/472 [00:00<00:00, 170kB/s]\n",
            "\rDownloading (…)lve/main/config.json:   0%|          | 0.00/4.73k [00:00<?, ?B/s]\rDownloading (…)lve/main/config.json: 100%|██████████| 4.73k/4.73k [00:00<00:00, 1.69MB/s]\n",
            "\rDownloading pytorch_model.bin:   0%|          | 0.00/600M [00:00<?, ?B/s]\rDownloading pytorch_model.bin:   2%|▏         | 10.5M/600M [00:01<01:25, 6.87MB/s]\rDownloading pytorch_model.bin:   3%|▎         | 21.0M/600M [00:01<00:46, 12.5MB/s]\rDownloading pytorch_model.bin:   5%|▌         | 31.5M/600M [00:02<00:37, 15.3MB/s]\rDownloading pytorch_model.bin:   7%|▋         | 41.9M/600M [00:02<00:32, 17.0MB/s]\rDownloading pytorch_model.bin:   9%|▊         | 52.4M/600M [00:03<00:30, 18.1MB/s]\rDownloading pytorch_model.bin:  10%|█         | 62.9M/600M [00:03<00:26, 20.6MB/s]\rDownloading pytorch_model.bin:  12%|█▏        | 73.4M/600M [00:04<00:25, 20.8MB/s]\rDownloading pytorch_model.bin:  14%|█▍        | 83.9M/600M [00:04<00:22, 22.9MB/s]\rDownloading pytorch_model.bin:  16%|█▌        | 94.4M/600M [00:05<00:22, 22.1MB/s]\rDownloading pytorch_model.bin:  17%|█▋        | 105M/600M [00:05<00:22, 21.7MB/s] \rDownloading pytorch_model.bin:  19%|█▉        | 115M/600M [00:06<00:20, 23.6MB/s]\rDownloading pytorch_model.bin:  21%|██        | 126M/600M [00:06<00:20, 22.6MB/s]\rDownloading pytorch_model.bin:  23%|██▎       | 136M/600M [00:07<00:21, 22.0MB/s]\rDownloading pytorch_model.bin:  24%|██▍       | 147M/600M [00:07<00:19, 23.8MB/s]\rDownloading pytorch_model.bin:  26%|██▌       | 157M/600M [00:07<00:19, 22.7MB/s]\rDownloading pytorch_model.bin:  28%|██▊       | 168M/600M [00:08<00:17, 24.5MB/s]\rDownloading pytorch_model.bin:  30%|██▉       | 178M/600M [00:08<00:18, 23.1MB/s]\rDownloading pytorch_model.bin:  31%|███▏      | 189M/600M [00:09<00:18, 22.4MB/s]\rDownloading pytorch_model.bin:  33%|███▎      | 199M/600M [00:09<00:16, 24.1MB/s]\rDownloading pytorch_model.bin:  35%|███▍      | 210M/600M [00:10<00:16, 23.0MB/s]\rDownloading pytorch_model.bin:  37%|███▋      | 220M/600M [00:10<00:15, 24.6MB/s]\rDownloading pytorch_model.bin:  38%|███▊      | 231M/600M [00:10<00:15, 23.2MB/s]\rDownloading pytorch_model.bin:  40%|████      | 241M/600M [00:11<00:15, 22.5MB/s]\rDownloading pytorch_model.bin:  42%|████▏     | 252M/600M [00:11<00:14, 24.1MB/s]\rDownloading pytorch_model.bin:  44%|████▎     | 262M/600M [00:12<00:14, 23.0MB/s]\rDownloading pytorch_model.bin:  45%|████▌     | 273M/600M [00:12<00:14, 22.3MB/s]\rDownloading pytorch_model.bin:  47%|████▋     | 283M/600M [00:13<00:13, 23.9MB/s]\rDownloading pytorch_model.bin:  49%|████▉     | 294M/600M [00:13<00:13, 22.9MB/s]\rDownloading pytorch_model.bin:  51%|█████     | 304M/600M [00:14<00:13, 22.2MB/s]\rDownloading pytorch_model.bin:  52%|█████▏    | 315M/600M [00:14<00:11, 23.8MB/s]\rDownloading pytorch_model.bin:  54%|█████▍    | 325M/600M [00:15<00:11, 23.0MB/s]\rDownloading pytorch_model.bin:  56%|█████▌    | 336M/600M [00:15<00:11, 22.2MB/s]\rDownloading pytorch_model.bin:  58%|█████▊    | 346M/600M [00:15<00:10, 23.7MB/s]\rDownloading pytorch_model.bin:  59%|█████▉    | 357M/600M [00:16<00:10, 22.9MB/s]\rDownloading pytorch_model.bin:  61%|██████    | 367M/600M [00:16<00:09, 24.3MB/s]\rDownloading pytorch_model.bin:  63%|██████▎   | 377M/600M [00:17<00:09, 23.3MB/s]\rDownloading pytorch_model.bin:  65%|██████▍   | 388M/600M [00:17<00:09, 22.4MB/s]\rDownloading pytorch_model.bin:  66%|██████▋   | 398M/600M [00:18<00:08, 24.0MB/s]\rDownloading pytorch_model.bin:  68%|██████▊   | 409M/600M [00:18<00:08, 23.0MB/s]\rDownloading pytorch_model.bin:  70%|██████▉   | 419M/600M [00:19<00:08, 22.2MB/s]\rDownloading pytorch_model.bin:  72%|███████▏  | 430M/600M [00:19<00:07, 23.9MB/s]\rDownloading pytorch_model.bin:  73%|███████▎  | 440M/600M [00:20<00:06, 23.0MB/s]\rDownloading pytorch_model.bin:  75%|███████▌  | 451M/600M [00:20<00:06, 22.2MB/s]\rDownloading pytorch_model.bin:  77%|███████▋  | 461M/600M [00:20<00:05, 23.8MB/s]\rDownloading pytorch_model.bin:  79%|███████▊  | 472M/600M [00:21<00:05, 22.9MB/s]\rDownloading pytorch_model.bin:  80%|████████  | 482M/600M [00:21<00:04, 24.5MB/s]\rDownloading pytorch_model.bin:  82%|████████▏ | 493M/600M [00:22<00:04, 23.1MB/s]\rDownloading pytorch_model.bin:  84%|████████▍ | 503M/600M [00:22<00:04, 22.5MB/s]\rDownloading pytorch_model.bin:  86%|████████▌ | 514M/600M [00:23<00:03, 24.1MB/s]\rDownloading pytorch_model.bin:  87%|████████▋ | 524M/600M [00:23<00:03, 23.0MB/s]\rDownloading pytorch_model.bin:  89%|████████▉ | 535M/600M [00:24<00:02, 22.2MB/s]\rDownloading pytorch_model.bin:  91%|█████████ | 545M/600M [00:24<00:02, 24.0MB/s]\rDownloading pytorch_model.bin:  93%|█████████▎| 556M/600M [00:25<00:01, 22.9MB/s]\rDownloading pytorch_model.bin:  94%|█████████▍| 566M/600M [00:25<00:01, 24.5MB/s]\rDownloading pytorch_model.bin:  96%|█████████▌| 577M/600M [00:25<00:00, 23.2MB/s]\rDownloading pytorch_model.bin:  98%|█████████▊| 587M/600M [00:26<00:00, 22.4MB/s]\rDownloading pytorch_model.bin: 100%|█████████▉| 598M/600M [00:26<00:00, 24.1MB/s]\rDownloading pytorch_model.bin: 100%|██████████| 600M/600M [00:26<00:00, 22.3MB/s]\n",
            "/usr/local/envs/ssa/lib/python3.8/site-packages/transformers/generation/utils.py:1288: UserWarning: Using `max_length`'s default (20) to control the generation length. This behaviour is deprecated and will be removed from the config in v5 of Transformers -- we recommend using `max_new_tokens` to control the maximum length of the generation.\n",
            "  warnings.warn(\n",
            "/usr/local/envs/ssa/lib/python3.8/site-packages/transformers/generation/utils.py:1288: UserWarning: Using `max_length`'s default (20) to control the generation length. This behaviour is deprecated and will be removed from the config in v5 of Transformers -- we recommend using `max_new_tokens` to control the maximum length of the generation.\n",
            "  warnings.warn(\n"
          ]
        }
      ]
    },
    {
      "cell_type": "code",
      "source": [
        "#压缩下载\n",
        "!zip -r output.zip output"
      ],
      "metadata": {
        "colab": {
          "base_uri": "https://localhost:8080/"
        },
        "id": "Yrw7GpFNJTsA",
        "outputId": "37fa50ff-1cde-4c3a-c805-e546d5e1b74d"
      },
      "execution_count": 30,
      "outputs": [
        {
          "output_type": "stream",
          "name": "stdout",
          "text": [
            "  adding: output/ (stored 0%)\n",
            "  adding: output/ADE_val_3_semantic.json (deflated 76%)\n",
            "  adding: output/ADE_train_2_semantic.json (deflated 75%)\n",
            "  adding: output/ADE_train_2_semantic.png (deflated 4%)\n",
            "  adding: output/ADE_train_1_semantic.json (deflated 76%)\n",
            "  adding: output/ADE_train_1_semantic.png (deflated 4%)\n",
            "  adding: output/ADE_val_3_semantic.png (deflated 4%)\n"
          ]
        }
      ]
    }
  ],
  "metadata": {
    "colab": {
      "provenance": [],
      "gpuType": "V100",
      "machine_shape": "hm"
    },
    "kernelspec": {
      "display_name": "Python 3",
      "name": "python3"
    },
    "language_info": {
      "name": "python"
    },
    "accelerator": "GPU"
  },
  "nbformat": 4,
  "nbformat_minor": 0
}